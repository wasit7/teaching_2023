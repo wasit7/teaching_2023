{
 "cells": [
  {
   "cell_type": "markdown",
   "id": "98e66bcb-70bc-474d-b8ce-48c4124928aa",
   "metadata": {},
   "source": [
    "## 1. API request"
   ]
  },
  {
   "cell_type": "code",
   "execution_count": 10,
   "id": "2d530f16-4ece-43b8-ba3b-45b0bd01ed2f",
   "metadata": {},
   "outputs": [],
   "source": [
    "from bs4 import BeautifulSoup\n",
    "import requests\n",
    "import pandas as pd\n",
    "response = requests.get('https://www.ditp.go.th/wp-json/ditp/v1/posts?offset=0&limit=20')\n",
    "j=response.json()"
   ]
  },
  {
   "cell_type": "code",
   "execution_count": 12,
   "id": "a04e2137-fb88-423c-b7db-c2641af93335",
   "metadata": {},
   "outputs": [
    {
     "data": {
      "text/html": [
       "<div>\n",
       "<style scoped>\n",
       "    .dataframe tbody tr th:only-of-type {\n",
       "        vertical-align: middle;\n",
       "    }\n",
       "\n",
       "    .dataframe tbody tr th {\n",
       "        vertical-align: top;\n",
       "    }\n",
       "\n",
       "    .dataframe thead th {\n",
       "        text-align: right;\n",
       "    }\n",
       "</style>\n",
       "<table border=\"1\" class=\"dataframe\">\n",
       "  <thead>\n",
       "    <tr style=\"text-align: right;\">\n",
       "      <th></th>\n",
       "      <th>title</th>\n",
       "      <th>publishdate</th>\n",
       "      <th>url</th>\n",
       "      <th>pdf</th>\n",
       "    </tr>\n",
       "  </thead>\n",
       "  <tbody>\n",
       "    <tr>\n",
       "      <th>15</th>\n",
       "      <td>สถานการณ์เศรษฐกิจการค้าการลงทุน:  บริษัท และอง...</td>\n",
       "      <td>2566-11-01 21:51:16</td>\n",
       "      <td>https://www.ditp.go.th/post/151577</td>\n",
       "      <td>None</td>\n",
       "    </tr>\n",
       "    <tr>\n",
       "      <th>16</th>\n",
       "      <td>รายงานสถานการณ์เศรษฐกิจการค้าระหว่างประเทศของส...</td>\n",
       "      <td>2566-11-01 14:27:03</td>\n",
       "      <td>https://www.ditp.go.th/post/151531</td>\n",
       "      <td>None</td>\n",
       "    </tr>\n",
       "    <tr>\n",
       "      <th>17</th>\n",
       "      <td>อินเดียกำลังจะเป็นตลาดที่ใหญ่ที่สุดสำหรับเพชรแ...</td>\n",
       "      <td>2566-11-01 14:22:17</td>\n",
       "      <td>https://www.ditp.go.th/post/151538</td>\n",
       "      <td>None</td>\n",
       "    </tr>\n",
       "  </tbody>\n",
       "</table>\n",
       "</div>"
      ],
      "text/plain": [
       "                                                title          publishdate  \\\n",
       "15  สถานการณ์เศรษฐกิจการค้าการลงทุน:  บริษัท และอง...  2566-11-01 21:51:16   \n",
       "16  รายงานสถานการณ์เศรษฐกิจการค้าระหว่างประเทศของส...  2566-11-01 14:27:03   \n",
       "17  อินเดียกำลังจะเป็นตลาดที่ใหญ่ที่สุดสำหรับเพชรแ...  2566-11-01 14:22:17   \n",
       "\n",
       "                                   url   pdf  \n",
       "15  https://www.ditp.go.th/post/151577  None  \n",
       "16  https://www.ditp.go.th/post/151531  None  \n",
       "17  https://www.ditp.go.th/post/151538  None  "
      ]
     },
     "execution_count": 12,
     "metadata": {},
     "output_type": "execute_result"
    }
   ],
   "source": [
    "data=[]\n",
    "for i in j['data']:\n",
    "    d={\n",
    "        'title':i['Title'],\n",
    "        'publishdate':i['PublishDate'],\n",
    "        'url':i['URL'],\n",
    "        'pdf':i['PDF'],\n",
    "    }\n",
    "    data.append(d)\n",
    "df=pd.DataFrame.from_dict(data)\n",
    "df2=df[df['pdf']!=df['pdf']]\n",
    "df2"
   ]
  },
  {
   "cell_type": "markdown",
   "id": "a900f787-6f35-4dd6-93a2-69b989abcb5f",
   "metadata": {},
   "source": [
    "## 2.Scrap content from a website"
   ]
  },
  {
   "cell_type": "code",
   "execution_count": 15,
   "id": "e236b5c2-3061-4646-b234-c1a86a5f470d",
   "metadata": {},
   "outputs": [
    {
     "data": {
      "text/plain": [
       "'บริษัทจำหน่ายของขวัญวันคริสต์มาสสำหรับองค์กรจากเดนมาร์ก บริษัท Gavefabrikken ให้ข้อมูลว่า บริษัทฯ สามารถทำยอดขายเติบโตสูงสุดเป็นประวัติการณ์ตลอดช่วง 14 ปีติดต่อกัน\\nบริษัท Gavefabrikken คือ บริษัทซัพพลายเออร์จำหน่ายของขวัญคริสต์มาสสำหรับองค์กรรายใหญ่ที่สุดในกลุ่มประเทศนอร์ดิก ประธานบริหารตำแหน่ง CEO ให้ข้อมูลว่า ถึงแม้ว่าบริษัทจะเผชิญกับความท้าทายในตลาดสวีเดน แต่ผลประกอบการโดยรวมเป็นที่น่าพอใจ โดยปี 2565 สามารถทำยอดขายได้ 356 ล้านโครนเดนมาร์ก (ประมาณ 50.51 ล้านเหรียญสหรัฐ) ขยายตัวร้อยละ 9 เมื่อเทียบกับปีที่ผ่านมา\\nบริษัท Gavefabrikken ก่อตั้งในปี 2551 โดยผู้บริหารคนปัจจุบัน จำหน่ายของขวัญให้กับบริษัท และองค์กรต่างๆ ในเดนมาร์กมากกว่า 1 ล้านชิ้น นอกจากตลาดเดนมาร์กแล้ว บริษัทฯ ยังขยายตลาดไปยังนอร์เวย์ และสวีเดน ปัจจุบันมีพนักงาน 80 ราย\\nจากข้อมูลของบริษัทฯ การเติบโตของยอดขายนี้มาจาก 2 ปัจจัยหลัก คือ งบประมาณของขวัญของบริษัทต่างๆ ที่เพิ่มขึ้น และการประสบความสำเร็จในการขยายส่วนแบ่งตลาดในเดนมาร์ก โดยในปี 2566 นี้ ลูกค้าให้ความสำคัญกับคุณภาพของสินค้ามากขึ้น สินค้าที่โดดเด่นด้านการออกแบบ เช่น เก้าอี้ Arne Jacobsen โคมไฟ Panthella หม้อทอดไร้น้ำมัน และแปรงสีฟันไฟฟ้าเป็นสินค้าที่ได้รับความนิยมในปีนี้ ซึ่งเห็นได้ชัดจากจำนวนคำสั่งซื้อสินค้าที่เข้ามาเป็นจำนวนมาก\\nถึงแม้ว่าตลาดสวีเดนจะเป็นตลาดที่ท้าทายในปีนี้อันเนื่องมาจากค่าเงินโครนสวีเดนที่อ่อนลงอย่างมาก ราคาสินค้าทั่วไปในสวีเดนพุ่งสูงขึ้น แต่บริษัทฯ ยืนยันว่า จะไม่ขึ้นราคาสินค้า และบริษัทฯ คาดการณ์ว่า ผลประกอบการจะไม่ติดลบอย่างแน่นอน โดยบริษัทฯ ได้ริเริ่มโครงการ และกำหนดเป้าหมายใหม่ในสวีเดน รวมทั้งกำลังพิจารณาการเปิดตลาดใหม่ในฟินแลนด์ และเนเธอร์แลนด์ด้วย\\nจากผลประกอบการของบริษัท Gavefabrikken นี้ นักเศรษฐศาสตร์จากธนาคาร Danske Bank ได้ออกมาวิเคราะห์ว่า ปัจจัยเสริมอีก 2 ปัจจัยที่อาจมีส่วนในการขยายตัว คือ อัตราว่างงานในเดนมาร์กที่อยู่ในระดับต่ำ เกิดการขาดแคลนแรงงานในหลายอุตสาหกรรม ทำให้บริษัท และองค์กรต่างๆ ในเดนมาร์กจึงสร้างแรงจูงใจในการทำงานเพื่อให้พนักงงานในองค์อยู่กับบริษัทนั้นๆ นอกจากนี้ บริษัท และองค์กรต่างๆ ในเดนมาร์กยังคงระมัดระวังค่าใช้จ่ายที่อัตราค่าจ้าง และค่าแรงในตลาดพุ่งสูงขึ้น ของขวัญคริสต์มาสจึงสามารถเป็นส่วนหนึ่งที่สามารถทดแทนได้ ซึ่งเป็นอีกวิธีหนึ่งในการแก้ปัญหาในธุรกิจ\\nแหล่งข่าว: Børsen\\nบทวิเคราะห์ผลกระทบต่อไทย ข้อเสนอแนะ โอกาสและแนวทาง และความคิดเห็นของสคต.:\\n• การให้ของขวัญวันคริสต์มาสแก่พนักงานภายในบริษัท/องค์กรเป็นธรรมเนียมการปฏิบัติในเดนมาร์ก และกลุ่มประเทศนอร์ดิกทุกปี จากพฤติกรรมการบริโภคที่ชาวเดนมาร์กนิยมการตกแต่งบ้าน และเนื่องจากอากาศที่หนาวเย็นภายนอกบ้าน จึงมีความจำเป็นต้องใช้เวลาภายในบ้านในช่วงคริสต์มาส และฤดูหนาวเป็นส่วนใหญ่ ของขวัญคริสต์มาสที่บริษัท/องค์กรนิยมให้กับพนักงานโดยมากจึงเป็นกลุ่มของตกแต่งบ้าน และเครื่องใช้บนโต๊ะอาหารที่ทุกคนสามารถนำไปใช้ได้ทั่วไป นอกจากนี้ยังมีสินค้ากลุ่มอื่นๆ เช่น ช็อกโกแลต หนังสือ และเครื่องดื่ม เป็นต้น\\n• เครื่องใช้บนโต๊ะอาหารที่นิยมในตลาดเดนมาร์ก เช่น เครื่องแก้ว เซรามิค Porcelain โดยมีการออกแบบ และสีสันเปลี่ยนแปลงไปตามความนิยม มีลักษณะ Clean & Clear\\n• สิ่งสำคัญที่ผู้นำเข้าเดนมาร์กให้ความสำคัญ และต้องการจากซัพพลายเออร์ คือ งานฝีมือ และคุณภาพของผลิตภัณฑ์ที่ต้องอยู่ระดับที่ดี (Craftmanship & quality of the products) มีความใส่ใจในรายละเอียดของสินค้า (Look for the details) มีความน่าเชื่อถือและการส่งมอบทันเวลา (Reliability and Timely Delivery) รวมทั้งบริษัทซัพพลายเออร์ต้องมีกระบวนการผลิตที่ยั่งยืน และมีจริยธรรม (Sustainability and ethical practices) เช่น ไม้ที่ผ่านการรับรอง FSC และมีการระบุการกำจัดบรรจุภัณฑ์ที่ไม่ทำลายสิ่งแวดล้อม เป็นต้น\\nสมัครรับข้อมูลข่าวสาร\\nกรมส่งเสริมการค้าระหว่างประเทศ กระทรวงพาณิชย์563 ถนน นนทบุรี ตำบล บางกระสอ อำเภอเมืองนนทบุรี นนทบุรี 11000โทรศัพท์: 02-507-7999สายตรงการค้าระหว่างประเทศ: 1169\\nเกี่ยวกับกรมกิจกรรมส่งเสริมการค้าระหว่างประเทศของกรมe-ServicesThaitradeสร้างมูลค่าเพิ่ม/พัฒนาสินค้า ขั้นตอนการส่งออกรายสินค้า สถานการณ์การค้าในต่างประเทศสมัครสมาชิกกรมติดต่อกรม'"
      ]
     },
     "execution_count": 15,
     "metadata": {},
     "output_type": "execute_result"
    }
   ],
   "source": [
    "url='https://www.ditp.go.th/post/151577'\n",
    "html=requests.get(url).text\n",
    "soup = BeautifulSoup(html, \"html.parser\")\n",
    "texts = soup.find_all('p')\n",
    "l=[text.get_text() for text in texts]\n",
    "content=\"\\n\".join(l)\n",
    "content"
   ]
  },
  {
   "cell_type": "markdown",
   "id": "bf4be576-1407-48d7-8106-efba5b7fee4f",
   "metadata": {},
   "source": [
    "## 3.Using Monad"
   ]
  },
  {
   "cell_type": "code",
   "execution_count": 16,
   "id": "48f1c665-f1c9-4936-b991-9364cb952a23",
   "metadata": {},
   "outputs": [],
   "source": [
    "import requests\n",
    "\n",
    "class Result:\n",
    "    def __init__(self, value=None, error=None):\n",
    "        self.value = value\n",
    "        self.error = error\n",
    "\n",
    "    @classmethod\n",
    "    def of(cls, func, *args, **kwargs):\n",
    "        try:\n",
    "            return cls(value=func(*args, **kwargs))\n",
    "        except Exception as e:\n",
    "            return cls(error=str(e))\n",
    "\n",
    "    @staticmethod\n",
    "    def success(x):\n",
    "        return Result(value=x)\n",
    "\n",
    "    @staticmethod\n",
    "    def failure(error):\n",
    "        return Result(error=error)\n",
    "\n",
    "    def is_error(self):\n",
    "        return self.error is not None\n",
    "    \n",
    "    def bind(self, func):\n",
    "        if self.is_error():\n",
    "            return self\n",
    "        return Result.of(func, self.value)\n",
    "\n",
    "    def __repr__(self):\n",
    "        if self.is_error():\n",
    "            return f\"Error({self.error})\"\n",
    "        return f\"Success({self.value})\"\n",
    "    \n",
    "    \n",
    "def resultify(func):\n",
    "    def wrapper(*args, **kwargs):\n",
    "        return Result.of(func, *args, **kwargs)\n",
    "    return wrapper"
   ]
  },
  {
   "cell_type": "code",
   "execution_count": 17,
   "id": "c3d5e6fe-661e-4c57-97c9-6a7c8e162aaf",
   "metadata": {},
   "outputs": [],
   "source": [
    "@resultify\n",
    "def get_content(url):\n",
    "    html=requests.get(url).text\n",
    "    soup = BeautifulSoup(html, \"html.parser\")\n",
    "    texts = soup.find_all('p')\n",
    "    l=[text.get_text() for text in texts]\n",
    "    content=\"\\n\".join(l)\n",
    "    return content"
   ]
  },
  {
   "cell_type": "code",
   "execution_count": 20,
   "id": "4b0be1f0-4d98-4663-a41a-edf6a0431453",
   "metadata": {},
   "outputs": [
    {
     "data": {
      "text/plain": [
       "0     Success(สมัครรับข้อมูลข่าวสาร\\nกรมส่งเสริมการค...\n",
       "1     Success(สมัครรับข้อมูลข่าวสาร\\nกรมส่งเสริมการค...\n",
       "2     Success(สมัครรับข้อมูลข่าวสาร\\nกรมส่งเสริมการค...\n",
       "3     Success(สมัครรับข้อมูลข่าวสาร\\nกรมส่งเสริมการค...\n",
       "4     Success(สมัครรับข้อมูลข่าวสาร\\nกรมส่งเสริมการค...\n",
       "5     Success(สมัครรับข้อมูลข่าวสาร\\nกรมส่งเสริมการค...\n",
       "6     Success(สมัครรับข้อมูลข่าวสาร\\nกรมส่งเสริมการค...\n",
       "7     Success(สมัครรับข้อมูลข่าวสาร\\nกรมส่งเสริมการค...\n",
       "8     Success(สมัครรับข้อมูลข่าวสาร\\nกรมส่งเสริมการค...\n",
       "9     Success(สมัครรับข้อมูลข่าวสาร\\nกรมส่งเสริมการค...\n",
       "10    Success(สมัครรับข้อมูลข่าวสาร\\nกรมส่งเสริมการค...\n",
       "11    Success(สมัครรับข้อมูลข่าวสาร\\nกรมส่งเสริมการค...\n",
       "12    Success(สมัครรับข้อมูลข่าวสาร\\nกรมส่งเสริมการค...\n",
       "13    Success(สมัครรับข้อมูลข่าวสาร\\nกรมส่งเสริมการค...\n",
       "14    Success(สมัครรับข้อมูลข่าวสาร\\nกรมส่งเสริมการค...\n",
       "15    Success(บริษัทจำหน่ายของขวัญวันคริสต์มาสสำหรับ...\n",
       "16    Success(รัฐบาลเมียนมาออกประกาศเมื่อวันที่ 25 ต...\n",
       "17    Success( อินเดียกำลังจะเป็นตลาดที่ใหญ่ที่สุดสำ...\n",
       "18    Success(สมัครรับข้อมูลข่าวสาร\\nกรมส่งเสริมการค...\n",
       "19    Success(สมัครรับข้อมูลข่าวสาร\\nกรมส่งเสริมการค...\n",
       "Name: url, dtype: object"
      ]
     },
     "execution_count": 20,
     "metadata": {},
     "output_type": "execute_result"
    }
   ],
   "source": [
    "df['url'].apply(get_content)"
   ]
  },
  {
   "cell_type": "code",
   "execution_count": 25,
   "id": "74a8d8cb-76b9-4ce0-bc41-496610d508ad",
   "metadata": {},
   "outputs": [],
   "source": [
    "df3=df2\n",
    "df3.loc[:,'content']=df2['url'].apply(get_content)"
   ]
  },
  {
   "cell_type": "code",
   "execution_count": 26,
   "id": "007682b3-f302-4291-939c-cf24c3867457",
   "metadata": {},
   "outputs": [
    {
     "data": {
      "text/html": [
       "<div>\n",
       "<style scoped>\n",
       "    .dataframe tbody tr th:only-of-type {\n",
       "        vertical-align: middle;\n",
       "    }\n",
       "\n",
       "    .dataframe tbody tr th {\n",
       "        vertical-align: top;\n",
       "    }\n",
       "\n",
       "    .dataframe thead th {\n",
       "        text-align: right;\n",
       "    }\n",
       "</style>\n",
       "<table border=\"1\" class=\"dataframe\">\n",
       "  <thead>\n",
       "    <tr style=\"text-align: right;\">\n",
       "      <th></th>\n",
       "      <th>title</th>\n",
       "      <th>publishdate</th>\n",
       "      <th>url</th>\n",
       "      <th>pdf</th>\n",
       "      <th>content</th>\n",
       "    </tr>\n",
       "  </thead>\n",
       "  <tbody>\n",
       "    <tr>\n",
       "      <th>15</th>\n",
       "      <td>สถานการณ์เศรษฐกิจการค้าการลงทุน:  บริษัท และอง...</td>\n",
       "      <td>2566-11-01 21:51:16</td>\n",
       "      <td>https://www.ditp.go.th/post/151577</td>\n",
       "      <td>None</td>\n",
       "      <td>Success(บริษัทจำหน่ายของขวัญวันคริสต์มาสสำหรับ...</td>\n",
       "    </tr>\n",
       "    <tr>\n",
       "      <th>16</th>\n",
       "      <td>รายงานสถานการณ์เศรษฐกิจการค้าระหว่างประเทศของส...</td>\n",
       "      <td>2566-11-01 14:27:03</td>\n",
       "      <td>https://www.ditp.go.th/post/151531</td>\n",
       "      <td>None</td>\n",
       "      <td>Success(รัฐบาลเมียนมาออกประกาศเมื่อวันที่ 25 ต...</td>\n",
       "    </tr>\n",
       "    <tr>\n",
       "      <th>17</th>\n",
       "      <td>อินเดียกำลังจะเป็นตลาดที่ใหญ่ที่สุดสำหรับเพชรแ...</td>\n",
       "      <td>2566-11-01 14:22:17</td>\n",
       "      <td>https://www.ditp.go.th/post/151538</td>\n",
       "      <td>None</td>\n",
       "      <td>Success( อินเดียกำลังจะเป็นตลาดที่ใหญ่ที่สุดสำ...</td>\n",
       "    </tr>\n",
       "  </tbody>\n",
       "</table>\n",
       "</div>"
      ],
      "text/plain": [
       "                                                title          publishdate  \\\n",
       "15  สถานการณ์เศรษฐกิจการค้าการลงทุน:  บริษัท และอง...  2566-11-01 21:51:16   \n",
       "16  รายงานสถานการณ์เศรษฐกิจการค้าระหว่างประเทศของส...  2566-11-01 14:27:03   \n",
       "17  อินเดียกำลังจะเป็นตลาดที่ใหญ่ที่สุดสำหรับเพชรแ...  2566-11-01 14:22:17   \n",
       "\n",
       "                                   url   pdf  \\\n",
       "15  https://www.ditp.go.th/post/151577  None   \n",
       "16  https://www.ditp.go.th/post/151531  None   \n",
       "17  https://www.ditp.go.th/post/151538  None   \n",
       "\n",
       "                                              content  \n",
       "15  Success(บริษัทจำหน่ายของขวัญวันคริสต์มาสสำหรับ...  \n",
       "16  Success(รัฐบาลเมียนมาออกประกาศเมื่อวันที่ 25 ต...  \n",
       "17  Success( อินเดียกำลังจะเป็นตลาดที่ใหญ่ที่สุดสำ...  "
      ]
     },
     "execution_count": 26,
     "metadata": {},
     "output_type": "execute_result"
    }
   ],
   "source": [
    "df3"
   ]
  },
  {
   "cell_type": "code",
   "execution_count": null,
   "id": "48872ea8-124e-4ad6-95d4-9bda850c888d",
   "metadata": {},
   "outputs": [],
   "source": []
  }
 ],
 "metadata": {
  "kernelspec": {
   "display_name": "Python 3 (ipykernel)",
   "language": "python",
   "name": "python3"
  },
  "language_info": {
   "codemirror_mode": {
    "name": "ipython",
    "version": 3
   },
   "file_extension": ".py",
   "mimetype": "text/x-python",
   "name": "python",
   "nbconvert_exporter": "python",
   "pygments_lexer": "ipython3",
   "version": "3.10.13"
  }
 },
 "nbformat": 4,
 "nbformat_minor": 5
}
