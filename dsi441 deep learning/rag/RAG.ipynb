{
 "cells": [
  {
   "cell_type": "markdown",
   "id": "5151afed",
   "metadata": {},
   "source": [
    "# Retrieval-augmented generation (RAG)\n"
   ]
  },
  {
   "cell_type": "code",
   "execution_count": 1,
   "id": "e14b744b",
   "metadata": {},
   "outputs": [
    {
     "name": "stdout",
     "output_type": "stream",
     "text": [
      "Requirement already satisfied: langchain==0.0.331 in /home/wasit/miniconda3/envs/teaching_2023/lib/python3.10/site-packages (0.0.331)\n",
      "Requirement already satisfied: langchainhub in /home/wasit/miniconda3/envs/teaching_2023/lib/python3.10/site-packages (0.1.13)\n",
      "Requirement already satisfied: PyYAML>=5.3 in /home/wasit/miniconda3/envs/teaching_2023/lib/python3.10/site-packages (from langchain==0.0.331) (6.0.1)\n",
      "Requirement already satisfied: SQLAlchemy<3,>=1.4 in /home/wasit/miniconda3/envs/teaching_2023/lib/python3.10/site-packages (from langchain==0.0.331) (2.0.23)\n",
      "Requirement already satisfied: aiohttp<4.0.0,>=3.8.3 in /home/wasit/miniconda3/envs/teaching_2023/lib/python3.10/site-packages (from langchain==0.0.331) (3.8.6)\n",
      "Requirement already satisfied: anyio<4.0 in /home/wasit/miniconda3/envs/teaching_2023/lib/python3.10/site-packages (from langchain==0.0.331) (3.7.1)\n",
      "Requirement already satisfied: async-timeout<5.0.0,>=4.0.0 in /home/wasit/miniconda3/envs/teaching_2023/lib/python3.10/site-packages (from langchain==0.0.331) (4.0.3)\n",
      "Requirement already satisfied: dataclasses-json<0.7,>=0.5.7 in /home/wasit/miniconda3/envs/teaching_2023/lib/python3.10/site-packages (from langchain==0.0.331) (0.6.1)\n",
      "Requirement already satisfied: jsonpatch<2.0,>=1.33 in /home/wasit/miniconda3/envs/teaching_2023/lib/python3.10/site-packages (from langchain==0.0.331) (1.33)\n",
      "Requirement already satisfied: langsmith<0.1.0,>=0.0.52 in /home/wasit/miniconda3/envs/teaching_2023/lib/python3.10/site-packages (from langchain==0.0.331) (0.0.59)\n",
      "Requirement already satisfied: numpy<2,>=1 in /home/wasit/miniconda3/envs/teaching_2023/lib/python3.10/site-packages (from langchain==0.0.331) (1.26.1)\n",
      "Requirement already satisfied: pydantic<3,>=1 in /home/wasit/miniconda3/envs/teaching_2023/lib/python3.10/site-packages (from langchain==0.0.331) (2.4.2)\n",
      "Requirement already satisfied: requests<3,>=2 in /home/wasit/miniconda3/envs/teaching_2023/lib/python3.10/site-packages (from langchain==0.0.331) (2.31.0)\n",
      "Requirement already satisfied: tenacity<9.0.0,>=8.1.0 in /home/wasit/miniconda3/envs/teaching_2023/lib/python3.10/site-packages (from langchain==0.0.331) (8.2.3)\n",
      "Requirement already satisfied: types-requests<3.0.0.0,>=2.31.0.2 in /home/wasit/miniconda3/envs/teaching_2023/lib/python3.10/site-packages (from langchainhub) (2.31.0.10)\n",
      "Requirement already satisfied: attrs>=17.3.0 in /home/wasit/miniconda3/envs/teaching_2023/lib/python3.10/site-packages (from aiohttp<4.0.0,>=3.8.3->langchain==0.0.331) (23.1.0)\n",
      "Requirement already satisfied: charset-normalizer<4.0,>=2.0 in /home/wasit/miniconda3/envs/teaching_2023/lib/python3.10/site-packages (from aiohttp<4.0.0,>=3.8.3->langchain==0.0.331) (3.3.2)\n",
      "Requirement already satisfied: multidict<7.0,>=4.5 in /home/wasit/miniconda3/envs/teaching_2023/lib/python3.10/site-packages (from aiohttp<4.0.0,>=3.8.3->langchain==0.0.331) (6.0.4)\n",
      "Requirement already satisfied: yarl<2.0,>=1.0 in /home/wasit/miniconda3/envs/teaching_2023/lib/python3.10/site-packages (from aiohttp<4.0.0,>=3.8.3->langchain==0.0.331) (1.9.2)\n",
      "Requirement already satisfied: frozenlist>=1.1.1 in /home/wasit/miniconda3/envs/teaching_2023/lib/python3.10/site-packages (from aiohttp<4.0.0,>=3.8.3->langchain==0.0.331) (1.4.0)\n",
      "Requirement already satisfied: aiosignal>=1.1.2 in /home/wasit/miniconda3/envs/teaching_2023/lib/python3.10/site-packages (from aiohttp<4.0.0,>=3.8.3->langchain==0.0.331) (1.3.1)\n",
      "Requirement already satisfied: idna>=2.8 in /home/wasit/miniconda3/envs/teaching_2023/lib/python3.10/site-packages (from anyio<4.0->langchain==0.0.331) (3.4)\n",
      "Requirement already satisfied: sniffio>=1.1 in /home/wasit/miniconda3/envs/teaching_2023/lib/python3.10/site-packages (from anyio<4.0->langchain==0.0.331) (1.3.0)\n",
      "Requirement already satisfied: exceptiongroup in /home/wasit/miniconda3/envs/teaching_2023/lib/python3.10/site-packages (from anyio<4.0->langchain==0.0.331) (1.1.3)\n",
      "Requirement already satisfied: marshmallow<4.0.0,>=3.18.0 in /home/wasit/miniconda3/envs/teaching_2023/lib/python3.10/site-packages (from dataclasses-json<0.7,>=0.5.7->langchain==0.0.331) (3.20.1)\n",
      "Requirement already satisfied: typing-inspect<1,>=0.4.0 in /home/wasit/miniconda3/envs/teaching_2023/lib/python3.10/site-packages (from dataclasses-json<0.7,>=0.5.7->langchain==0.0.331) (0.9.0)\n",
      "Requirement already satisfied: jsonpointer>=1.9 in /home/wasit/miniconda3/envs/teaching_2023/lib/python3.10/site-packages (from jsonpatch<2.0,>=1.33->langchain==0.0.331) (2.4)\n",
      "Requirement already satisfied: annotated-types>=0.4.0 in /home/wasit/miniconda3/envs/teaching_2023/lib/python3.10/site-packages (from pydantic<3,>=1->langchain==0.0.331) (0.6.0)\n",
      "Requirement already satisfied: pydantic-core==2.10.1 in /home/wasit/miniconda3/envs/teaching_2023/lib/python3.10/site-packages (from pydantic<3,>=1->langchain==0.0.331) (2.10.1)\n",
      "Requirement already satisfied: typing-extensions>=4.6.1 in /home/wasit/miniconda3/envs/teaching_2023/lib/python3.10/site-packages (from pydantic<3,>=1->langchain==0.0.331) (4.8.0)\n",
      "Requirement already satisfied: urllib3<3,>=1.21.1 in /home/wasit/miniconda3/envs/teaching_2023/lib/python3.10/site-packages (from requests<3,>=2->langchain==0.0.331) (2.0.7)\n",
      "Requirement already satisfied: certifi>=2017.4.17 in /home/wasit/miniconda3/envs/teaching_2023/lib/python3.10/site-packages (from requests<3,>=2->langchain==0.0.331) (2023.7.22)\n",
      "Requirement already satisfied: greenlet!=0.4.17 in /home/wasit/miniconda3/envs/teaching_2023/lib/python3.10/site-packages (from SQLAlchemy<3,>=1.4->langchain==0.0.331) (2.0.1)\n",
      "Requirement already satisfied: packaging>=17.0 in /home/wasit/miniconda3/envs/teaching_2023/lib/python3.10/site-packages (from marshmallow<4.0.0,>=3.18.0->dataclasses-json<0.7,>=0.5.7->langchain==0.0.331) (23.2)\n",
      "Requirement already satisfied: mypy-extensions>=0.3.0 in /home/wasit/miniconda3/envs/teaching_2023/lib/python3.10/site-packages (from typing-inspect<1,>=0.4.0->dataclasses-json<0.7,>=0.5.7->langchain==0.0.331) (1.0.0)\n",
      "\u001b[33mWARNING: There was an error checking the latest version of pip.\u001b[0m\u001b[33m\n",
      "\u001b[0m"
     ]
    }
   ],
   "source": [
    "!pip install langchain==0.0.331 langchainhub "
   ]
  },
  {
   "cell_type": "code",
   "execution_count": 2,
   "id": "7de1ee91-36f5-4cad-b901-4ca58f822785",
   "metadata": {},
   "outputs": [
    {
     "name": "stdout",
     "output_type": "stream",
     "text": [
      "Requirement already satisfied: openai==0.28.1 in /home/wasit/miniconda3/envs/teaching_2023/lib/python3.10/site-packages (0.28.1)\n",
      "Requirement already satisfied: requests>=2.20 in /home/wasit/miniconda3/envs/teaching_2023/lib/python3.10/site-packages (from openai==0.28.1) (2.31.0)\n",
      "Requirement already satisfied: tqdm in /home/wasit/miniconda3/envs/teaching_2023/lib/python3.10/site-packages (from openai==0.28.1) (4.66.1)\n",
      "Requirement already satisfied: aiohttp in /home/wasit/miniconda3/envs/teaching_2023/lib/python3.10/site-packages (from openai==0.28.1) (3.8.6)\n",
      "Requirement already satisfied: charset-normalizer<4,>=2 in /home/wasit/miniconda3/envs/teaching_2023/lib/python3.10/site-packages (from requests>=2.20->openai==0.28.1) (3.3.2)\n",
      "Requirement already satisfied: idna<4,>=2.5 in /home/wasit/miniconda3/envs/teaching_2023/lib/python3.10/site-packages (from requests>=2.20->openai==0.28.1) (3.4)\n",
      "Requirement already satisfied: urllib3<3,>=1.21.1 in /home/wasit/miniconda3/envs/teaching_2023/lib/python3.10/site-packages (from requests>=2.20->openai==0.28.1) (2.0.7)\n",
      "Requirement already satisfied: certifi>=2017.4.17 in /home/wasit/miniconda3/envs/teaching_2023/lib/python3.10/site-packages (from requests>=2.20->openai==0.28.1) (2023.7.22)\n",
      "Requirement already satisfied: attrs>=17.3.0 in /home/wasit/miniconda3/envs/teaching_2023/lib/python3.10/site-packages (from aiohttp->openai==0.28.1) (23.1.0)\n",
      "Requirement already satisfied: multidict<7.0,>=4.5 in /home/wasit/miniconda3/envs/teaching_2023/lib/python3.10/site-packages (from aiohttp->openai==0.28.1) (6.0.4)\n",
      "Requirement already satisfied: async-timeout<5.0,>=4.0.0a3 in /home/wasit/miniconda3/envs/teaching_2023/lib/python3.10/site-packages (from aiohttp->openai==0.28.1) (4.0.3)\n",
      "Requirement already satisfied: yarl<2.0,>=1.0 in /home/wasit/miniconda3/envs/teaching_2023/lib/python3.10/site-packages (from aiohttp->openai==0.28.1) (1.9.2)\n",
      "Requirement already satisfied: frozenlist>=1.1.1 in /home/wasit/miniconda3/envs/teaching_2023/lib/python3.10/site-packages (from aiohttp->openai==0.28.1) (1.4.0)\n",
      "Requirement already satisfied: aiosignal>=1.1.2 in /home/wasit/miniconda3/envs/teaching_2023/lib/python3.10/site-packages (from aiohttp->openai==0.28.1) (1.3.1)\n",
      "\u001b[33mWARNING: There was an error checking the latest version of pip.\u001b[0m\u001b[33m\n",
      "\u001b[0m"
     ]
    }
   ],
   "source": [
    "!pip install openai==0.28.1"
   ]
  },
  {
   "cell_type": "code",
   "execution_count": 3,
   "id": "2de0b8ff-456b-486a-bb46-d9758b92a138",
   "metadata": {},
   "outputs": [
    {
     "name": "stdout",
     "output_type": "stream",
     "text": [
      "Requirement already satisfied: faiss-cpu in /home/wasit/miniconda3/envs/teaching_2023/lib/python3.10/site-packages (1.7.4)\n",
      "Collecting tiktoken\n",
      "  Using cached tiktoken-0.5.1-cp310-cp310-manylinux_2_17_x86_64.manylinux2014_x86_64.whl.metadata (6.6 kB)\n",
      "Collecting regex>=2022.1.18 (from tiktoken)\n",
      "  Using cached regex-2023.10.3-cp310-cp310-manylinux_2_17_x86_64.manylinux2014_x86_64.whl.metadata (40 kB)\n",
      "Requirement already satisfied: requests>=2.26.0 in /home/wasit/miniconda3/envs/teaching_2023/lib/python3.10/site-packages (from tiktoken) (2.31.0)\n",
      "Requirement already satisfied: charset-normalizer<4,>=2 in /home/wasit/miniconda3/envs/teaching_2023/lib/python3.10/site-packages (from requests>=2.26.0->tiktoken) (3.3.2)\n",
      "Requirement already satisfied: idna<4,>=2.5 in /home/wasit/miniconda3/envs/teaching_2023/lib/python3.10/site-packages (from requests>=2.26.0->tiktoken) (3.4)\n",
      "Requirement already satisfied: urllib3<3,>=1.21.1 in /home/wasit/miniconda3/envs/teaching_2023/lib/python3.10/site-packages (from requests>=2.26.0->tiktoken) (2.0.7)\n",
      "Requirement already satisfied: certifi>=2017.4.17 in /home/wasit/miniconda3/envs/teaching_2023/lib/python3.10/site-packages (from requests>=2.26.0->tiktoken) (2023.7.22)\n",
      "Using cached tiktoken-0.5.1-cp310-cp310-manylinux_2_17_x86_64.manylinux2014_x86_64.whl (2.0 MB)\n",
      "Using cached regex-2023.10.3-cp310-cp310-manylinux_2_17_x86_64.manylinux2014_x86_64.whl (773 kB)\n",
      "Installing collected packages: regex, tiktoken\n",
      "Successfully installed regex-2023.10.3 tiktoken-0.5.1\n",
      "\u001b[33mWARNING: There was an error checking the latest version of pip.\u001b[0m\u001b[33m\n",
      "\u001b[0m"
     ]
    }
   ],
   "source": [
    "!pip install faiss-cpu tiktoken"
   ]
  },
  {
   "cell_type": "code",
   "execution_count": 4,
   "id": "e89a56f1-5be5-4af4-baf7-af1e30c4f3ac",
   "metadata": {},
   "outputs": [
    {
     "name": "stdout",
     "output_type": "stream",
     "text": [
      "Requirement already satisfied: python-dotenv in /home/wasit/miniconda3/envs/teaching_2023/lib/python3.10/site-packages (1.0.0)\n",
      "\u001b[33mWARNING: There was an error checking the latest version of pip.\u001b[0m\u001b[33m\n",
      "\u001b[0m"
     ]
    }
   ],
   "source": [
    "!pip install python-dotenv "
   ]
  },
  {
   "cell_type": "code",
   "execution_count": 5,
   "id": "79cb5724-a412-4876-a1f0-8ae93fc05838",
   "metadata": {},
   "outputs": [
    {
     "name": "stdout",
     "output_type": "stream",
     "text": [
      "Collecting scikit-learn\n",
      "  Using cached scikit_learn-1.3.2-cp310-cp310-manylinux_2_17_x86_64.manylinux2014_x86_64.whl.metadata (11 kB)\n",
      "Requirement already satisfied: numpy<2.0,>=1.17.3 in /home/wasit/miniconda3/envs/teaching_2023/lib/python3.10/site-packages (from scikit-learn) (1.26.1)\n",
      "Collecting scipy>=1.5.0 (from scikit-learn)\n",
      "  Using cached scipy-1.11.3-cp310-cp310-manylinux_2_17_x86_64.manylinux2014_x86_64.whl.metadata (60 kB)\n",
      "Collecting joblib>=1.1.1 (from scikit-learn)\n",
      "  Using cached joblib-1.3.2-py3-none-any.whl.metadata (5.4 kB)\n",
      "Collecting threadpoolctl>=2.0.0 (from scikit-learn)\n",
      "  Using cached threadpoolctl-3.2.0-py3-none-any.whl.metadata (10.0 kB)\n",
      "Using cached scikit_learn-1.3.2-cp310-cp310-manylinux_2_17_x86_64.manylinux2014_x86_64.whl (10.8 MB)\n",
      "Using cached joblib-1.3.2-py3-none-any.whl (302 kB)\n",
      "Using cached scipy-1.11.3-cp310-cp310-manylinux_2_17_x86_64.manylinux2014_x86_64.whl (36.4 MB)\n",
      "Using cached threadpoolctl-3.2.0-py3-none-any.whl (15 kB)\n",
      "Installing collected packages: threadpoolctl, scipy, joblib, scikit-learn\n",
      "Successfully installed joblib-1.3.2 scikit-learn-1.3.2 scipy-1.11.3 threadpoolctl-3.2.0\n",
      "\u001b[33mWARNING: There was an error checking the latest version of pip.\u001b[0m\u001b[33m\n",
      "\u001b[0m"
     ]
    }
   ],
   "source": [
    "!pip install scikit-learn"
   ]
  },
  {
   "cell_type": "code",
   "execution_count": 6,
   "id": "9033ee6c-40e1-4ea9-956b-212e10b9b5c9",
   "metadata": {},
   "outputs": [
    {
     "name": "stdout",
     "output_type": "stream",
     "text": [
      "total 28\n",
      "drwxrwxr-x 3 wasit wasit  4096 Nov  8 14:22 \u001b[0m\u001b[01;34m.\u001b[0m/\n",
      "drwxrwxr-x 5 wasit wasit  4096 Nov  7 10:46 \u001b[01;34m..\u001b[0m/\n",
      "-rw-rw-r-- 1 wasit wasit    66 Nov  7 10:57 .env\n",
      "drwxrwxr-x 2 wasit wasit  4096 Nov  7 10:48 \u001b[01;34m.ipynb_checkpoints\u001b[0m/\n",
      "-rw-rw-r-- 1 wasit wasit 10668 Nov  8 14:22 RAG.ipynb\n"
     ]
    }
   ],
   "source": [
    "ls -la"
   ]
  },
  {
   "cell_type": "code",
   "execution_count": 7,
   "id": "a5f6b562-5e7a-4375-96d8-6503962b3f9f",
   "metadata": {},
   "outputs": [
    {
     "data": {
      "text/plain": [
       "True"
      ]
     },
     "execution_count": 7,
     "metadata": {},
     "output_type": "execute_result"
    }
   ],
   "source": [
    "# Set env var OPENAI_API_KEY or load from a .env file\n",
    "import dotenv\n",
    "\n",
    "dotenv.load_dotenv()"
   ]
  },
  {
   "cell_type": "code",
   "execution_count": 8,
   "id": "5e646a64-0c58-40e8-a399-0d54aa60820f",
   "metadata": {},
   "outputs": [],
   "source": [
    "from langchain.document_loaders import WebBaseLoader\n",
    "from langchain.text_splitter import RecursiveCharacterTextSplitter\n",
    "from langchain.vectorstores import FAISS\n",
    "from langchain.embeddings.openai import OpenAIEmbeddings\n",
    "from langchain.chat_models import ChatOpenAI\n",
    "from langchain.schema.runnable import RunnablePassthrough\n",
    "from langchain.prompts import PromptTemplate\n",
    "\n",
    "llm = ChatOpenAI(model_name=\"gpt-3.5-turbo-16k\", temperature=0)"
   ]
  },
  {
   "cell_type": "code",
   "execution_count": 16,
   "id": "bbaaf367-ae97-458b-a5c3-3f7b6126c7a9",
   "metadata": {},
   "outputs": [],
   "source": [
    "loader = WebBaseLoader(\"https://www.history.com/topics/ancient-rome/ancient-rome\")\n",
    "text_splitter = RecursiveCharacterTextSplitter(chunk_size=500, chunk_overlap=0)\n",
    "splits = text_splitter.split_documents(loader.load())"
   ]
  },
  {
   "cell_type": "code",
   "execution_count": 17,
   "id": "2fb739a6-d6e3-46ab-983b-58e5a1f905af",
   "metadata": {},
   "outputs": [],
   "source": [
    "vectorstore = FAISS.from_documents(documents=splits, embedding=OpenAIEmbeddings())\n",
    "# vectorstore.save_local('vector.db')\n",
    "# vectorstore=FAISS.load_local('vector.db', embeddings=OpenAIEmbeddings())\n",
    "retriever = vectorstore.as_retriever()"
   ]
  },
  {
   "cell_type": "code",
   "execution_count": 18,
   "id": "dc5fafd3-9ed3-4c24-863b-3ad89b7c3b2f",
   "metadata": {},
   "outputs": [],
   "source": [
    "# from langchain.retrievers import SVMRetriever\n",
    "# question=\"What are key facts from the articles?\"\n",
    "# svm_retriever = SVMRetriever.from_documents(splits, OpenAIEmbeddings())\n",
    "# docs_svm = svm_retriever.get_relevant_documents(question)\n",
    "# len(docs_svm)"
   ]
  },
  {
   "cell_type": "code",
   "execution_count": 19,
   "id": "ada5dee7-9653-4a5b-8eed-0376ea566507",
   "metadata": {},
   "outputs": [],
   "source": [
    "template = \"\"\"Use the following pieces of context to answer the question at the end. \n",
    "If you don't know the answer, just say that you don't know, don't try to make up an answer. \n",
    "Use five sentences maximum and keep the answer as concise as possible.\n",
    "{context}\n",
    "Question: {question}\n",
    "Helpful Answer:\"\"\"\n",
    "rag_prompt_custom = PromptTemplate.from_template(template)\n",
    "\n",
    "rag_chain = (\n",
    "    {\"context\": retriever, \"question\": RunnablePassthrough()} | rag_prompt_custom | llm\n",
    ")"
   ]
  },
  {
   "cell_type": "code",
   "execution_count": 20,
   "id": "e230626c-6173-400d-87a8-158db6f78454",
   "metadata": {},
   "outputs": [
    {
     "name": "stdout",
     "output_type": "stream",
     "text": [
      "The Roman Empire was founded in 27 B.C. and was a vast and powerful domain. It gave rise to the culture, laws, technologies, and institutions that continue to define Western civilization. The articles were written or edited by the HISTORY.com editors, including Amanda Onion, Missy Sullivan, Matt Mullen, and Christian Zapata. The articles provide information about Ancient Rome, including its location and timeline. The content is regularly reviewed and updated for accuracy and fairness.\n"
     ]
    }
   ],
   "source": [
    "print(rag_chain.invoke(\"What are key facts from the articles?\").content)"
   ]
  },
  {
   "cell_type": "code",
   "execution_count": 23,
   "id": "690aee77-8b55-4945-9510-691f1853687a",
   "metadata": {},
   "outputs": [
    {
     "name": "stdout",
     "output_type": "stream",
     "text": [
      "The Roman Empire fell due to a combination of factors including constant warfare, invasions by barbarian tribes, internal turmoil and political instability, widening wealth inequality, and the loss of provinces.\n"
     ]
    }
   ],
   "source": [
    "print(rag_chain.invoke(\"Why did the Roman empire fell?\").content)"
   ]
  },
  {
   "cell_type": "code",
   "execution_count": 15,
   "id": "91b85b87-af98-414b-9f74-572644dae005",
   "metadata": {},
   "outputs": [],
   "source": [
    "# from langchain.llms import GPT4All\n",
    "# local_path = (\n",
    "#     \"./models/ggml-gpt4all-l13b-snoozy.bin\"  # replace with your desired local file path\n",
    "# )\n",
    "\n",
    "# # Callbacks support token-wise streaming\n",
    "# callbacks = [StreamingStdOutCallbackHandler()]\n",
    "\n",
    "# # Verbose is required to pass to the callback manager\n",
    "# llm = GPT4All(model=local_path, callbacks=callbacks, verbose=True)"
   ]
  },
  {
   "cell_type": "code",
   "execution_count": null,
   "id": "e2a86f0d-9a77-4c61-9209-96b3c1f37136",
   "metadata": {},
   "outputs": [],
   "source": []
  },
  {
   "cell_type": "code",
   "execution_count": null,
   "id": "472e05fa-34d2-40c1-b5a0-92110ab608c9",
   "metadata": {},
   "outputs": [],
   "source": []
  },
  {
   "cell_type": "code",
   "execution_count": null,
   "id": "70f9b714-9e18-4ecb-8cd9-206733a7e66c",
   "metadata": {},
   "outputs": [],
   "source": []
  }
 ],
 "metadata": {
  "kernelspec": {
   "display_name": "Python 3 (ipykernel)",
   "language": "python",
   "name": "python3"
  },
  "language_info": {
   "codemirror_mode": {
    "name": "ipython",
    "version": 3
   },
   "file_extension": ".py",
   "mimetype": "text/x-python",
   "name": "python",
   "nbconvert_exporter": "python",
   "pygments_lexer": "ipython3",
   "version": "3.10.13"
  }
 },
 "nbformat": 4,
 "nbformat_minor": 5
}
