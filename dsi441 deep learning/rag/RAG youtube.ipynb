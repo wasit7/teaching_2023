{
 "cells": [
  {
   "cell_type": "markdown",
   "id": "5151afed",
   "metadata": {},
   "source": [
    "# Retrieval-augmented generation (RAG)\n"
   ]
  },
  {
   "cell_type": "code",
   "execution_count": 1,
   "id": "e14b744b",
   "metadata": {},
   "outputs": [
    {
     "name": "stdout",
     "output_type": "stream",
     "text": [
      "Requirement already satisfied: langchain==0.0.331 in /home/wasit/miniconda3/envs/teaching_2023/lib/python3.10/site-packages (0.0.331)\n",
      "Requirement already satisfied: langchainhub in /home/wasit/miniconda3/envs/teaching_2023/lib/python3.10/site-packages (0.1.13)\n",
      "Requirement already satisfied: PyYAML>=5.3 in /home/wasit/miniconda3/envs/teaching_2023/lib/python3.10/site-packages (from langchain==0.0.331) (6.0.1)\n",
      "Requirement already satisfied: SQLAlchemy<3,>=1.4 in /home/wasit/miniconda3/envs/teaching_2023/lib/python3.10/site-packages (from langchain==0.0.331) (2.0.23)\n",
      "Requirement already satisfied: aiohttp<4.0.0,>=3.8.3 in /home/wasit/miniconda3/envs/teaching_2023/lib/python3.10/site-packages (from langchain==0.0.331) (3.8.6)\n",
      "Requirement already satisfied: anyio<4.0 in /home/wasit/miniconda3/envs/teaching_2023/lib/python3.10/site-packages (from langchain==0.0.331) (3.7.1)\n",
      "Requirement already satisfied: async-timeout<5.0.0,>=4.0.0 in /home/wasit/miniconda3/envs/teaching_2023/lib/python3.10/site-packages (from langchain==0.0.331) (4.0.3)\n",
      "Requirement already satisfied: dataclasses-json<0.7,>=0.5.7 in /home/wasit/miniconda3/envs/teaching_2023/lib/python3.10/site-packages (from langchain==0.0.331) (0.6.1)\n",
      "Requirement already satisfied: jsonpatch<2.0,>=1.33 in /home/wasit/miniconda3/envs/teaching_2023/lib/python3.10/site-packages (from langchain==0.0.331) (1.33)\n",
      "Requirement already satisfied: langsmith<0.1.0,>=0.0.52 in /home/wasit/miniconda3/envs/teaching_2023/lib/python3.10/site-packages (from langchain==0.0.331) (0.0.59)\n",
      "Requirement already satisfied: numpy<2,>=1 in /home/wasit/miniconda3/envs/teaching_2023/lib/python3.10/site-packages (from langchain==0.0.331) (1.26.1)\n",
      "Requirement already satisfied: pydantic<3,>=1 in /home/wasit/miniconda3/envs/teaching_2023/lib/python3.10/site-packages (from langchain==0.0.331) (2.4.2)\n",
      "Requirement already satisfied: requests<3,>=2 in /home/wasit/miniconda3/envs/teaching_2023/lib/python3.10/site-packages (from langchain==0.0.331) (2.31.0)\n",
      "Requirement already satisfied: tenacity<9.0.0,>=8.1.0 in /home/wasit/miniconda3/envs/teaching_2023/lib/python3.10/site-packages (from langchain==0.0.331) (8.2.3)\n",
      "Requirement already satisfied: types-requests<3.0.0.0,>=2.31.0.2 in /home/wasit/miniconda3/envs/teaching_2023/lib/python3.10/site-packages (from langchainhub) (2.31.0.10)\n",
      "Requirement already satisfied: attrs>=17.3.0 in /home/wasit/miniconda3/envs/teaching_2023/lib/python3.10/site-packages (from aiohttp<4.0.0,>=3.8.3->langchain==0.0.331) (23.1.0)\n",
      "Requirement already satisfied: charset-normalizer<4.0,>=2.0 in /home/wasit/miniconda3/envs/teaching_2023/lib/python3.10/site-packages (from aiohttp<4.0.0,>=3.8.3->langchain==0.0.331) (3.3.2)\n",
      "Requirement already satisfied: multidict<7.0,>=4.5 in /home/wasit/miniconda3/envs/teaching_2023/lib/python3.10/site-packages (from aiohttp<4.0.0,>=3.8.3->langchain==0.0.331) (6.0.4)\n",
      "Requirement already satisfied: yarl<2.0,>=1.0 in /home/wasit/miniconda3/envs/teaching_2023/lib/python3.10/site-packages (from aiohttp<4.0.0,>=3.8.3->langchain==0.0.331) (1.9.2)\n",
      "Requirement already satisfied: frozenlist>=1.1.1 in /home/wasit/miniconda3/envs/teaching_2023/lib/python3.10/site-packages (from aiohttp<4.0.0,>=3.8.3->langchain==0.0.331) (1.4.0)\n",
      "Requirement already satisfied: aiosignal>=1.1.2 in /home/wasit/miniconda3/envs/teaching_2023/lib/python3.10/site-packages (from aiohttp<4.0.0,>=3.8.3->langchain==0.0.331) (1.3.1)\n",
      "Requirement already satisfied: idna>=2.8 in /home/wasit/miniconda3/envs/teaching_2023/lib/python3.10/site-packages (from anyio<4.0->langchain==0.0.331) (3.4)\n",
      "Requirement already satisfied: sniffio>=1.1 in /home/wasit/miniconda3/envs/teaching_2023/lib/python3.10/site-packages (from anyio<4.0->langchain==0.0.331) (1.3.0)\n",
      "Requirement already satisfied: exceptiongroup in /home/wasit/miniconda3/envs/teaching_2023/lib/python3.10/site-packages (from anyio<4.0->langchain==0.0.331) (1.1.3)\n",
      "Requirement already satisfied: marshmallow<4.0.0,>=3.18.0 in /home/wasit/miniconda3/envs/teaching_2023/lib/python3.10/site-packages (from dataclasses-json<0.7,>=0.5.7->langchain==0.0.331) (3.20.1)\n",
      "Requirement already satisfied: typing-inspect<1,>=0.4.0 in /home/wasit/miniconda3/envs/teaching_2023/lib/python3.10/site-packages (from dataclasses-json<0.7,>=0.5.7->langchain==0.0.331) (0.9.0)\n",
      "Requirement already satisfied: jsonpointer>=1.9 in /home/wasit/miniconda3/envs/teaching_2023/lib/python3.10/site-packages (from jsonpatch<2.0,>=1.33->langchain==0.0.331) (2.4)\n",
      "Requirement already satisfied: annotated-types>=0.4.0 in /home/wasit/miniconda3/envs/teaching_2023/lib/python3.10/site-packages (from pydantic<3,>=1->langchain==0.0.331) (0.6.0)\n",
      "Requirement already satisfied: pydantic-core==2.10.1 in /home/wasit/miniconda3/envs/teaching_2023/lib/python3.10/site-packages (from pydantic<3,>=1->langchain==0.0.331) (2.10.1)\n",
      "Requirement already satisfied: typing-extensions>=4.6.1 in /home/wasit/miniconda3/envs/teaching_2023/lib/python3.10/site-packages (from pydantic<3,>=1->langchain==0.0.331) (4.8.0)\n",
      "Requirement already satisfied: urllib3<3,>=1.21.1 in /home/wasit/miniconda3/envs/teaching_2023/lib/python3.10/site-packages (from requests<3,>=2->langchain==0.0.331) (2.0.7)\n",
      "Requirement already satisfied: certifi>=2017.4.17 in /home/wasit/miniconda3/envs/teaching_2023/lib/python3.10/site-packages (from requests<3,>=2->langchain==0.0.331) (2023.7.22)\n",
      "Requirement already satisfied: greenlet!=0.4.17 in /home/wasit/miniconda3/envs/teaching_2023/lib/python3.10/site-packages (from SQLAlchemy<3,>=1.4->langchain==0.0.331) (2.0.1)\n",
      "Requirement already satisfied: packaging>=17.0 in /home/wasit/miniconda3/envs/teaching_2023/lib/python3.10/site-packages (from marshmallow<4.0.0,>=3.18.0->dataclasses-json<0.7,>=0.5.7->langchain==0.0.331) (23.2)\n",
      "Requirement already satisfied: mypy-extensions>=0.3.0 in /home/wasit/miniconda3/envs/teaching_2023/lib/python3.10/site-packages (from typing-inspect<1,>=0.4.0->dataclasses-json<0.7,>=0.5.7->langchain==0.0.331) (1.0.0)\n",
      "\u001b[33mWARNING: There was an error checking the latest version of pip.\u001b[0m\u001b[33m\n",
      "\u001b[0m"
     ]
    }
   ],
   "source": [
    "# !pip install langchain==0.0.331 langchainhub "
   ]
  },
  {
   "cell_type": "code",
   "execution_count": 2,
   "id": "7de1ee91-36f5-4cad-b901-4ca58f822785",
   "metadata": {},
   "outputs": [
    {
     "name": "stdout",
     "output_type": "stream",
     "text": [
      "Requirement already satisfied: openai==0.28.1 in /home/wasit/miniconda3/envs/teaching_2023/lib/python3.10/site-packages (0.28.1)\n",
      "Requirement already satisfied: requests>=2.20 in /home/wasit/miniconda3/envs/teaching_2023/lib/python3.10/site-packages (from openai==0.28.1) (2.31.0)\n",
      "Requirement already satisfied: tqdm in /home/wasit/miniconda3/envs/teaching_2023/lib/python3.10/site-packages (from openai==0.28.1) (4.66.1)\n",
      "Requirement already satisfied: aiohttp in /home/wasit/miniconda3/envs/teaching_2023/lib/python3.10/site-packages (from openai==0.28.1) (3.8.6)\n",
      "Requirement already satisfied: charset-normalizer<4,>=2 in /home/wasit/miniconda3/envs/teaching_2023/lib/python3.10/site-packages (from requests>=2.20->openai==0.28.1) (3.3.2)\n",
      "Requirement already satisfied: idna<4,>=2.5 in /home/wasit/miniconda3/envs/teaching_2023/lib/python3.10/site-packages (from requests>=2.20->openai==0.28.1) (3.4)\n",
      "Requirement already satisfied: urllib3<3,>=1.21.1 in /home/wasit/miniconda3/envs/teaching_2023/lib/python3.10/site-packages (from requests>=2.20->openai==0.28.1) (2.0.7)\n",
      "Requirement already satisfied: certifi>=2017.4.17 in /home/wasit/miniconda3/envs/teaching_2023/lib/python3.10/site-packages (from requests>=2.20->openai==0.28.1) (2023.7.22)\n",
      "Requirement already satisfied: attrs>=17.3.0 in /home/wasit/miniconda3/envs/teaching_2023/lib/python3.10/site-packages (from aiohttp->openai==0.28.1) (23.1.0)\n",
      "Requirement already satisfied: multidict<7.0,>=4.5 in /home/wasit/miniconda3/envs/teaching_2023/lib/python3.10/site-packages (from aiohttp->openai==0.28.1) (6.0.4)\n",
      "Requirement already satisfied: async-timeout<5.0,>=4.0.0a3 in /home/wasit/miniconda3/envs/teaching_2023/lib/python3.10/site-packages (from aiohttp->openai==0.28.1) (4.0.3)\n",
      "Requirement already satisfied: yarl<2.0,>=1.0 in /home/wasit/miniconda3/envs/teaching_2023/lib/python3.10/site-packages (from aiohttp->openai==0.28.1) (1.9.2)\n",
      "Requirement already satisfied: frozenlist>=1.1.1 in /home/wasit/miniconda3/envs/teaching_2023/lib/python3.10/site-packages (from aiohttp->openai==0.28.1) (1.4.0)\n",
      "Requirement already satisfied: aiosignal>=1.1.2 in /home/wasit/miniconda3/envs/teaching_2023/lib/python3.10/site-packages (from aiohttp->openai==0.28.1) (1.3.1)\n",
      "\u001b[33mWARNING: There was an error checking the latest version of pip.\u001b[0m\u001b[33m\n",
      "\u001b[0m"
     ]
    }
   ],
   "source": [
    "# !pip install openai==0.28.1"
   ]
  },
  {
   "cell_type": "code",
   "execution_count": 3,
   "id": "2de0b8ff-456b-486a-bb46-d9758b92a138",
   "metadata": {},
   "outputs": [
    {
     "name": "stdout",
     "output_type": "stream",
     "text": [
      "Requirement already satisfied: faiss-cpu in /home/wasit/miniconda3/envs/teaching_2023/lib/python3.10/site-packages (1.7.4)\n",
      "Collecting tiktoken\n",
      "  Using cached tiktoken-0.5.1-cp310-cp310-manylinux_2_17_x86_64.manylinux2014_x86_64.whl.metadata (6.6 kB)\n",
      "Collecting regex>=2022.1.18 (from tiktoken)\n",
      "  Using cached regex-2023.10.3-cp310-cp310-manylinux_2_17_x86_64.manylinux2014_x86_64.whl.metadata (40 kB)\n",
      "Requirement already satisfied: requests>=2.26.0 in /home/wasit/miniconda3/envs/teaching_2023/lib/python3.10/site-packages (from tiktoken) (2.31.0)\n",
      "Requirement already satisfied: charset-normalizer<4,>=2 in /home/wasit/miniconda3/envs/teaching_2023/lib/python3.10/site-packages (from requests>=2.26.0->tiktoken) (3.3.2)\n",
      "Requirement already satisfied: idna<4,>=2.5 in /home/wasit/miniconda3/envs/teaching_2023/lib/python3.10/site-packages (from requests>=2.26.0->tiktoken) (3.4)\n",
      "Requirement already satisfied: urllib3<3,>=1.21.1 in /home/wasit/miniconda3/envs/teaching_2023/lib/python3.10/site-packages (from requests>=2.26.0->tiktoken) (2.0.7)\n",
      "Requirement already satisfied: certifi>=2017.4.17 in /home/wasit/miniconda3/envs/teaching_2023/lib/python3.10/site-packages (from requests>=2.26.0->tiktoken) (2023.7.22)\n",
      "Using cached tiktoken-0.5.1-cp310-cp310-manylinux_2_17_x86_64.manylinux2014_x86_64.whl (2.0 MB)\n",
      "Using cached regex-2023.10.3-cp310-cp310-manylinux_2_17_x86_64.manylinux2014_x86_64.whl (773 kB)\n",
      "Installing collected packages: regex, tiktoken\n",
      "Successfully installed regex-2023.10.3 tiktoken-0.5.1\n",
      "\u001b[33mWARNING: There was an error checking the latest version of pip.\u001b[0m\u001b[33m\n",
      "\u001b[0m"
     ]
    }
   ],
   "source": [
    "# !pip install faiss-cpu tiktoken"
   ]
  },
  {
   "cell_type": "code",
   "execution_count": 4,
   "id": "e89a56f1-5be5-4af4-baf7-af1e30c4f3ac",
   "metadata": {},
   "outputs": [
    {
     "name": "stdout",
     "output_type": "stream",
     "text": [
      "Requirement already satisfied: python-dotenv in /home/wasit/miniconda3/envs/teaching_2023/lib/python3.10/site-packages (1.0.0)\n",
      "\u001b[33mWARNING: There was an error checking the latest version of pip.\u001b[0m\u001b[33m\n",
      "\u001b[0m"
     ]
    }
   ],
   "source": [
    "# !pip install python-dotenv "
   ]
  },
  {
   "cell_type": "code",
   "execution_count": 5,
   "id": "79cb5724-a412-4876-a1f0-8ae93fc05838",
   "metadata": {},
   "outputs": [
    {
     "name": "stdout",
     "output_type": "stream",
     "text": [
      "Collecting scikit-learn\n",
      "  Using cached scikit_learn-1.3.2-cp310-cp310-manylinux_2_17_x86_64.manylinux2014_x86_64.whl.metadata (11 kB)\n",
      "Requirement already satisfied: numpy<2.0,>=1.17.3 in /home/wasit/miniconda3/envs/teaching_2023/lib/python3.10/site-packages (from scikit-learn) (1.26.1)\n",
      "Collecting scipy>=1.5.0 (from scikit-learn)\n",
      "  Using cached scipy-1.11.3-cp310-cp310-manylinux_2_17_x86_64.manylinux2014_x86_64.whl.metadata (60 kB)\n",
      "Collecting joblib>=1.1.1 (from scikit-learn)\n",
      "  Using cached joblib-1.3.2-py3-none-any.whl.metadata (5.4 kB)\n",
      "Collecting threadpoolctl>=2.0.0 (from scikit-learn)\n",
      "  Using cached threadpoolctl-3.2.0-py3-none-any.whl.metadata (10.0 kB)\n",
      "Using cached scikit_learn-1.3.2-cp310-cp310-manylinux_2_17_x86_64.manylinux2014_x86_64.whl (10.8 MB)\n",
      "Using cached joblib-1.3.2-py3-none-any.whl (302 kB)\n",
      "Using cached scipy-1.11.3-cp310-cp310-manylinux_2_17_x86_64.manylinux2014_x86_64.whl (36.4 MB)\n",
      "Using cached threadpoolctl-3.2.0-py3-none-any.whl (15 kB)\n",
      "Installing collected packages: threadpoolctl, scipy, joblib, scikit-learn\n",
      "Successfully installed joblib-1.3.2 scikit-learn-1.3.2 scipy-1.11.3 threadpoolctl-3.2.0\n",
      "\u001b[33mWARNING: There was an error checking the latest version of pip.\u001b[0m\u001b[33m\n",
      "\u001b[0m"
     ]
    }
   ],
   "source": [
    "# !pip install scikit-learn"
   ]
  },
  {
   "cell_type": "code",
   "execution_count": 1,
   "id": "5c95742f-776b-40da-9014-ea73c371dc6e",
   "metadata": {},
   "outputs": [
    {
     "name": "stdout",
     "output_type": "stream",
     "text": [
      "Collecting youtube-transcript-api\n",
      "  Downloading youtube_transcript_api-0.6.1-py3-none-any.whl.metadata (14 kB)\n",
      "Requirement already satisfied: requests in /home/wasit/miniconda3/envs/teaching_2023/lib/python3.10/site-packages (from youtube-transcript-api) (2.31.0)\n",
      "Requirement already satisfied: charset-normalizer<4,>=2 in /home/wasit/miniconda3/envs/teaching_2023/lib/python3.10/site-packages (from requests->youtube-transcript-api) (3.3.2)\n",
      "Requirement already satisfied: idna<4,>=2.5 in /home/wasit/miniconda3/envs/teaching_2023/lib/python3.10/site-packages (from requests->youtube-transcript-api) (3.4)\n",
      "Requirement already satisfied: urllib3<3,>=1.21.1 in /home/wasit/miniconda3/envs/teaching_2023/lib/python3.10/site-packages (from requests->youtube-transcript-api) (2.0.7)\n",
      "Requirement already satisfied: certifi>=2017.4.17 in /home/wasit/miniconda3/envs/teaching_2023/lib/python3.10/site-packages (from requests->youtube-transcript-api) (2023.7.22)\n",
      "Downloading youtube_transcript_api-0.6.1-py3-none-any.whl (24 kB)\n",
      "Installing collected packages: youtube-transcript-api\n",
      "Successfully installed youtube-transcript-api-0.6.1\n",
      "\u001b[33mWARNING: There was an error checking the latest version of pip.\u001b[0m\u001b[33m\n",
      "\u001b[0m"
     ]
    }
   ],
   "source": [
    "!pip install youtube-transcript-api"
   ]
  },
  {
   "cell_type": "code",
   "execution_count": 17,
   "id": "f4ac3f14-3e1b-4710-9e21-ba564d6a8d59",
   "metadata": {},
   "outputs": [
    {
     "name": "stdout",
     "output_type": "stream",
     "text": [
      "Collecting pytube\n",
      "  Downloading pytube-15.0.0-py3-none-any.whl (57 kB)\n",
      "\u001b[2K     \u001b[38;2;114;156;31m━━━━━━━━━━━━━━━━━━━━━━━━━━━━━━━━━━━━━━━\u001b[0m \u001b[32m57.6/57.6 kB\u001b[0m \u001b[31m294.4 kB/s\u001b[0m eta \u001b[36m0:00:00\u001b[0m31m4.8 MB/s\u001b[0m eta \u001b[36m0:00:01\u001b[0m\n",
      "\u001b[?25hInstalling collected packages: pytube\n",
      "Successfully installed pytube-15.0.0\n",
      "\u001b[33mWARNING: There was an error checking the latest version of pip.\u001b[0m\u001b[33m\n",
      "\u001b[0m"
     ]
    }
   ],
   "source": [
    "!pip install pytube"
   ]
  },
  {
   "cell_type": "code",
   "execution_count": 6,
   "id": "9033ee6c-40e1-4ea9-956b-212e10b9b5c9",
   "metadata": {},
   "outputs": [
    {
     "name": "stdout",
     "output_type": "stream",
     "text": [
      "total 28\n",
      "drwxrwxr-x 3 wasit wasit  4096 Nov  8 14:22 \u001b[0m\u001b[01;34m.\u001b[0m/\n",
      "drwxrwxr-x 5 wasit wasit  4096 Nov  7 10:46 \u001b[01;34m..\u001b[0m/\n",
      "-rw-rw-r-- 1 wasit wasit    66 Nov  7 10:57 .env\n",
      "drwxrwxr-x 2 wasit wasit  4096 Nov  7 10:48 \u001b[01;34m.ipynb_checkpoints\u001b[0m/\n",
      "-rw-rw-r-- 1 wasit wasit 10668 Nov  8 14:22 RAG.ipynb\n"
     ]
    }
   ],
   "source": [
    "ls -la"
   ]
  },
  {
   "cell_type": "code",
   "execution_count": 6,
   "id": "a5f6b562-5e7a-4375-96d8-6503962b3f9f",
   "metadata": {},
   "outputs": [
    {
     "data": {
      "text/plain": [
       "True"
      ]
     },
     "execution_count": 6,
     "metadata": {},
     "output_type": "execute_result"
    }
   ],
   "source": [
    "# Set env var OPENAI_API_KEY or load from a .env file\n",
    "import dotenv\n",
    "\n",
    "dotenv.load_dotenv()"
   ]
  },
  {
   "cell_type": "code",
   "execution_count": 7,
   "id": "5e646a64-0c58-40e8-a399-0d54aa60820f",
   "metadata": {},
   "outputs": [],
   "source": [
    "from langchain.document_loaders import WebBaseLoader\n",
    "from langchain.text_splitter import RecursiveCharacterTextSplitter\n",
    "from langchain.vectorstores import FAISS\n",
    "from langchain.embeddings.openai import OpenAIEmbeddings\n",
    "from langchain.chat_models import ChatOpenAI\n",
    "from langchain.schema.runnable import RunnablePassthrough\n",
    "from langchain.prompts import PromptTemplate\n",
    "\n",
    "llm = ChatOpenAI(model_name=\"gpt-3.5-turbo-16k\", temperature=0)"
   ]
  },
  {
   "cell_type": "code",
   "execution_count": 8,
   "id": "bbaaf367-ae97-458b-a5c3-3f7b6126c7a9",
   "metadata": {},
   "outputs": [],
   "source": [
    "loader = WebBaseLoader(\"https://www.history.com/topics/ancient-rome/ancient-rome\")\n",
    "text_splitter = RecursiveCharacterTextSplitter(chunk_size=500, chunk_overlap=0)\n",
    "splits = text_splitter.split_documents(loader.load())"
   ]
  },
  {
   "cell_type": "code",
   "execution_count": 9,
   "id": "2fb739a6-d6e3-46ab-983b-58e5a1f905af",
   "metadata": {},
   "outputs": [],
   "source": [
    "vectorstore = FAISS.from_documents(documents=splits, embedding=OpenAIEmbeddings())\n",
    "# vectorstore.save_local('vector.db')\n",
    "# vectorstore=FAISS.load_local('vector.db', embeddings=OpenAIEmbeddings())\n",
    "retriever = vectorstore.as_retriever()"
   ]
  },
  {
   "cell_type": "code",
   "execution_count": 10,
   "id": "dc5fafd3-9ed3-4c24-863b-3ad89b7c3b2f",
   "metadata": {},
   "outputs": [],
   "source": [
    "# from langchain.retrievers import SVMRetriever\n",
    "# question=\"What are key facts from the articles?\"\n",
    "# svm_retriever = SVMRetriever.from_documents(splits, OpenAIEmbeddings())\n",
    "# docs_svm = svm_retriever.get_relevant_documents(question)\n",
    "# len(docs_svm)"
   ]
  },
  {
   "cell_type": "code",
   "execution_count": 11,
   "id": "ada5dee7-9653-4a5b-8eed-0376ea566507",
   "metadata": {},
   "outputs": [],
   "source": [
    "template = \"\"\"Use the following pieces of context to answer the question at the end. \n",
    "If you don't know the answer, just say that you don't know, don't try to make up an answer. \n",
    "Use five sentences maximum and keep the answer as concise as possible.\n",
    "{context}\n",
    "Question: {question}\n",
    "Helpful Answer:\"\"\"\n",
    "rag_prompt_custom = PromptTemplate.from_template(template)\n",
    "\n",
    "rag_chain = (\n",
    "    {\"context\": retriever, \"question\": RunnablePassthrough()} | rag_prompt_custom | llm\n",
    ")"
   ]
  },
  {
   "cell_type": "code",
   "execution_count": 12,
   "id": "e230626c-6173-400d-87a8-158db6f78454",
   "metadata": {},
   "outputs": [
    {
     "name": "stdout",
     "output_type": "stream",
     "text": [
      "The Roman Empire was founded in 27 B.C. and was a vast and powerful domain. It gave rise to the culture, laws, technologies, and institutions that continue to define Western civilization. The articles were written or edited by the HISTORY.com editors, including Amanda Onion, Missy Sullivan, Matt Mullen, and Christian Zapata. The articles provide information about Ancient Rome, including its location and timeline. The content is regularly reviewed and updated for accuracy and fairness.\n"
     ]
    }
   ],
   "source": [
    "print(rag_chain.invoke(\"What are key facts from the articles?\").content)"
   ]
  },
  {
   "cell_type": "code",
   "execution_count": 13,
   "id": "690aee77-8b55-4945-9510-691f1853687a",
   "metadata": {},
   "outputs": [
    {
     "name": "stdout",
     "output_type": "stream",
     "text": [
      "The Roman Empire fell due to a combination of factors including constant warfare, invasions by barbarian tribes, internal turmoil and political instability, widening wealth inequality, and the loss of provinces.\n"
     ]
    }
   ],
   "source": [
    "print(rag_chain.invoke(\"Why did the Roman empire fell?\").content)"
   ]
  },
  {
   "cell_type": "code",
   "execution_count": 14,
   "id": "91b85b87-af98-414b-9f74-572644dae005",
   "metadata": {},
   "outputs": [],
   "source": [
    "# from langchain.llms import GPT4All\n",
    "# local_path = (\n",
    "#     \"./models/ggml-gpt4all-l13b-snoozy.bin\"  # replace with your desired local file path\n",
    "# )\n",
    "\n",
    "# # Callbacks support token-wise streaming\n",
    "# callbacks = [StreamingStdOutCallbackHandler()]\n",
    "\n",
    "# # Verbose is required to pass to the callback manager\n",
    "# llm = GPT4All(model=local_path, callbacks=callbacks, verbose=True)"
   ]
  },
  {
   "cell_type": "markdown",
   "id": "63408735-0827-4d2b-8967-b6c2093cd918",
   "metadata": {},
   "source": [
    "## Rubber Tire"
   ]
  },
  {
   "cell_type": "code",
   "execution_count": 22,
   "id": "e2a86f0d-9a77-4c61-9209-96b3c1f37136",
   "metadata": {},
   "outputs": [
    {
     "data": {
      "text/plain": [
       "[Document(page_content=\"summertime is vacation time here in germany most car owners still prefer to drive even to distant holiday destinations when it comes to road safety tires are of course of paramount importance more than 50 million are sold each year in germany alone it's a multi-billion dollar business but where do these tires come from and under what conditions are they produced the tires of my family car are well past their prime they're getting old and are a bit brittle the need to replace them ahead of a family vacation has got me thinking about the origin and sustainability of tires on the market greifen stiebling a family-run business is one of the biggest independent dealers in western germany i'd like to buy a set of new summer tires and want some advice the store stocks the standard brands they're all good quality but i have a different question on my mind can i tell where a tire was produced is that possible yeah yes made in china japan the czech republic tires are clearly produced all around the world are customers interested under what conditions the tires are produced very few to be honest the customers aren't interested in sustainability how the tires are produced for us it is of course an important factor but very few customers are interested to be honest but the sales advisor is convinced that his products meet sustainability standards so i could buy any of these with a clear conscience big name manufacturers place a lot of importance on sustainability so i think it would be better to stick with them because you can be sure that they are aware of environmental issues and so i think you can buy tires with a clear conscience we want to make our own assessment so we head off for southeast asia thailand is the world's biggest producer of natural rubber more than 4 million tons of it are harvested on its plantations each year over the last 30 years production here has grown by 300 percent bangkok is the center of the rubber trade we're meeting journalist v interrupt who's written extensively about the industry even from the car it's clear what a big role the tire industry plays in thailand after all it's not just natural rubber that is produced here but many tires are too they're then shipped around the world in containers but it's not easy to get a glimpse inside the business here well as the rubber industries play playing the important role to thai economy so um i think the people in this industry might want to keep some secret with them so it's quite a bit difficult to to get information from from them [Music] our first stop is in kau kamau district southeast of bangkok large amounts of rubber are grown here thanks to these contacts we gain access to one of the plantations the owner inherited the plantation from his parents in the past this area was rainforest my parents cleared the whole area and started cultivating it first they planted rice and sugarcane but later they switched the plantation begins right behind his house for the first time we see how rubber is harvested the rubber latex strips out of an incision in the bark of a tree it can be harvested in a liquid state or through the addition of vinegar as they're doing here to get the rubber to solidify and harvest it in solid pieces employs more than 50 workers on his plantation later we will discover what kind of conditions they live in bowser pot has just planted new rubber trees despite a glut on the market that's driven a steady drop in the price per kilo we used to earn good money with our rubber if the plantation owner himself is feeling the pinch what about his workers on the edge of the plantation we find their decrepit huts the workers all come from neighboring cambodia they're willing to work for lower wages than ties i work 12 hours a day 5 days a week sometimes more night has fallen on bowser plantation it's the best time to harvest rubber the cambodians are getting ready to go to work their night shift starts at eight pm and ends at about five in the morning with just head torches for light they slice deeper and deeper grooves into the tree trunks to keep the milky latex [Music] flowing now has been working on the plantation with her family for the past seven years the 23 year old can't read or write i earn very little here between 4 000 and 5 000 a month hard night shifts for a mere 140 euros a month that's around half of the minimum wage in thailand which is itself hardly generous the family always gathers at five in the morning to eat but sometimes they have to go without in the rainy season we can't work and don't get paid then we often don't have anything to eat and have to go hungry when it gets light nah's daughter heads off to school she only gets to see her mother briefly the rest of the family is going to bed they own just two mattresses shared between eight family members [Music] [Music] outside is nas brother his job today spraying herbicide he's using the extremely toxic product paraquat long outlawed in europe da feels safe wearing a mask what the 25 year old doesn't realize is that paraquat can also be absorbed through the skin and can lead to severe kidney liver and heart damage he should by no means be working without protective clothing in shorts but no one has told him that since before the harvest we have to kill the grass with poisonous chemicals otherwise snakes could hide in the grass between the trees and bite us this is what it looks like before the herbicide is used and this is what it looks like afterwards the chemicals remain in the ground for months not a single worker here is wearing protective gloves after the harvest boast sells his rubber to the woman who controls the trade in the area a broker she dictates the price as tradition has it he has no right to negotiate [Music] [Music] from here we send the latex to our partner factory for processing then our rubber is sent on to many well-known firms such as goodyear for example we ask what factory she supplies she calls to ask whether she can disclose their name but the company prefers to remain anonymous undeterred we decide to follow a truck we want to know who processes the rubber [Music] our journey ends outside the gates of the tai hua rayong rubber factory which is mainly in chinese hands we ask for permission to film but we're immediately turned away and told in no uncertain terms that a written request is also pointless from above it's possible to get an idea of the scale of the factory that supplies the processed commodity to manufacturers worldwide then unexpectedly we do get a chance to look around a rubber factory although it's considerably smaller the owner shows us around her company also supplies tai hua riyang rubber among others and mainly processes liquid latex the workers here are thai not cambodian we ask whether they get the minimum wage of 9000 baht around two hundred sixty euros i earn five thousand baht a month but when the price of rubber goes up again i might earn twenty thousand they carry on hoping for better times the minimum wage is nine thousand baht but these people can never have nine thousand a month no because we didn't pay like a daily we pay off the data we like say 50 50 what we but we said we can sell like if we can sell like um 2 000 they get 1000 we get 1000 as the owner so the employees are not employees but get a share of the profits it's that easy to undercut thailand's scanty minimum wage behind the factory is the factory's own rubber plantation amid the trees a ramshackle hut not far away we meet an elderly couple collecting rubber will i be i'm over 80. and i've been working here for 50 years back then the old gentleman was the boss and the plantation was high up in the mountains his wife live in grinding poverty while the tire industry boasts worldwide sales of more than 1.2 billion car tires [Applause] we decide to confront the big name tire manufacturers based in thailand but japanese multinational bridgestone the world's biggest tire producer declines our request for an interview none of the manufacturers are willing to reveal their suppliers we try the german firm continental which has recently opened a new production plant close to the city of ryong we contacted them several times before our arrival asking for an interview but most requests went unanswered just like this one continental which is based in hanover is the world's fourth biggest tire producer and so it has a particular responsibility when it comes to determining working conditions in the sector we hear that the living conditions of people on rubber plantations in neighboring cambodia are even worse than in thailand so we decide to head there [Music] from the capital phnom penh we travel north like in thailand there are rubber plantations as far as the eye can see with the help of our interpreter we try to arrange a visit to a rubber processing plant we made several written requests for permission to film and while we don't get that we are allowed to watch production [Music] here too the natural rubber is delivered in either solid or liquid form the people running the factory tell us they supply their product to all parts of the globe in the season we have to work from six in the morning to ten at night sometimes less when there's nothing to do workers are housed on the other side of the street often the mothers fathers and their older children work together in the factory or on the firm's own plantation it's a tough life [Music] factory workers are usually better off than plantation workers here they even have their own bathroom and a kitchen of sorts good we normal workers usually earn around 150 a month in the factory for a seven day week on top of that we get this accommodation free electricity and 20 kilos of rice a month in the high season we sometimes earn 250 dollars a month we travel on to the ratanakiri province in northeast cambodia here many indigenous communities live together in villages and farm the land one of these villages is kak or the tanli-san river [Music] until recently the people here worked their fields and lived modestly but well in accordance with their own traditions but those times are over their fertile fields were practically stolen from them big international companies bought the land from the government land that had been in the community's hands for generations amid the global hunger for natural rubber the villagers fields were plowed up to plant rubber trees today the community has lost almost all its but we didn't have a chance they've taken everything from us many families have nothing to eat the village chief and sixty-five-year-old pujan show us their land here where their crops once grew we find a lunar landscape ready for planting new rubber trees [Music] the company took our fields and graves and now they've even stripped bare our sacred mountain the people of refused to work for these new masters on their own fields like many other villages they're demanding the return of their land but they don't have much hope in the meantime new settlements have sprung up on their fields they house women and men who have moved to the area to work on the rubber plantations they too live in desperate conditions every year the rubber harvest in cambodia grows by six to seven percent and end to this growth is not in sight on the edge of the plantation the next field is being burned off to clear the vegetation and make space for even more rubber trees for even more rubber for car tires we've seen enough and fly back to germany to confront the tire industry with our findings we try our luck again at continental headquarters in hanover in 2018 the automotive supplier had a turnover of 44.4 billion euros no one here wants to be interviewed but they do at least give a written reply to some of our questions continental uses natural commodities conscientiously and develops promotes and implements sustainable and responsible sourcing of natural rubber across the value chain the statement continues continental is aware of its responsibility and aims to make an active and responsible contribution to promoting sustainably produced natural rubber continental also refers to its code of conduct since 2011 all our suppliers have had to agree to abide by our business partner code of conduct we continue on to frankfurt to the german rubber manufacturers association the wdk many tire manufacturers are among its members it's headquartered in a villa in the city center boris engelhardt is wdk's managing director the lobby group also has a code of conduct it sounds good at first the wdk and its members recognize their social responsibility to their own company to customers and suppliers to the environment and to society the actions of the companies are guided in particular by the values of integrity and fairness this code of conduct has existed for some time now it provided the basis for this sustainability charter that stipulates that we're responsible for the people who are employed across this rubber value chain but we can't influence everything right down to the farmer some farmers then it would reach the first echelon of traders but there are seven other traders beneath them so you never reach the farmer in end effect we showed boris engelhardt our footage from the rubber plantations [Music] that shocking it's definitely shocking i can't find any excuse or explanation for that we now definitely have to look to the future like continental the other market leaders bridgestone and michelin also don't want to give us an interview we try our luck in hannah near frankfurt where the world's third biggest tire manufacturer is based goodyear but we have no success here goodyear simply responds with a written statement goodyear doesn't buy natural rubber from cambodia we source less than five percent of our global requirements for natural rubber from thailand it goes on we're committed to the responsible sourcing of raw materials including natural rubber the statement continues we offer retread tires for commercial vehicles and aircraft reducing the use of natural rubber but why does goodyear retread the tires of commercial vehicles and planes and not the tires of private cars which make up the vast majority of vehicles we visit germany's only big retreader for automobiles hyphen house here worn down treads of tires are peeled off and replaced with new ones this is start safely if we look at this tire here we can see only its surface is worn so essentially the product is disposed of when only about 20 percent of it is worn that's absurd in germany there's no legal obligation to recycle tires obike julius has to source most of the old tires that he needs from france or spain what happens to used tires in germany there are various disposal methods but usually the tires are shredded and supplied to cement works which burn the tires for fuel but now because we have a surplus of old tires some cement works have stopped taking them or instead of paying for them they get paid to use them as fuel in germany some 200 000 tons of old tires go up in smoke each year while more and more rubber plantations are being established in southeast asia to satisfy the hunger for rubber of course the retreading process also requires fresh rubber but about 70 to 80 percent less than is needed to produce new tires that's a tire that has been produced in exactly the same way as a new tire the production steps were identical we have to fulfill identical legal requirements we conform to international standards we have the same speed ratings these tires have to match up to new ones in every way tire retreads have an image problem as obika julius knows all too well a local authority issued a call for tenders for equipping police vehicles with winter tires and this call categorically ruled out retreads and that's even though the government always maintains that it places importance on sustainability and no one has been able to explain to me to this day what data or facts this decision was based upon we would also be interested in finding out why police in the city of weklinghausen decided against retread tires and here too our request for an interview was declined instead they issue a written statement on emergency call-outs our vehicles face extreme situations police cars have to be able to cope with greater strains than normal vehicles on the road but recklinghausen police don't say why a retread wouldn't be up to the job we traveled to the northern german state of schleswigstein to one of germany's few independent tire testing laboratories we have an appointment with an expert peter kleingan the police in recklinghausen say they can't use retreads because they don't meet their high specifications can that be true no we've been testing new tyres for decades now if a retread is produced from a high quality worn tyre then it will match the performance of a new tire and the police and the public in general should consider the environmental and financial arguments in favor of retreads we can definitely say that modern retread plants in europe are so advanced that their products can compete with new tires i decided to go for retreads this time and i wonder how my workshop will respond first of all the tires have to be balanced 30 30. what does that mean basically they can be easily balanced there are some big name brands that aren't that good i'm curious to see how they perform on the road this time i've opted for sustainability i'm also confident they're safe too and with peace of mind i set off on my family vacation [Music] you\", metadata={'source': '-fusUxEPwsw', 'title': 'Rubber tires — a dirty business | DW Documentary', 'description': 'Unknown', 'view_count': 5180478, 'thumbnail_url': 'https://i.ytimg.com/vi/-fusUxEPwsw/hq720.jpg', 'publish_date': '2019-09-17 00:00:00', 'length': 1706, 'author': 'DW Documentary'})]"
      ]
     },
     "execution_count": 22,
     "metadata": {},
     "output_type": "execute_result"
    }
   ],
   "source": [
    "from langchain.document_loaders import YoutubeLoader\n",
    "loader = YoutubeLoader.from_youtube_url(\n",
    "    \"https://www.youtube.com/watch?v=-fusUxEPwsw\", add_video_info=True\n",
    ")\n",
    "loader.load()"
   ]
  },
  {
   "cell_type": "code",
   "execution_count": 24,
   "id": "d222512b-0051-4f5e-b923-15ed2873b59b",
   "metadata": {},
   "outputs": [
    {
     "data": {
      "text/plain": [
       "Document(page_content=\"that good i'm curious to see how they perform on the road this time i've opted for sustainability i'm also confident they're safe too and with peace of mind i set off on my family vacation [Music] you\", metadata={'source': '-fusUxEPwsw', 'title': 'Rubber tires — a dirty business | DW Documentary', 'description': 'Unknown', 'view_count': 5180478, 'thumbnail_url': 'https://i.ytimg.com/vi/-fusUxEPwsw/hq720.jpg', 'publish_date': '2019-09-17 00:00:00', 'length': 1706, 'author': 'DW Documentary'})"
      ]
     },
     "execution_count": 24,
     "metadata": {},
     "output_type": "execute_result"
    }
   ],
   "source": [
    "text_splitter = RecursiveCharacterTextSplitter(chunk_size=500, chunk_overlap=0)\n",
    "splits = text_splitter.split_documents(loader.load())\n",
    "splits[-1]"
   ]
  },
  {
   "cell_type": "code",
   "execution_count": 37,
   "id": "472e05fa-34d2-40c1-b5a0-92110ab608c9",
   "metadata": {},
   "outputs": [],
   "source": [
    "vectorstore = FAISS.from_documents(documents=splits, embedding=OpenAIEmbeddings())\n",
    "retriever = vectorstore.as_retriever(k=10, lambda_mult=0.2)"
   ]
  },
  {
   "cell_type": "code",
   "execution_count": 38,
   "id": "c1ea2938-0c9f-484c-8bb9-8c49f4ee4ae7",
   "metadata": {},
   "outputs": [],
   "source": [
    "template = \"\"\"Use the following pieces of context to answer the question at the end. \n",
    "If you don't know the answer, just say that you don't know, don't try to make up an answer. \n",
    "Use five sentences maximum and keep the answer as concise as possible.\n",
    "{context}\n",
    "Question: {question}\n",
    "Helpful Answer:\"\"\"\n",
    "rag_prompt_custom = PromptTemplate.from_template(template)\n",
    "\n",
    "rag_chain = (\n",
    "    {\"context\": retriever, \"question\": RunnablePassthrough()} | rag_prompt_custom | llm\n",
    ")"
   ]
  },
  {
   "cell_type": "code",
   "execution_count": 39,
   "id": "70f9b714-9e18-4ecb-8cd9-206733a7e66c",
   "metadata": {},
   "outputs": [
    {
     "name": "stdout",
     "output_type": "stream",
     "text": [
      "Rubber tires are considered a dirty business because of the environmental impact of their production and disposal. The production of natural rubber, which is used in tire manufacturing, has led to deforestation and the establishment of rubber plantations in Southeast Asia. Additionally, the burning of old tires as fuel contributes to air pollution. The retreading process for commercial vehicles and aircraft reduces the use of natural rubber, but the majority of vehicles, such as private cars, do not undergo this process. This results in a higher demand for new tires and further environmental consequences.\n"
     ]
    }
   ],
   "source": [
    "print(rag_chain.invoke(\"Why does Rubber tires is a dirty business ?\").content)"
   ]
  },
  {
   "cell_type": "code",
   "execution_count": 40,
   "id": "1b317fc1-b645-447f-a3d5-9631738ffb05",
   "metadata": {},
   "outputs": [
    {
     "name": "stdout",
     "output_type": "stream",
     "text": [
      "The video discusses the role of the tire industry in Thailand and the difficulty in gaining access to information about the industry. It also mentions that rubber plantations are widespread in Thailand and that the industry plays an important role in the Thai economy. The video shows a visit to a rubber processing plant in Thailand and mentions that the workers there are Thai, not Cambodian. The video does not provide information about the working conditions or living conditions of people in the rubber industry in Thailand.\n"
     ]
    }
   ],
   "source": [
    "print(rag_chain.invoke(\"What does the video discuss about Thailand?\").content)"
   ]
  },
  {
   "cell_type": "code",
   "execution_count": 46,
   "id": "ccc08fc5-06f7-4f1d-abe6-9d3dfcaf1102",
   "metadata": {},
   "outputs": [
    {
     "name": "stdout",
     "output_type": "stream",
     "text": [
      "The living conditions of the workers in the Thailand rubber farm were described as decrepit huts on the edge of the plantation.\n"
     ]
    }
   ],
   "source": [
    "print(rag_chain.invoke(\"What was living condition of the workers in Thailand rubber farm?\").content)"
   ]
  },
  {
   "cell_type": "code",
   "execution_count": 42,
   "id": "c6ec3ce7-b251-4455-a587-d2e43313a2c9",
   "metadata": {},
   "outputs": [
    {
     "name": "stdout",
     "output_type": "stream",
     "text": [
      "The worker earns between 4,000 and 5,000 baht a month.\n"
     ]
    }
   ],
   "source": [
    "print(rag_chain.invoke(\"How much does the worker earn a month?\").content)"
   ]
  },
  {
   "cell_type": "code",
   "execution_count": 43,
   "id": "aa89e32a-4879-4826-9f80-041cee6fc3ee",
   "metadata": {},
   "outputs": [
    {
     "name": "stdout",
     "output_type": "stream",
     "text": [
      "The workers in the Thailand rubber processing plant earn 5,000 baht a month, which is less than the minimum wage of 9,000 baht.\n"
     ]
    }
   ],
   "source": [
    "print(rag_chain.invoke(\"What was working condition of the worker in Thailand rubber processing plant?\").content)"
   ]
  },
  {
   "cell_type": "code",
   "execution_count": 44,
   "id": "dc7a0573-c81b-467c-9d1c-d46564dca2ff",
   "metadata": {},
   "outputs": [
    {
     "name": "stdout",
     "output_type": "stream",
     "text": [
      "The workers work 12 hours a day, 5 days a week, sometimes more. They start their night shift at 8 pm and end at about 5 in the morning.\n"
     ]
    }
   ],
   "source": [
    "print(rag_chain.invoke(\"What are the worker daily working routine?\").content)"
   ]
  },
  {
   "cell_type": "code",
   "execution_count": null,
   "id": "0217757f-424d-430e-b6ff-cf35b28a5e86",
   "metadata": {},
   "outputs": [],
   "source": []
  }
 ],
 "metadata": {
  "kernelspec": {
   "display_name": "Python 3 (ipykernel)",
   "language": "python",
   "name": "python3"
  },
  "language_info": {
   "codemirror_mode": {
    "name": "ipython",
    "version": 3
   },
   "file_extension": ".py",
   "mimetype": "text/x-python",
   "name": "python",
   "nbconvert_exporter": "python",
   "pygments_lexer": "ipython3",
   "version": "3.10.13"
  }
 },
 "nbformat": 4,
 "nbformat_minor": 5
}
