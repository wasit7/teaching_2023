{
 "cells": [
  {
   "cell_type": "code",
   "execution_count": 1,
   "id": "d08be3f2-dd5e-4c5f-9ffe-bd672732312b",
   "metadata": {},
   "outputs": [
    {
     "name": "stdout",
     "output_type": "stream",
     "text": [
      "Requirement already satisfied: pycaret in /home/wasit/miniconda3/envs/teaching_2023/lib/python3.8/site-packages (3.0.4)\n",
      "Requirement already satisfied: ipython>=5.5.0 in /home/wasit/miniconda3/envs/teaching_2023/lib/python3.8/site-packages (from pycaret) (8.12.2)\n",
      "Requirement already satisfied: ipywidgets>=7.6.5 in /home/wasit/miniconda3/envs/teaching_2023/lib/python3.8/site-packages (from pycaret) (8.1.0)\n",
      "Requirement already satisfied: tqdm>=4.62.0 in /home/wasit/miniconda3/envs/teaching_2023/lib/python3.8/site-packages (from pycaret) (4.66.1)\n",
      "Requirement already satisfied: numpy<1.24,>=1.21 in /home/wasit/miniconda3/envs/teaching_2023/lib/python3.8/site-packages (from pycaret) (1.23.5)\n",
      "Requirement already satisfied: pandas<2.0.0,>=1.3.0 in /home/wasit/miniconda3/envs/teaching_2023/lib/python3.8/site-packages (from pycaret) (1.5.3)\n",
      "Requirement already satisfied: jinja2>=1.2 in /home/wasit/.local/lib/python3.8/site-packages (from pycaret) (3.1.2)\n",
      "Requirement already satisfied: scipy<2.0.0 in /home/wasit/miniconda3/envs/teaching_2023/lib/python3.8/site-packages (from pycaret) (1.10.1)\n",
      "Requirement already satisfied: joblib>=1.2.0 in /home/wasit/miniconda3/envs/teaching_2023/lib/python3.8/site-packages (from pycaret) (1.3.2)\n",
      "Requirement already satisfied: scikit-learn<1.3.0,>=1.0 in /home/wasit/miniconda3/envs/teaching_2023/lib/python3.8/site-packages (from pycaret) (1.2.2)\n",
      "Requirement already satisfied: pyod>=1.0.8 in /home/wasit/miniconda3/envs/teaching_2023/lib/python3.8/site-packages (from pycaret) (1.1.0)\n",
      "Requirement already satisfied: imbalanced-learn>=0.8.1 in /home/wasit/miniconda3/envs/teaching_2023/lib/python3.8/site-packages (from pycaret) (0.11.0)\n",
      "Requirement already satisfied: category-encoders>=2.4.0 in /home/wasit/miniconda3/envs/teaching_2023/lib/python3.8/site-packages (from pycaret) (2.6.2)\n",
      "Requirement already satisfied: lightgbm>=3.0.0 in /home/wasit/miniconda3/envs/teaching_2023/lib/python3.8/site-packages (from pycaret) (4.0.0)\n",
      "Requirement already satisfied: numba>=0.55.0 in /home/wasit/miniconda3/envs/teaching_2023/lib/python3.8/site-packages (from pycaret) (0.57.1)\n",
      "Requirement already satisfied: requests>=2.27.1 in /home/wasit/miniconda3/envs/teaching_2023/lib/python3.8/site-packages (from pycaret) (2.31.0)\n",
      "Requirement already satisfied: psutil>=5.9.0 in /home/wasit/miniconda3/envs/teaching_2023/lib/python3.8/site-packages (from pycaret) (5.9.5)\n",
      "Requirement already satisfied: markupsafe>=2.0.1 in /home/wasit/miniconda3/envs/teaching_2023/lib/python3.8/site-packages (from pycaret) (2.1.3)\n",
      "Requirement already satisfied: importlib-metadata>=4.12.0 in /home/wasit/miniconda3/envs/teaching_2023/lib/python3.8/site-packages (from pycaret) (6.8.0)\n",
      "Requirement already satisfied: nbformat>=4.2.0 in /home/wasit/miniconda3/envs/teaching_2023/lib/python3.8/site-packages (from pycaret) (5.9.2)\n",
      "Requirement already satisfied: cloudpickle in /home/wasit/miniconda3/envs/teaching_2023/lib/python3.8/site-packages (from pycaret) (2.2.1)\n",
      "Requirement already satisfied: deprecation>=2.1.0 in /home/wasit/miniconda3/envs/teaching_2023/lib/python3.8/site-packages (from pycaret) (2.1.0)\n",
      "Requirement already satisfied: xxhash in /home/wasit/miniconda3/envs/teaching_2023/lib/python3.8/site-packages (from pycaret) (3.3.0)\n",
      "Requirement already satisfied: matplotlib>=3.3.0 in /home/wasit/miniconda3/envs/teaching_2023/lib/python3.8/site-packages (from pycaret) (3.7.2)\n",
      "Requirement already satisfied: scikit-plot>=0.3.7 in /home/wasit/miniconda3/envs/teaching_2023/lib/python3.8/site-packages (from pycaret) (0.3.7)\n",
      "Requirement already satisfied: yellowbrick>=1.4 in /home/wasit/miniconda3/envs/teaching_2023/lib/python3.8/site-packages (from pycaret) (1.5)\n",
      "Requirement already satisfied: plotly>=5.0.0 in /home/wasit/miniconda3/envs/teaching_2023/lib/python3.8/site-packages (from pycaret) (5.16.1)\n",
      "Requirement already satisfied: kaleido>=0.2.1 in /home/wasit/miniconda3/envs/teaching_2023/lib/python3.8/site-packages (from pycaret) (0.2.1)\n",
      "Requirement already satisfied: schemdraw==0.15 in /home/wasit/miniconda3/envs/teaching_2023/lib/python3.8/site-packages (from pycaret) (0.15)\n",
      "Requirement already satisfied: plotly-resampler>=0.8.3.1 in /home/wasit/miniconda3/envs/teaching_2023/lib/python3.8/site-packages (from pycaret) (0.9.1)\n",
      "Requirement already satisfied: statsmodels>=0.12.1 in /home/wasit/miniconda3/envs/teaching_2023/lib/python3.8/site-packages (from pycaret) (0.14.0)\n",
      "Requirement already satisfied: sktime!=0.17.1,!=0.17.2,!=0.18.0,>=0.16.1 in /home/wasit/miniconda3/envs/teaching_2023/lib/python3.8/site-packages (from pycaret) (0.22.0)\n",
      "Requirement already satisfied: tbats>=1.1.3 in /home/wasit/miniconda3/envs/teaching_2023/lib/python3.8/site-packages (from pycaret) (1.1.3)\n",
      "Requirement already satisfied: pmdarima!=1.8.1,<3.0.0,>=1.8.0 in /home/wasit/miniconda3/envs/teaching_2023/lib/python3.8/site-packages (from pycaret) (2.0.3)\n",
      "Requirement already satisfied: wurlitzer in /home/wasit/miniconda3/envs/teaching_2023/lib/python3.8/site-packages (from pycaret) (3.0.3)\n",
      "Requirement already satisfied: patsy>=0.5.1 in /home/wasit/miniconda3/envs/teaching_2023/lib/python3.8/site-packages (from category-encoders>=2.4.0->pycaret) (0.5.3)\n",
      "Requirement already satisfied: importlib-resources in /home/wasit/miniconda3/envs/teaching_2023/lib/python3.8/site-packages (from category-encoders>=2.4.0->pycaret) (6.0.1)\n",
      "Requirement already satisfied: packaging in /home/wasit/miniconda3/envs/teaching_2023/lib/python3.8/site-packages (from deprecation>=2.1.0->pycaret) (23.1)\n",
      "Requirement already satisfied: threadpoolctl>=2.0.0 in /home/wasit/miniconda3/envs/teaching_2023/lib/python3.8/site-packages (from imbalanced-learn>=0.8.1->pycaret) (3.2.0)\n",
      "Requirement already satisfied: zipp>=0.5 in /home/wasit/miniconda3/envs/teaching_2023/lib/python3.8/site-packages (from importlib-metadata>=4.12.0->pycaret) (3.16.2)\n",
      "Requirement already satisfied: backcall in /home/wasit/miniconda3/envs/teaching_2023/lib/python3.8/site-packages (from ipython>=5.5.0->pycaret) (0.2.0)\n",
      "Requirement already satisfied: decorator in /home/wasit/miniconda3/envs/teaching_2023/lib/python3.8/site-packages (from ipython>=5.5.0->pycaret) (5.1.1)\n",
      "Requirement already satisfied: jedi>=0.16 in /home/wasit/miniconda3/envs/teaching_2023/lib/python3.8/site-packages (from ipython>=5.5.0->pycaret) (0.19.0)\n",
      "Requirement already satisfied: matplotlib-inline in /home/wasit/miniconda3/envs/teaching_2023/lib/python3.8/site-packages (from ipython>=5.5.0->pycaret) (0.1.6)\n",
      "Requirement already satisfied: pickleshare in /home/wasit/miniconda3/envs/teaching_2023/lib/python3.8/site-packages (from ipython>=5.5.0->pycaret) (0.7.5)\n",
      "Requirement already satisfied: prompt-toolkit!=3.0.37,<3.1.0,>=3.0.30 in /home/wasit/miniconda3/envs/teaching_2023/lib/python3.8/site-packages (from ipython>=5.5.0->pycaret) (3.0.39)\n",
      "Requirement already satisfied: pygments>=2.4.0 in /home/wasit/miniconda3/envs/teaching_2023/lib/python3.8/site-packages (from ipython>=5.5.0->pycaret) (2.16.1)\n",
      "Requirement already satisfied: stack-data in /home/wasit/miniconda3/envs/teaching_2023/lib/python3.8/site-packages (from ipython>=5.5.0->pycaret) (0.6.2)\n",
      "Requirement already satisfied: traitlets>=5 in /home/wasit/miniconda3/envs/teaching_2023/lib/python3.8/site-packages (from ipython>=5.5.0->pycaret) (5.9.0)\n",
      "Requirement already satisfied: typing-extensions in /home/wasit/miniconda3/envs/teaching_2023/lib/python3.8/site-packages (from ipython>=5.5.0->pycaret) (4.7.1)\n",
      "Requirement already satisfied: pexpect>4.3 in /home/wasit/miniconda3/envs/teaching_2023/lib/python3.8/site-packages (from ipython>=5.5.0->pycaret) (4.8.0)\n",
      "Requirement already satisfied: comm>=0.1.3 in /home/wasit/miniconda3/envs/teaching_2023/lib/python3.8/site-packages (from ipywidgets>=7.6.5->pycaret) (0.1.4)\n",
      "Requirement already satisfied: widgetsnbextension~=4.0.7 in /home/wasit/miniconda3/envs/teaching_2023/lib/python3.8/site-packages (from ipywidgets>=7.6.5->pycaret) (4.0.8)\n",
      "Requirement already satisfied: jupyterlab-widgets~=3.0.7 in /home/wasit/miniconda3/envs/teaching_2023/lib/python3.8/site-packages (from ipywidgets>=7.6.5->pycaret) (3.0.8)\n",
      "Requirement already satisfied: contourpy>=1.0.1 in /home/wasit/miniconda3/envs/teaching_2023/lib/python3.8/site-packages (from matplotlib>=3.3.0->pycaret) (1.1.0)\n",
      "Requirement already satisfied: cycler>=0.10 in /home/wasit/.local/lib/python3.8/site-packages (from matplotlib>=3.3.0->pycaret) (0.11.0)\n",
      "Requirement already satisfied: fonttools>=4.22.0 in /home/wasit/miniconda3/envs/teaching_2023/lib/python3.8/site-packages (from matplotlib>=3.3.0->pycaret) (4.42.1)\n",
      "Requirement already satisfied: kiwisolver>=1.0.1 in /home/wasit/.local/lib/python3.8/site-packages (from matplotlib>=3.3.0->pycaret) (1.4.4)\n",
      "Requirement already satisfied: pillow>=6.2.0 in /home/wasit/miniconda3/envs/teaching_2023/lib/python3.8/site-packages (from matplotlib>=3.3.0->pycaret) (10.0.0)\n",
      "Requirement already satisfied: pyparsing<3.1,>=2.3.1 in /home/wasit/.local/lib/python3.8/site-packages (from matplotlib>=3.3.0->pycaret) (3.0.9)\n",
      "Requirement already satisfied: python-dateutil>=2.7 in /home/wasit/miniconda3/envs/teaching_2023/lib/python3.8/site-packages (from matplotlib>=3.3.0->pycaret) (2.8.2)\n",
      "Requirement already satisfied: fastjsonschema in /home/wasit/miniconda3/envs/teaching_2023/lib/python3.8/site-packages (from nbformat>=4.2.0->pycaret) (2.18.0)\n",
      "Requirement already satisfied: jsonschema>=2.6 in /home/wasit/miniconda3/envs/teaching_2023/lib/python3.8/site-packages (from nbformat>=4.2.0->pycaret) (4.19.0)\n",
      "Requirement already satisfied: jupyter-core in /home/wasit/miniconda3/envs/teaching_2023/lib/python3.8/site-packages (from nbformat>=4.2.0->pycaret) (5.3.1)\n",
      "Requirement already satisfied: llvmlite<0.41,>=0.40.0dev0 in /home/wasit/miniconda3/envs/teaching_2023/lib/python3.8/site-packages (from numba>=0.55.0->pycaret) (0.40.1)\n",
      "Requirement already satisfied: pytz>=2020.1 in /home/wasit/miniconda3/envs/teaching_2023/lib/python3.8/site-packages (from pandas<2.0.0,>=1.3.0->pycaret) (2023.3)\n",
      "Requirement already satisfied: tenacity>=6.2.0 in /home/wasit/miniconda3/envs/teaching_2023/lib/python3.8/site-packages (from plotly>=5.0.0->pycaret) (8.2.3)\n",
      "Requirement already satisfied: dash<3.0.0,>=2.11.0 in /home/wasit/miniconda3/envs/teaching_2023/lib/python3.8/site-packages (from plotly-resampler>=0.8.3.1->pycaret) (2.12.1)\n",
      "Requirement already satisfied: orjson<4.0.0,>=3.8.0 in /home/wasit/miniconda3/envs/teaching_2023/lib/python3.8/site-packages (from plotly-resampler>=0.8.3.1->pycaret) (3.9.5)\n",
      "Requirement already satisfied: trace-updater>=0.0.8 in /home/wasit/miniconda3/envs/teaching_2023/lib/python3.8/site-packages (from plotly-resampler>=0.8.3.1->pycaret) (0.0.9.1)\n",
      "Requirement already satisfied: tsdownsample==0.1.2 in /home/wasit/miniconda3/envs/teaching_2023/lib/python3.8/site-packages (from plotly-resampler>=0.8.3.1->pycaret) (0.1.2)\n",
      "Requirement already satisfied: Cython!=0.29.18,!=0.29.31,>=0.29 in /home/wasit/miniconda3/envs/teaching_2023/lib/python3.8/site-packages (from pmdarima!=1.8.1,<3.0.0,>=1.8.0->pycaret) (3.0.0)\n",
      "Requirement already satisfied: urllib3 in /home/wasit/miniconda3/envs/teaching_2023/lib/python3.8/site-packages (from pmdarima!=1.8.1,<3.0.0,>=1.8.0->pycaret) (2.0.4)\n",
      "Requirement already satisfied: setuptools!=50.0.0,>=38.6.0 in /home/wasit/miniconda3/envs/teaching_2023/lib/python3.8/site-packages (from pmdarima!=1.8.1,<3.0.0,>=1.8.0->pycaret) (68.0.0)\n",
      "Requirement already satisfied: six in /home/wasit/miniconda3/envs/teaching_2023/lib/python3.8/site-packages (from pyod>=1.0.8->pycaret) (1.16.0)\n",
      "Requirement already satisfied: charset-normalizer<4,>=2 in /home/wasit/miniconda3/envs/teaching_2023/lib/python3.8/site-packages (from requests>=2.27.1->pycaret) (3.2.0)\n",
      "Requirement already satisfied: idna<4,>=2.5 in /home/wasit/miniconda3/envs/teaching_2023/lib/python3.8/site-packages (from requests>=2.27.1->pycaret) (3.4)\n",
      "Requirement already satisfied: certifi>=2017.4.17 in /home/wasit/miniconda3/envs/teaching_2023/lib/python3.8/site-packages (from requests>=2.27.1->pycaret) (2023.7.22)\n",
      "Requirement already satisfied: scikit-base<0.6.0 in /home/wasit/miniconda3/envs/teaching_2023/lib/python3.8/site-packages (from sktime!=0.17.1,!=0.17.2,!=0.18.0,>=0.16.1->pycaret) (0.5.1)\n",
      "Requirement already satisfied: Flask<2.3.0,>=1.0.4 in /home/wasit/miniconda3/envs/teaching_2023/lib/python3.8/site-packages (from dash<3.0.0,>=2.11.0->plotly-resampler>=0.8.3.1->pycaret) (2.2.5)\n",
      "Requirement already satisfied: Werkzeug<2.3.0 in /home/wasit/.local/lib/python3.8/site-packages (from dash<3.0.0,>=2.11.0->plotly-resampler>=0.8.3.1->pycaret) (2.2.2)\n",
      "Requirement already satisfied: dash-html-components==2.0.0 in /home/wasit/miniconda3/envs/teaching_2023/lib/python3.8/site-packages (from dash<3.0.0,>=2.11.0->plotly-resampler>=0.8.3.1->pycaret) (2.0.0)\n",
      "Requirement already satisfied: dash-core-components==2.0.0 in /home/wasit/miniconda3/envs/teaching_2023/lib/python3.8/site-packages (from dash<3.0.0,>=2.11.0->plotly-resampler>=0.8.3.1->pycaret) (2.0.0)\n",
      "Requirement already satisfied: dash-table==5.0.0 in /home/wasit/miniconda3/envs/teaching_2023/lib/python3.8/site-packages (from dash<3.0.0,>=2.11.0->plotly-resampler>=0.8.3.1->pycaret) (5.0.0)\n",
      "Requirement already satisfied: retrying in /home/wasit/miniconda3/envs/teaching_2023/lib/python3.8/site-packages (from dash<3.0.0,>=2.11.0->plotly-resampler>=0.8.3.1->pycaret) (1.3.4)\n",
      "Requirement already satisfied: ansi2html in /home/wasit/miniconda3/envs/teaching_2023/lib/python3.8/site-packages (from dash<3.0.0,>=2.11.0->plotly-resampler>=0.8.3.1->pycaret) (1.8.0)\n",
      "Requirement already satisfied: nest-asyncio in /home/wasit/miniconda3/envs/teaching_2023/lib/python3.8/site-packages (from dash<3.0.0,>=2.11.0->plotly-resampler>=0.8.3.1->pycaret) (1.5.7)\n",
      "Requirement already satisfied: parso<0.9.0,>=0.8.3 in /home/wasit/miniconda3/envs/teaching_2023/lib/python3.8/site-packages (from jedi>=0.16->ipython>=5.5.0->pycaret) (0.8.3)\n",
      "Requirement already satisfied: attrs>=22.2.0 in /home/wasit/miniconda3/envs/teaching_2023/lib/python3.8/site-packages (from jsonschema>=2.6->nbformat>=4.2.0->pycaret) (23.1.0)\n",
      "Requirement already satisfied: jsonschema-specifications>=2023.03.6 in /home/wasit/miniconda3/envs/teaching_2023/lib/python3.8/site-packages (from jsonschema>=2.6->nbformat>=4.2.0->pycaret) (2023.7.1)\n",
      "Requirement already satisfied: pkgutil-resolve-name>=1.3.10 in /home/wasit/miniconda3/envs/teaching_2023/lib/python3.8/site-packages (from jsonschema>=2.6->nbformat>=4.2.0->pycaret) (1.3.10)\n",
      "Requirement already satisfied: referencing>=0.28.4 in /home/wasit/miniconda3/envs/teaching_2023/lib/python3.8/site-packages (from jsonschema>=2.6->nbformat>=4.2.0->pycaret) (0.30.2)\n",
      "Requirement already satisfied: rpds-py>=0.7.1 in /home/wasit/miniconda3/envs/teaching_2023/lib/python3.8/site-packages (from jsonschema>=2.6->nbformat>=4.2.0->pycaret) (0.9.2)\n",
      "Requirement already satisfied: ptyprocess>=0.5 in /home/wasit/miniconda3/envs/teaching_2023/lib/python3.8/site-packages (from pexpect>4.3->ipython>=5.5.0->pycaret) (0.7.0)\n",
      "Requirement already satisfied: wcwidth in /home/wasit/miniconda3/envs/teaching_2023/lib/python3.8/site-packages (from prompt-toolkit!=3.0.37,<3.1.0,>=3.0.30->ipython>=5.5.0->pycaret) (0.2.6)\n",
      "Requirement already satisfied: platformdirs>=2.5 in /home/wasit/miniconda3/envs/teaching_2023/lib/python3.8/site-packages (from jupyter-core->nbformat>=4.2.0->pycaret) (3.10.0)\n",
      "Requirement already satisfied: executing>=1.2.0 in /home/wasit/miniconda3/envs/teaching_2023/lib/python3.8/site-packages (from stack-data->ipython>=5.5.0->pycaret) (1.2.0)\n",
      "Requirement already satisfied: asttokens>=2.1.0 in /home/wasit/miniconda3/envs/teaching_2023/lib/python3.8/site-packages (from stack-data->ipython>=5.5.0->pycaret) (2.2.1)\n",
      "Requirement already satisfied: pure-eval in /home/wasit/miniconda3/envs/teaching_2023/lib/python3.8/site-packages (from stack-data->ipython>=5.5.0->pycaret) (0.2.2)\n",
      "Requirement already satisfied: itsdangerous>=2.0 in /home/wasit/.local/lib/python3.8/site-packages (from Flask<2.3.0,>=1.0.4->dash<3.0.0,>=2.11.0->plotly-resampler>=0.8.3.1->pycaret) (2.1.2)\n",
      "Requirement already satisfied: click>=8.0 in /home/wasit/miniconda3/envs/teaching_2023/lib/python3.8/site-packages (from Flask<2.3.0,>=1.0.4->dash<3.0.0,>=2.11.0->plotly-resampler>=0.8.3.1->pycaret) (8.1.7)\n",
      "Note: you may need to restart the kernel to use updated packages.\n"
     ]
    }
   ],
   "source": [
    "pip install pycaret\n"
   ]
  },
  {
   "cell_type": "code",
   "execution_count": 2,
   "id": "67c54340-3e3e-4663-a728-a57750c2b923",
   "metadata": {},
   "outputs": [
    {
     "data": {
      "image/png": "[encoded data removed]",
      "text/plain": [
       "<Figure size 2200x600 with 1 Axes>"
      ]
     },
     "metadata": {},
     "output_type": "display_data"
    },
    {
     "data": {
      "application/vnd.jupyter.widget-view+json": {
       "model_id": "e48fd89cdde541e88e8339145ee78009",
       "version_major": 2,
       "version_minor": 0
      },
      "text/plain": [
       "interactive(children=(ToggleButtons(description='Plot Type:', icons=('',), options=(('Pipeline Plot', 'pipelin…"
      ]
     },
     "metadata": {},
     "output_type": "display_data"
    },
    {
     "data": {
      "text/html": [
       "<style type=\"text/css\">\n",
       "</style>\n",
       "<table id=\"T_5ace7\">\n",
       "  <thead>\n",
       "    <tr>\n",
       "      <th class=\"blank level0\" >&nbsp;</th>\n",
       "      <th id=\"T_5ace7_level0_col0\" class=\"col_heading level0 col0\" >Model</th>\n",
       "      <th id=\"T_5ace7_level0_col1\" class=\"col_heading level0 col1\" >Accuracy</th>\n",
       "      <th id=\"T_5ace7_level0_col2\" class=\"col_heading level0 col2\" >AUC</th>\n",
       "      <th id=\"T_5ace7_level0_col3\" class=\"col_heading level0 col3\" >Recall</th>\n",
       "      <th id=\"T_5ace7_level0_col4\" class=\"col_heading level0 col4\" >Prec.</th>\n",
       "      <th id=\"T_5ace7_level0_col5\" class=\"col_heading level0 col5\" >F1</th>\n",
       "      <th id=\"T_5ace7_level0_col6\" class=\"col_heading level0 col6\" >Kappa</th>\n",
       "      <th id=\"T_5ace7_level0_col7\" class=\"col_heading level0 col7\" >MCC</th>\n",
       "    </tr>\n",
       "  </thead>\n",
       "  <tbody>\n",
       "    <tr>\n",
       "      <th id=\"T_5ace7_level0_row0\" class=\"row_heading level0 row0\" >0</th>\n",
       "      <td id=\"T_5ace7_row0_col0\" class=\"data row0 col0\" >Linear Discriminant Analysis</td>\n",
       "      <td id=\"T_5ace7_row0_col1\" class=\"data row0 col1\" >0.8380</td>\n",
       "      <td id=\"T_5ace7_row0_col2\" class=\"data row0 col2\" >0.9073</td>\n",
       "      <td id=\"T_5ace7_row0_col3\" class=\"data row0 col3\" >0.7680</td>\n",
       "      <td id=\"T_5ace7_row0_col4\" class=\"data row0 col4\" >0.8067</td>\n",
       "      <td id=\"T_5ace7_row0_col5\" class=\"data row0 col5\" >0.7869</td>\n",
       "      <td id=\"T_5ace7_row0_col6\" class=\"data row0 col6\" >0.6564</td>\n",
       "      <td id=\"T_5ace7_row0_col7\" class=\"data row0 col7\" >0.6569</td>\n",
       "    </tr>\n",
       "  </tbody>\n",
       "</table>\n"
      ],
      "text/plain": [
       "<pandas.io.formats.style.Styler at 0x7fda2fef22e0>"
      ]
     },
     "metadata": {},
     "output_type": "display_data"
    },
    {
     "data": {
      "text/html": [],
      "text/plain": [
       "<IPython.core.display.HTML object>"
      ]
     },
     "metadata": {},
     "output_type": "display_data"
    },
    {
     "name": "stdout",
     "output_type": "stream",
     "text": [
      "Transformation Pipeline and Model Successfully Saved\n"
     ]
    },
    {
     "data": {
      "text/plain": [
       "(Pipeline(memory=FastMemory(location=/tmp/joblib),\n",
       "          steps=[('label_encoding',\n",
       "                  TransformerWrapperWithInverse(exclude=None, include=None,\n",
       "                                                transformer=LabelEncoder())),\n",
       "                 ('numerical_imputer',\n",
       "                  TransformerWrapper(exclude=None,\n",
       "                                     include=['Id', 'WeekofPurchase', 'StoreID',\n",
       "                                              'PriceCH', 'PriceMM', 'DiscCH',\n",
       "                                              'DiscMM', 'SpecialCH', 'SpecialMM',\n",
       "                                              'LoyalCH', 'SalePriceMM',\n",
       "                                              'SalePriceC...\n",
       "                                                                drop_invariant=False,\n",
       "                                                                handle_missing='return_nan',\n",
       "                                                                handle_unknown='value',\n",
       "                                                                mapping=[{'col': 'Store7',\n",
       "                                                                          'data_type': dtype('O'),\n",
       "                                                                          'mapping': No     0\n",
       " Yes    1\n",
       " NaN   -1\n",
       " dtype: int64}],\n",
       "                                                                return_df=True,\n",
       "                                                                verbose=0))),\n",
       "                 ('trained_model',\n",
       "                  LinearDiscriminantAnalysis(covariance_estimator=None,\n",
       "                                             n_components=None, priors=None,\n",
       "                                             shrinkage=None, solver='svd',\n",
       "                                             store_covariance=False,\n",
       "                                             tol=0.0001))],\n",
       "          verbose=False),\n",
       " 'best_pipeline.pkl')"
      ]
     },
     "execution_count": 2,
     "metadata": {},
     "output_type": "execute_result"
    }
   ],
   "source": [
    "# Classification Functional API Example\n",
    "\n",
    "# loading sample dataset\n",
    "from pycaret.datasets import get_data\n",
    "data = get_data('juice')\n",
    "\n",
    "# init setup\n",
    "from pycaret.classification import *\n",
    "s = setup(data, target = 'Purchase', session_id = 123)\n",
    "\n",
    "# model training and selection\n",
    "best = compare_models()\n",
    "\n",
    "# evaluate trained model\n",
    "evaluate_model(best)\n",
    "\n",
    "# predict on hold-out/test set\n",
    "pred_holdout = predict_model(best)\n",
    "\n",
    "# predict on new data\n",
    "new_data = data.copy().drop('Purchase', axis = 1)\n",
    "predictions = predict_model(best, data = new_data)\n",
    "\n",
    "# save model\n",
    "save_model(best, 'best_pipeline')"
   ]
  },
  {
   "cell_type": "code",
   "execution_count": null,
   "id": "b444cb98-4bcc-493f-b80f-af76d3ee6654",
   "metadata": {},
   "outputs": [],
   "source": []
  }
 ],
 "metadata": {
  "kernelspec": {
   "display_name": "Python 3 (ipykernel)",
   "language": "python",
   "name": "python3"
  },
  "language_info": {
   "codemirror_mode": {
    "name": "ipython",
    "version": 3
   },
   "file_extension": ".py",
   "mimetype": "text/x-python",
   "name": "python",
   "nbconvert_exporter": "python",
   "pygments_lexer": "ipython3",
   "version": "3.8.17"
  }
 },
 "nbformat": 4,
 "nbformat_minor": 5
}
