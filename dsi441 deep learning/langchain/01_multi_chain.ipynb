{
 "cells": [
  {
   "cell_type": "code",
   "execution_count": 1,
   "id": "1fa56b50",
   "metadata": {},
   "outputs": [],
   "source": [
    "# pip install python-dotenv openai langchain"
   ]
  },
  {
   "cell_type": "code",
   "execution_count": 2,
   "id": "a3533538-96be-4a90-bac8-b18758ce5917",
   "metadata": {},
   "outputs": [
    {
     "data": {
      "text/plain": [
       "True"
      ]
     },
     "execution_count": 2,
     "metadata": {},
     "output_type": "execute_result"
    }
   ],
   "source": [
    "from dotenv import load_dotenv\n",
    "load_dotenv()\n",
    "# import os\n",
    "# os.environ[\"OPENAI_API_KEY\"] = \"sk-...\""
   ]
  },
  {
   "cell_type": "code",
   "execution_count": 3,
   "id": "d24e3642",
   "metadata": {},
   "outputs": [
    {
     "data": {
      "text/plain": [
       "'เมืองที่เป็นสถานที่เกิดของ ปรีดี พนมยงค์ (Pridi Banomyong) คือ อยุธยา ประเทศไทยครับ/ค่ะ'"
      ]
     },
     "execution_count": 3,
     "metadata": {},
     "output_type": "execute_result"
    }
   ],
   "source": [
    "from operator import itemgetter\n",
    "\n",
    "from langchain.chat_models import ChatOpenAI\n",
    "from langchain.prompts import ChatPromptTemplate\n",
    "from langchain.schema import StrOutputParser\n",
    "\n",
    "prompt1 = ChatPromptTemplate.from_template(\"what is the city that is the birth place of {person}?\")\n",
    "prompt2 = ChatPromptTemplate.from_template(\n",
    "    \"what is country of the city named '{city}'? please answer in {language} language\"\n",
    ")\n",
    "\n",
    "model = ChatOpenAI(\n",
    "    # model='gpt-3.5-turbo-16k-0613',\n",
    "    model='gpt-3.5-turbo-1106',\n",
    "    temperature = 0.0\n",
    ")\n",
    "\n",
    "chain1 = prompt1 | model | StrOutputParser()\n",
    "\n",
    "chain2 = (\n",
    "    {\"city\": chain1, \"language\": itemgetter(\"language\")}\n",
    "    | prompt2\n",
    "    | model\n",
    "    | StrOutputParser()\n",
    ")\n",
    "\n",
    "chain2.invoke({\"person\": \"ปรีดี พนมยงค์\", \"language\": \"Thai\"})"
   ]
  },
  {
   "cell_type": "code",
   "execution_count": 4,
   "id": "364ae507",
   "metadata": {},
   "outputs": [],
   "source": [
    "wish=\"\"\"I wish there's a floating market to boost tourism in Bangkok, Thailand\"\"\"\n",
    "f1=\"\"\"Generate digital startup ideas based on the wishes of the people.For example, when I say \"{wish}\", you generate a business plan for the digital startup complete with idea name, a short one liner, target user persona, user's pain points to solve, main value propositions, sales & marketing channels, revenue stream sources, cost structures, key activities, key resources, key partners, idea validation steps, estimated 1st year cost of operation, and potential business challenges to look for.\"\"\"\n",
    "prompt_f1=ChatPromptTemplate.from_template(f1) #idea\n",
    "\n",
    "f2=\"\"\"\n",
    "from the business idea, please create Mike Chon's user stories with acceptance criteria;\n",
    "\n",
    "# Mike Chon's user stories format\n",
    "As a <user_role>, I want <goal>, so that <benefit>\n",
    "\n",
    "#business idea\n",
    "{idea}\n",
    "\"\"\"\n",
    "prompt_f2=ChatPromptTemplate.from_template(f2) #user_story\n",
    "\n",
    "\n",
    "chain_f1 = prompt_f1 | model | StrOutputParser()\n",
    "chain_f2 = (\n",
    "    {\"idea\": chain_f1}\n",
    "    | prompt_f2\n",
    "    | model\n",
    "    | StrOutputParser()\n",
    ")\n",
    "user_story=chain_f2.invoke({\"wish\": wish})"
   ]
  },
  {
   "cell_type": "code",
   "execution_count": 5,
   "id": "d51934e5-338d-4447-9f5b-28ec4ee9d93a",
   "metadata": {},
   "outputs": [
    {
     "name": "stdout",
     "output_type": "stream",
     "text": [
      "Idea Name: Virtual Bangkok Floating Market Experience\n",
      "\n",
      "One Liner: Experience the vibrant and bustling atmosphere of Bangkok's famous floating markets from the comfort of your own home.\n",
      "\n",
      "Target User Persona: Travel enthusiasts, foodies, and individuals interested in experiencing different cultures.\n",
      "\n",
      "User's Pain Points to Solve: Unable to travel due to time or financial constraints, desire to experience unique cultural experiences, limited access to authentic international markets.\n",
      "\n",
      "Main Value Propositions: Immersive virtual reality experience, access to authentic Thai cuisine and products, convenience of experiencing a popular tourist attraction from anywhere in the world.\n",
      "\n",
      "Sales & Marketing Channels: Social media advertising, influencer partnerships, travel and food blogs, virtual reality forums and communities.\n",
      "\n",
      "Revenue Stream Sources: Ticket sales for virtual market experience, partnerships with local vendors for product sales, advertising and sponsorship opportunities.\n",
      "\n",
      "Cost Structures: Virtual reality technology and development, content creation and curation, marketing and advertising expenses.\n",
      "\n",
      "Key Activities: Developing virtual reality experience, curating authentic market products, marketing and promotion, partnership and vendor management.\n",
      "\n",
      "Key Resources: Virtual reality technology, content creators, market vendors, marketing and sales team.\n",
      "\n",
      "Key Partners: Local market vendors, virtual reality technology providers, travel and food influencers.\n",
      "\n",
      "Idea Validation Steps: Conduct market research on demand for virtual travel experiences, gather feedback from potential users through surveys and focus groups, pilot test the virtual market experience with a small group of users.\n",
      "\n",
      "Estimated 1st Year Cost of Operation: $500,000\n",
      "\n",
      "Potential Business Challenges: Securing partnerships with authentic market vendors, ensuring a seamless and immersive virtual reality experience, competition from other virtual travel experiences.\n"
     ]
    }
   ],
   "source": [
    "print(chain_f1.invoke({\"wish\": wish}))"
   ]
  },
  {
   "cell_type": "code",
   "execution_count": 6,
   "id": "f681564a",
   "metadata": {},
   "outputs": [
    {
     "name": "stdout",
     "output_type": "stream",
     "text": [
      "1. As a travel enthusiast, I want to experience Bangkok's iconic floating market virtually, so that I can explore the culture and cuisine without physically being there.\n",
      "\n",
      "Acceptance Criteria:\n",
      "- Access to a virtual reality platform that accurately represents the sights and sounds of a traditional Bangkok floating market.\n",
      "- Ability to interact with virtual vendors and purchase authentic Thai products and cuisine.\n",
      "- Educational content about the history and significance of the floating market experience.\n",
      "\n",
      "2. As a foodie, I want to have access to authentic Thai cuisine and products, so that I can satisfy my cravings for international flavors.\n",
      "\n",
      "Acceptance Criteria:\n",
      "- A wide variety of Thai food and products available for purchase within the virtual market.\n",
      "- High-quality and authentic representation of Thai cuisine and products.\n",
      "- Ability to have products delivered to my location for a true taste of Bangkok's floating market experience.\n",
      "\n",
      "3. As a cultural explorer, I want to learn about the traditions and customs of the Bangkok floating market, so that I can expand my knowledge and understanding of different cultures.\n",
      "\n",
      "Acceptance Criteria:\n",
      "- Engaging and informative content about the history and significance of the floating market.\n",
      "- Opportunities to interact with virtual vendors and artisans to learn about their crafts and traditions.\n",
      "- Access to virtual tours and experiences that showcase the cultural aspects of the floating market.\n",
      "\n",
      "4. As a business owner, I want to partner with the Virtual Bangkok Floating Market Experience, so that I can reach a global audience and showcase my products to potential customers.\n",
      "\n",
      "Acceptance Criteria:\n",
      "- Clear and transparent partnership agreements that outline commission structures and expectations.\n",
      "- Access to a user-friendly platform for showcasing and selling products within the virtual market.\n",
      "- Marketing and promotional support to reach a wide audience of potential customers.\n"
     ]
    }
   ],
   "source": [
    "print(user_story)"
   ]
  },
  {
   "cell_type": "code",
   "execution_count": null,
   "id": "a89ade43-b0d1-4890-a424-d31dbb846865",
   "metadata": {},
   "outputs": [],
   "source": []
  }
 ],
 "metadata": {
  "kernelspec": {
   "display_name": "Python 3 (ipykernel)",
   "language": "python",
   "name": "python3"
  },
  "language_info": {
   "codemirror_mode": {
    "name": "ipython",
    "version": 3
   },
   "file_extension": ".py",
   "mimetype": "text/x-python",
   "name": "python",
   "nbconvert_exporter": "python",
   "pygments_lexer": "ipython3",
   "version": "3.10.13"
  }
 },
 "nbformat": 4,
 "nbformat_minor": 5
}
