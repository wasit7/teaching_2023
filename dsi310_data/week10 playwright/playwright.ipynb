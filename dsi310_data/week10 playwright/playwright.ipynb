{
 "cells": [
  {
   "cell_type": "markdown",
   "id": "75c7590e-bf96-482e-9fa7-1def09c90fdb",
   "metadata": {},
   "source": [
    "### setup\n",
    "https://playwright.dev/python/docs/intro"
   ]
  },
  {
   "cell_type": "code",
   "execution_count": 1,
   "id": "53e08f1f-c0d9-44a8-9f2f-7d3463883540",
   "metadata": {},
   "outputs": [],
   "source": [
    "# conda config --add channels conda-forge\n",
    "# conda config --add channels microsoft\n",
    "# conda install playwright"
   ]
  },
  {
   "cell_type": "code",
   "execution_count": 2,
   "id": "bdc8f4b9-3131-4987-a6f8-5cff4e153798",
   "metadata": {},
   "outputs": [],
   "source": [
    "# playwright install"
   ]
  },
  {
   "cell_type": "markdown",
   "id": "f0c14cff-7731-42e5-bac7-0ab17becbd18",
   "metadata": {},
   "source": [
    "### run demo"
   ]
  },
  {
   "cell_type": "code",
   "execution_count": 3,
   "id": "081ad34c-7689-4985-a1cb-5990aa593a0a",
   "metadata": {},
   "outputs": [],
   "source": [
    "from playwright.async_api import async_playwright\n",
    "url='https://kb.hsri.or.th/dspace/recent-submissions?offset=0'\n",
    "pw = await async_playwright().start()\n",
    "browser = await pw.chromium.launch(headless = False)\n",
    "page = await browser.new_page()\n",
    "html = await page.goto(url)\n",
    "# await page.screenshot(path=\"example.png\")\n",
    "# await browser.close()\n",
    "# await pw.stop()"
   ]
  },
  {
   "cell_type": "code",
   "execution_count": 4,
   "id": "945fcb99-1e31-45cc-901f-e2959b980746",
   "metadata": {},
   "outputs": [],
   "source": [
    "selector = await page.query_selector('div.main-content')\n",
    "html = await selector.inner_html()"
   ]
  },
  {
   "cell_type": "code",
   "execution_count": 5,
   "id": "6a9e4543-0578-4732-9f32-04748f528794",
   "metadata": {},
   "outputs": [],
   "source": [
    "from bs4 import BeautifulSoup\n",
    "soup = BeautifulSoup(html, \"html.parser\")"
   ]
  },
  {
   "cell_type": "code",
   "execution_count": 6,
   "id": "f4c5ba55-0088-4446-aa4d-6cffba8a0516",
   "metadata": {},
   "outputs": [
    {
     "data": {
      "text/plain": [
       "<a href=\"/dspace/handle/11228/5963\" target=\"_blank\">การวิเคราะห์ต้นทุนอรรถประโยชน์และความเป็นไปได้ของการตรวจคัดกรองมะเร็งปากมดลูกด้วยวิธี HPV DNA โดยชุดเก็บตัวอย่างด้วยตัวเองในประเทศไทย</a>"
      ]
     },
     "execution_count": 6,
     "metadata": {},
     "output_type": "execute_result"
    }
   ],
   "source": [
    "articles = soup.select('h4.artifact-title a')\n",
    "articles[0]"
   ]
  },
  {
   "cell_type": "code",
   "execution_count": 7,
   "id": "2fbe900e-60c0-49b5-a4dd-e2202db7b6ad",
   "metadata": {},
   "outputs": [
    {
     "name": "stdout",
     "output_type": "stream",
     "text": [
      "/dspace/handle/11228/5963 การวิเคราะห์ต้นทุนอรรถประโยชน์และความเป็นไปได้ของการตรวจคัดกรองมะเร็งปากมดลูกด้วยวิธี HPV DNA โดยชุดเก็บตัวอย่างด้วยตัวเองในประเทศไทย\n",
      "/dspace/handle/11228/5962 การศึกษาระดับภูมิคุ้มกันต่อโรคไวรัสตับอักเสบ เอ บี ซี หัด หัดเยอรมัน คางทูม สุกใส คอตีบ บาดทะยัก และไอกรน ในประชากรจังหวัดชลบุรี\n",
      "/dspace/handle/11228/5961 การพัฒนาชุมชนต้นแบบด้านความร่วมมือในการใช้ยาแบบบูรณาการสำหรับผู้ป่วยโรคไม่ติดต่อเรื้อรัง\n",
      "/dspace/handle/11228/5960 การวิจัยและพัฒนาแบบวัดความร่วมมือในการใช้ยาหลายมิติสำหรับผู้ป่วยโรคไม่ติดต่อเรื้อรัง ภายใต้บริบทประเทศไทย\n",
      "/dspace/handle/11228/5959 ยุติวัณโรคล้านนา โดยการมีส่วนร่วมของร้านขายยา และคลินิกเอกชนในการคัดกรองและส่งต่อผู้มีอาการวัณโรค\n",
      "/dspace/handle/11228/5958 ธรรมชาติของปัญหาความร่วมมือในการใช้ยาของผู้ป่วยไทยที่มีโรคไม่ติดต่อเรื้อรังตามขั้นตอนการจัดการการใช้ยาด้วยตนเอง\n",
      "/dspace/handle/11228/5957 ความร่วมมือในการรักษาด้วยยาของผู้ป่วยโรคไม่ติดต่อเรื้อรังที่มารับการรักษาที่คลินิกโรคเรื้อรังของโรงพยาบาลชุมชน: การวิจัยเชิงคุณภาพ\n",
      "/dspace/handle/11228/5956 การศึกษาระบบบริการสุขภาพด้านการใช้ยาในผู้ป่วยโรคไม่ติดต่อเรื้อรังในระดับปฏิบัติการในมุมมองของผู้ให้บริการและผู้รับบริการ\n",
      "/dspace/handle/11228/5955 หลักฐานเชิงประจักษ์ความร่วมมือในการรักษาด้วยยาของผู้ป่วยโรคไม่ติดต่อเรื้อรังในชุมชนประเทศไทย: การทบทวนวรรณกรรมแบบบูรณาการและการใช้เทคนิคเดลฟาย\n",
      "/dspace/handle/11228/5954 การประเมินความคุ้มค่าทางเศรษฐศาสตร์ของการตรวจคัดกรองโรคไตเรื้อรังในผู้สูงอายุ\n",
      "/dspace/handle/11228/5953 การพัฒนาแอปพลิเคชันคุณลูกสำหรับหญิงตั้งครรภ์เพื่อส่งเสริมสุขภาพแม่และเด็ก\n",
      "/dspace/handle/11228/5952 การพัฒนาเครื่องมือและช่องทางการสื่อสารแบบดิจิทัลบนแพลตฟอร์มโมบายแอปพลิเคชันเพื่อการเฝ้าระวังผลกระทบทางสุขภาพโดยชุมชน: กรณีมลพิษข้ามพรมแดนจากโรงไฟฟ้าถ่านหินหงสาใน สปป.ลาว\n",
      "/dspace/handle/11228/5951 การประเมินผลกระทบต่อสุขภาพของประชาชนภายหลังการถ่ายโอนโรงพยาบาลส่งเสริมสุขภาพตำบลให้แก่องค์การบริหารส่วนจังหวัด ในปีงบประมาณ พ.ศ. 2566 : ระยะที่ 1 การประเมินสัญญาณเตือนของผลกระทบต่อสถานะสุขภาพที่อาจเกิดขึ้นจากการศึกษาข้อมูลย้อนหลังและการจัดทำกรณีศึกษา\n",
      "/dspace/handle/11228/5950 Policy Brief - การศึกษาหน้าที่และอำนาจขององค์การบริหารส่วนจังหวัดพิษณุโลกในเรื่องการรับถ่ายโอนโรงพยาบาลส่งเสริมสุขภาพตำบลให้องค์การบริหารส่วนจังหวัดพิษณุโลก กรณีศึกษาเพื่อจัดทำข้อเสนอแนะเพื่อการปฏิรูปกฎหมายและแก้ไขอนุบัญญัติที่เกี่ยวข้อง\n",
      "/dspace/handle/11228/5949 การจัดทำกลไกการบริหารจัดการและบริการแบบบูรณาการในพื้นที่เขตสุขภาพนำร่อง\n",
      "/dspace/handle/11228/5948 การพัฒนาระบบสุขภาพปฐมภูมิบนฐานการคลังที่เป็นธรรมและยั่งยืนสําหรับคนไทยถ้วนหน้า\n",
      "/dspace/handle/11228/5947 การเฝ้าระวังการติดเชื้อไวรัสซาร์โควี-2 ในโรงงาน ด้วยการตรวจแอนติเจนจากน้ำลาย\n",
      "/dspace/handle/11228/5946 แผนงานการพัฒนาเซนเซอร์วัดคุณสมบัติทางความร้อนเพื่อใช้ทางด้านเภสัชกรรมและทางการแพทย์ - ระยะที่ 2 พัฒนาเซนเซอร์สำหรับทดสอบในกระบวนการผลิต\n",
      "/dspace/handle/11228/5945 รวมระเบียบ กฎหมายที่เป็นข้อพึงระวังในการปฏิบัติหน้าที่ของเจ้าหน้าที่ของรัฐที่เกี่ยวข้องกับการรับถ่ายโอนภารกิจโรงพยาบาลส่งเสริมสุขภาพตำบลให้องค์การบริหารส่วนจังหวัด\n",
      "/dspace/handle/11228/5944 วารสารวิจัยระบบสาธารณสุข ปีที่ 17 ฉบับที่ 3 กรกฎาคม-กันยายน 2566\n"
     ]
    }
   ],
   "source": [
    "for i in articles:\n",
    "    print(i['href'],i.text)"
   ]
  },
  {
   "cell_type": "code",
   "execution_count": 8,
   "id": "1ba9726b-7ece-43b5-9d79-1177e3a667e2",
   "metadata": {},
   "outputs": [],
   "source": [
    "import pandas as pd\n",
    "import numpy as np\n",
    "d=[ ['https://kb.hsri.or.th'+i['href'], i.text] for i in articles]\n",
    "a=np.array(d)\n",
    "dictionary = {\n",
    "    'url':a[:,0],\n",
    "    'title':a[:,1]\n",
    "}"
   ]
  },
  {
   "cell_type": "code",
   "execution_count": 9,
   "id": "44c6f38a-cce5-4270-b30c-2503c0db7168",
   "metadata": {},
   "outputs": [
    {
     "data": {
      "text/html": [
       "<div>\n",
       "<style scoped>\n",
       "    .dataframe tbody tr th:only-of-type {\n",
       "        vertical-align: middle;\n",
       "    }\n",
       "\n",
       "    .dataframe tbody tr th {\n",
       "        vertical-align: top;\n",
       "    }\n",
       "\n",
       "    .dataframe thead th {\n",
       "        text-align: right;\n",
       "    }\n",
       "</style>\n",
       "<table border=\"1\" class=\"dataframe\">\n",
       "  <thead>\n",
       "    <tr style=\"text-align: right;\">\n",
       "      <th></th>\n",
       "      <th>url</th>\n",
       "      <th>title</th>\n",
       "    </tr>\n",
       "  </thead>\n",
       "  <tbody>\n",
       "    <tr>\n",
       "      <th>0</th>\n",
       "      <td>https://kb.hsri.or.th/dspace/handle/11228/5963</td>\n",
       "      <td>การวิเคราะห์ต้นทุนอรรถประโยชน์และความเป็นไปได้...</td>\n",
       "    </tr>\n",
       "    <tr>\n",
       "      <th>1</th>\n",
       "      <td>https://kb.hsri.or.th/dspace/handle/11228/5962</td>\n",
       "      <td>การศึกษาระดับภูมิคุ้มกันต่อโรคไวรัสตับอักเสบ เ...</td>\n",
       "    </tr>\n",
       "    <tr>\n",
       "      <th>2</th>\n",
       "      <td>https://kb.hsri.or.th/dspace/handle/11228/5961</td>\n",
       "      <td>การพัฒนาชุมชนต้นแบบด้านความร่วมมือในการใช้ยาแบ...</td>\n",
       "    </tr>\n",
       "    <tr>\n",
       "      <th>3</th>\n",
       "      <td>https://kb.hsri.or.th/dspace/handle/11228/5960</td>\n",
       "      <td>การวิจัยและพัฒนาแบบวัดความร่วมมือในการใช้ยาหลา...</td>\n",
       "    </tr>\n",
       "    <tr>\n",
       "      <th>4</th>\n",
       "      <td>https://kb.hsri.or.th/dspace/handle/11228/5959</td>\n",
       "      <td>ยุติวัณโรคล้านนา โดยการมีส่วนร่วมของร้านขายยา ...</td>\n",
       "    </tr>\n",
       "    <tr>\n",
       "      <th>5</th>\n",
       "      <td>https://kb.hsri.or.th/dspace/handle/11228/5958</td>\n",
       "      <td>ธรรมชาติของปัญหาความร่วมมือในการใช้ยาของผู้ป่ว...</td>\n",
       "    </tr>\n",
       "    <tr>\n",
       "      <th>6</th>\n",
       "      <td>https://kb.hsri.or.th/dspace/handle/11228/5957</td>\n",
       "      <td>ความร่วมมือในการรักษาด้วยยาของผู้ป่วยโรคไม่ติด...</td>\n",
       "    </tr>\n",
       "    <tr>\n",
       "      <th>7</th>\n",
       "      <td>https://kb.hsri.or.th/dspace/handle/11228/5956</td>\n",
       "      <td>การศึกษาระบบบริการสุขภาพด้านการใช้ยาในผู้ป่วยโ...</td>\n",
       "    </tr>\n",
       "    <tr>\n",
       "      <th>8</th>\n",
       "      <td>https://kb.hsri.or.th/dspace/handle/11228/5955</td>\n",
       "      <td>หลักฐานเชิงประจักษ์ความร่วมมือในการรักษาด้วยยา...</td>\n",
       "    </tr>\n",
       "    <tr>\n",
       "      <th>9</th>\n",
       "      <td>https://kb.hsri.or.th/dspace/handle/11228/5954</td>\n",
       "      <td>การประเมินความคุ้มค่าทางเศรษฐศาสตร์ของการตรวจค...</td>\n",
       "    </tr>\n",
       "    <tr>\n",
       "      <th>10</th>\n",
       "      <td>https://kb.hsri.or.th/dspace/handle/11228/5953</td>\n",
       "      <td>การพัฒนาแอปพลิเคชันคุณลูกสำหรับหญิงตั้งครรภ์เพ...</td>\n",
       "    </tr>\n",
       "    <tr>\n",
       "      <th>11</th>\n",
       "      <td>https://kb.hsri.or.th/dspace/handle/11228/5952</td>\n",
       "      <td>การพัฒนาเครื่องมือและช่องทางการสื่อสารแบบดิจิท...</td>\n",
       "    </tr>\n",
       "    <tr>\n",
       "      <th>12</th>\n",
       "      <td>https://kb.hsri.or.th/dspace/handle/11228/5951</td>\n",
       "      <td>การประเมินผลกระทบต่อสุขภาพของประชาชนภายหลังการ...</td>\n",
       "    </tr>\n",
       "    <tr>\n",
       "      <th>13</th>\n",
       "      <td>https://kb.hsri.or.th/dspace/handle/11228/5950</td>\n",
       "      <td>Policy Brief - การศึกษาหน้าที่และอำนาจขององค์ก...</td>\n",
       "    </tr>\n",
       "    <tr>\n",
       "      <th>14</th>\n",
       "      <td>https://kb.hsri.or.th/dspace/handle/11228/5949</td>\n",
       "      <td>การจัดทำกลไกการบริหารจัดการและบริการแบบบูรณากา...</td>\n",
       "    </tr>\n",
       "    <tr>\n",
       "      <th>15</th>\n",
       "      <td>https://kb.hsri.or.th/dspace/handle/11228/5948</td>\n",
       "      <td>การพัฒนาระบบสุขภาพปฐมภูมิบนฐานการคลังที่เป็นธร...</td>\n",
       "    </tr>\n",
       "    <tr>\n",
       "      <th>16</th>\n",
       "      <td>https://kb.hsri.or.th/dspace/handle/11228/5947</td>\n",
       "      <td>การเฝ้าระวังการติดเชื้อไวรัสซาร์โควี-2 ในโรงงา...</td>\n",
       "    </tr>\n",
       "    <tr>\n",
       "      <th>17</th>\n",
       "      <td>https://kb.hsri.or.th/dspace/handle/11228/5946</td>\n",
       "      <td>แผนงานการพัฒนาเซนเซอร์วัดคุณสมบัติทางความร้อนเ...</td>\n",
       "    </tr>\n",
       "    <tr>\n",
       "      <th>18</th>\n",
       "      <td>https://kb.hsri.or.th/dspace/handle/11228/5945</td>\n",
       "      <td>รวมระเบียบ กฎหมายที่เป็นข้อพึงระวังในการปฏิบัต...</td>\n",
       "    </tr>\n",
       "    <tr>\n",
       "      <th>19</th>\n",
       "      <td>https://kb.hsri.or.th/dspace/handle/11228/5944</td>\n",
       "      <td>วารสารวิจัยระบบสาธารณสุข ปีที่ 17 ฉบับที่ 3 กร...</td>\n",
       "    </tr>\n",
       "  </tbody>\n",
       "</table>\n",
       "</div>"
      ],
      "text/plain": [
       "                                               url  \\\n",
       "0   https://kb.hsri.or.th/dspace/handle/11228/5963   \n",
       "1   https://kb.hsri.or.th/dspace/handle/11228/5962   \n",
       "2   https://kb.hsri.or.th/dspace/handle/11228/5961   \n",
       "3   https://kb.hsri.or.th/dspace/handle/11228/5960   \n",
       "4   https://kb.hsri.or.th/dspace/handle/11228/5959   \n",
       "5   https://kb.hsri.or.th/dspace/handle/11228/5958   \n",
       "6   https://kb.hsri.or.th/dspace/handle/11228/5957   \n",
       "7   https://kb.hsri.or.th/dspace/handle/11228/5956   \n",
       "8   https://kb.hsri.or.th/dspace/handle/11228/5955   \n",
       "9   https://kb.hsri.or.th/dspace/handle/11228/5954   \n",
       "10  https://kb.hsri.or.th/dspace/handle/11228/5953   \n",
       "11  https://kb.hsri.or.th/dspace/handle/11228/5952   \n",
       "12  https://kb.hsri.or.th/dspace/handle/11228/5951   \n",
       "13  https://kb.hsri.or.th/dspace/handle/11228/5950   \n",
       "14  https://kb.hsri.or.th/dspace/handle/11228/5949   \n",
       "15  https://kb.hsri.or.th/dspace/handle/11228/5948   \n",
       "16  https://kb.hsri.or.th/dspace/handle/11228/5947   \n",
       "17  https://kb.hsri.or.th/dspace/handle/11228/5946   \n",
       "18  https://kb.hsri.or.th/dspace/handle/11228/5945   \n",
       "19  https://kb.hsri.or.th/dspace/handle/11228/5944   \n",
       "\n",
       "                                                title  \n",
       "0   การวิเคราะห์ต้นทุนอรรถประโยชน์และความเป็นไปได้...  \n",
       "1   การศึกษาระดับภูมิคุ้มกันต่อโรคไวรัสตับอักเสบ เ...  \n",
       "2   การพัฒนาชุมชนต้นแบบด้านความร่วมมือในการใช้ยาแบ...  \n",
       "3   การวิจัยและพัฒนาแบบวัดความร่วมมือในการใช้ยาหลา...  \n",
       "4   ยุติวัณโรคล้านนา โดยการมีส่วนร่วมของร้านขายยา ...  \n",
       "5   ธรรมชาติของปัญหาความร่วมมือในการใช้ยาของผู้ป่ว...  \n",
       "6   ความร่วมมือในการรักษาด้วยยาของผู้ป่วยโรคไม่ติด...  \n",
       "7   การศึกษาระบบบริการสุขภาพด้านการใช้ยาในผู้ป่วยโ...  \n",
       "8   หลักฐานเชิงประจักษ์ความร่วมมือในการรักษาด้วยยา...  \n",
       "9   การประเมินความคุ้มค่าทางเศรษฐศาสตร์ของการตรวจค...  \n",
       "10  การพัฒนาแอปพลิเคชันคุณลูกสำหรับหญิงตั้งครรภ์เพ...  \n",
       "11  การพัฒนาเครื่องมือและช่องทางการสื่อสารแบบดิจิท...  \n",
       "12  การประเมินผลกระทบต่อสุขภาพของประชาชนภายหลังการ...  \n",
       "13  Policy Brief - การศึกษาหน้าที่และอำนาจขององค์ก...  \n",
       "14  การจัดทำกลไกการบริหารจัดการและบริการแบบบูรณากา...  \n",
       "15  การพัฒนาระบบสุขภาพปฐมภูมิบนฐานการคลังที่เป็นธร...  \n",
       "16  การเฝ้าระวังการติดเชื้อไวรัสซาร์โควี-2 ในโรงงา...  \n",
       "17  แผนงานการพัฒนาเซนเซอร์วัดคุณสมบัติทางความร้อนเ...  \n",
       "18  รวมระเบียบ กฎหมายที่เป็นข้อพึงระวังในการปฏิบัต...  \n",
       "19  วารสารวิจัยระบบสาธารณสุข ปีที่ 17 ฉบับที่ 3 กร...  "
      ]
     },
     "execution_count": 9,
     "metadata": {},
     "output_type": "execute_result"
    }
   ],
   "source": [
    "df=pd.DataFrame(dictionary)\n",
    "df"
   ]
  },
  {
   "cell_type": "code",
   "execution_count": 10,
   "id": "b5e603a5-307a-4b0a-88cd-03014044d865",
   "metadata": {},
   "outputs": [],
   "source": [
    "for i in df.iterrows():\n",
    "    url=i[1]['url']\n",
    "    html = await page.goto(url)"
   ]
  },
  {
   "cell_type": "code",
   "execution_count": 11,
   "id": "2cf88814-2b34-4538-ae1a-b74599590c61",
   "metadata": {},
   "outputs": [
    {
     "ename": "SyntaxError",
     "evalue": "invalid syntax (2091167349.py, line 1)",
     "output_type": "error",
     "traceback": [
      "\u001b[0;36m  Cell \u001b[0;32mIn[11], line 1\u001b[0;36m\u001b[0m\n\u001b[0;31m    https://kb.hsri.or.th/dspace/handle/11228/5963\u001b[0m\n\u001b[0m          ^\u001b[0m\n\u001b[0;31mSyntaxError\u001b[0m\u001b[0;31m:\u001b[0m invalid syntax\n"
     ]
    }
   ],
   "source": [
    "https://kb.hsri.or.th/dspace/handle/11228/5963"
   ]
  },
  {
   "cell_type": "code",
   "execution_count": null,
   "id": "06ec4fbc-b974-4398-9a79-6e4fcf8a6514",
   "metadata": {},
   "outputs": [],
   "source": [
    "i[1]['url']"
   ]
  },
  {
   "cell_type": "code",
   "execution_count": null,
   "id": "0e593fb7-9c11-4995-877d-21cde94f13bb",
   "metadata": {},
   "outputs": [],
   "source": []
  }
 ],
 "metadata": {
  "kernelspec": {
   "display_name": "Python 3 (ipykernel)",
   "language": "python",
   "name": "python3"
  },
  "language_info": {
   "codemirror_mode": {
    "name": "ipython",
    "version": 3
   },
   "file_extension": ".py",
   "mimetype": "text/x-python",
   "name": "python",
   "nbconvert_exporter": "python",
   "pygments_lexer": "ipython3",
   "version": "3.10.13"
  }
 },
 "nbformat": 4,
 "nbformat_minor": 5
}
