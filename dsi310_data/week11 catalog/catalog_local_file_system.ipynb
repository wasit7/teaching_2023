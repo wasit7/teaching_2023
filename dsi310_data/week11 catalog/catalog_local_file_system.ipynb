{
 "cells": [
  {
   "cell_type": "code",
   "execution_count": 1,
   "id": "d44d065b-28e6-48fa-b189-0baa0a9b56a2",
   "metadata": {},
   "outputs": [],
   "source": [
    "# pip install fsspec gcsfs pandas pyarrow"
   ]
  },
  {
   "cell_type": "code",
   "execution_count": 2,
   "id": "e5629382-f2c7-4132-a30b-199b92054048",
   "metadata": {},
   "outputs": [],
   "source": [
    "import pandas as pd\n",
    "import fsspec\n",
    "import pyarrow as pa\n",
    "import pyarrow.parquet as pq\n",
    "from datetime import datetime\n",
    "import os\n",
    "\n",
    "def tree(fs, path, prefix=\"\"):\n",
    "    \"\"\"Recursively list the contents of a directory in a tree-like format.\"\"\"\n",
    "    # print(path)\n",
    "    items = fs.ls(path, detail=True)\n",
    "    for i, item in enumerate(items):\n",
    "        is_last = i == (len(items) - 1)  # Check if this is the last item\n",
    "        if item['type'] == 'directory':\n",
    "            # Print the directory name\n",
    "            print(f\"{prefix}{'└── ' if is_last else '├── '}{item['name'].split('/')[-1]}\")\n",
    "            # Recursively list this directory's contents\n",
    "            new_prefix = prefix + ('    ' if is_last else '│   ')\n",
    "            tree(fs, item['name'], new_prefix)\n",
    "        else:\n",
    "            # Print the file name\n",
    "            print(f\"{prefix}{'└── ' if is_last else '├── '}{item['name'].split('/')[-1]}\")\n"
   ]
  },
  {
   "cell_type": "markdown",
   "id": "cf25db13-33b9-462e-9249-c1e58de6e1b7",
   "metadata": {},
   "source": [
    "### Local File System"
   ]
  },
  {
   "cell_type": "code",
   "execution_count": 3,
   "id": "45b75e25-7bca-4ef8-8bd2-ab5ae8047929",
   "metadata": {},
   "outputs": [
    {
     "name": "stdout",
     "output_type": "stream",
     "text": [
      "├── .ipynb_checkpoints\n",
      "└── readme.md\n"
     ]
    }
   ],
   "source": [
    "fs = fsspec.filesystem('file',auto_mkdir=True) #fsspec.filesystem(catalog_path, auto_mkdir=False)\n",
    "\n",
    "catalog_path='./catalog/'\n",
    "with fs.open(catalog_path+'readme.md','wb') as f:\n",
    "    f.write(b'# Hello')\n",
    "    \n",
    "tree(fs,catalog_path)"
   ]
  },
  {
   "cell_type": "markdown",
   "id": "40dbc12c-4238-4173-9eb8-6104e3866d17",
   "metadata": {},
   "source": [
    "### Google Cloud Storage(GCS)"
   ]
  },
  {
   "cell_type": "code",
   "execution_count": 4,
   "id": "c083b78d-3b5d-4d0d-b449-e0d211e4a1b8",
   "metadata": {},
   "outputs": [],
   "source": [
    "# gcs_token_path = os.path.join('../_env/teacher-dsi310-2023.json')\n",
    "# catalog_path = 'gcs://dsi310_bucket/'\n",
    "# fs=fsspec.filesystem('gcs', token=gcs_token_path)\n",
    "# with fs.open(catalog_path+'readme.md','wb') as f:\n",
    "#     f.write(b'# Hello')\n",
    "# tree(fs,catalog_path)"
   ]
  },
  {
   "cell_type": "code",
   "execution_count": 5,
   "id": "4b982e19-e678-4535-a861-04c3729fd84f",
   "metadata": {},
   "outputs": [
    {
     "data": {
      "text/plain": [
       "date: timestamp[ns]\n",
       "product_id: int64\n",
       "quantity: int64\n",
       "price: double\n",
       "-- schema metadata --\n",
       "metadata: '{'source': 'Sales System', 'creation_date': '2023-12-05T21:15:' + 11\n",
       "dictionary: '{'date': 'Transaction date', 'product_id': 'Product identifi' + 56"
      ]
     },
     "execution_count": 5,
     "metadata": {},
     "output_type": "execute_result"
    }
   ],
   "source": [
    "# Example DataFrame\n",
    "df = pd.DataFrame({\n",
    "    'date': pd.date_range(start='2023-01-01', periods=5, freq='D'),\n",
    "    'product_id': range(1, 6),\n",
    "    'quantity': [5, 3, 6, 2, 7],\n",
    "    'price': [20.5, 10.0, 15.5, 25.0, 30.0]\n",
    "})\n",
    "\n",
    "# Metadata and Data Dictionary\n",
    "metadata = {'source': 'Sales System', 'creation_date': datetime.now().isoformat()}\n",
    "data_dictionary = {\n",
    "    'date': 'Transaction date',\n",
    "    'product_id': 'Product identifier',\n",
    "    'quantity': 'Quantity sold',\n",
    "    'price': 'Sale price'\n",
    "}\n",
    "\n",
    "# Convert DataFrame to PyArrow Table with metadata\n",
    "table = pa.Table.from_pandas(df)\n",
    "table = table.replace_schema_metadata({'metadata': str(metadata), 'dictionary': str(data_dictionary)})\n",
    "\n",
    "table.schema"
   ]
  },
  {
   "cell_type": "code",
   "execution_count": 6,
   "id": "4197f540-4a27-41b8-bc62-5939fbee81cd",
   "metadata": {},
   "outputs": [
    {
     "name": "stdout",
     "output_type": "stream",
     "text": [
      "Metadata: {'source': 'Sales System', 'creation_date': '2023-12-05T21:15:04.991240'}\n",
      "Data Dictionary: {'date': 'Transaction date', 'product_id': 'Product identifier', 'quantity': 'Quantity sold', 'price': 'Sale price'}\n"
     ]
    }
   ],
   "source": [
    "# Extracting metadata and data dictionary\n",
    "metadata = eval(table.schema.metadata[b'metadata']) if b'metadata' in table.schema.metadata else None\n",
    "data_dictionary = eval(table.schema.metadata[b'dictionary']) if b'dictionary' in table.schema.metadata else None\n",
    "\n",
    "# Display the DataFrame, Metadata, and Data Dictionary\n",
    "print(\"Metadata:\", metadata)\n",
    "print(\"Data Dictionary:\", data_dictionary)"
   ]
  },
  {
   "cell_type": "code",
   "execution_count": 7,
   "id": "30225f20-9f4a-4219-b49b-1e93b173a651",
   "metadata": {},
   "outputs": [
    {
     "name": "stdout",
     "output_type": "stream",
     "text": [
      "├── sale.parquet\n",
      "├── .ipynb_checkpoints\n",
      "└── readme.md\n"
     ]
    }
   ],
   "source": [
    "# Write to GCS\n",
    "# gcs_path = 'gcs://dsi310_bucket/sales_data.parquet'  # Replace with your bucket path\n",
    "with fs.open(path=catalog_path+'sale.parquet',mode='wb') as f:  # Replace with your GCS token\n",
    "    pq.write_table(table, f)\n",
    "\n",
    "tree(fs,catalog_path)"
   ]
  },
  {
   "cell_type": "code",
   "execution_count": 8,
   "id": "fcbd5612-55ff-4a64-80db-52d922874e10",
   "metadata": {},
   "outputs": [
    {
     "data": {
      "text/html": [
       "<div>\n",
       "<style scoped>\n",
       "    .dataframe tbody tr th:only-of-type {\n",
       "        vertical-align: middle;\n",
       "    }\n",
       "\n",
       "    .dataframe tbody tr th {\n",
       "        vertical-align: top;\n",
       "    }\n",
       "\n",
       "    .dataframe thead th {\n",
       "        text-align: right;\n",
       "    }\n",
       "</style>\n",
       "<table border=\"1\" class=\"dataframe\">\n",
       "  <thead>\n",
       "    <tr style=\"text-align: right;\">\n",
       "      <th></th>\n",
       "      <th>date</th>\n",
       "      <th>product_id</th>\n",
       "      <th>quantity</th>\n",
       "      <th>price</th>\n",
       "    </tr>\n",
       "  </thead>\n",
       "  <tbody>\n",
       "    <tr>\n",
       "      <th>0</th>\n",
       "      <td>2023-01-01</td>\n",
       "      <td>1</td>\n",
       "      <td>5</td>\n",
       "      <td>20.5</td>\n",
       "    </tr>\n",
       "    <tr>\n",
       "      <th>1</th>\n",
       "      <td>2023-01-02</td>\n",
       "      <td>2</td>\n",
       "      <td>3</td>\n",
       "      <td>10.0</td>\n",
       "    </tr>\n",
       "    <tr>\n",
       "      <th>2</th>\n",
       "      <td>2023-01-03</td>\n",
       "      <td>3</td>\n",
       "      <td>6</td>\n",
       "      <td>15.5</td>\n",
       "    </tr>\n",
       "    <tr>\n",
       "      <th>3</th>\n",
       "      <td>2023-01-04</td>\n",
       "      <td>4</td>\n",
       "      <td>2</td>\n",
       "      <td>25.0</td>\n",
       "    </tr>\n",
       "    <tr>\n",
       "      <th>4</th>\n",
       "      <td>2023-01-05</td>\n",
       "      <td>5</td>\n",
       "      <td>7</td>\n",
       "      <td>30.0</td>\n",
       "    </tr>\n",
       "  </tbody>\n",
       "</table>\n",
       "</div>"
      ],
      "text/plain": [
       "         date  product_id  quantity  price\n",
       "0  2023-01-01           1         5   20.5\n",
       "1  2023-01-02           2         3   10.0\n",
       "2  2023-01-03           3         6   15.5\n",
       "3  2023-01-04           4         2   25.0\n",
       "4  2023-01-05           5         7   30.0"
      ]
     },
     "execution_count": 8,
     "metadata": {},
     "output_type": "execute_result"
    }
   ],
   "source": [
    "import pandas as pd\n",
    "import fsspec\n",
    "import pyarrow as pa\n",
    "import pyarrow.parquet as pq\n",
    "from datetime import datetime\n",
    "\n",
    "# Example DataFrame\n",
    "df = pd.DataFrame({\n",
    "    'date': pd.date_range(start='2023-01-01', periods=5, freq='D'),\n",
    "    'product_id': range(1, 6),\n",
    "    'quantity': [5, 3, 6, 2, 7],\n",
    "    'price': [20.5, 10.0, 15.5, 25.0, 30.0]\n",
    "})\n",
    "df['date'] = df['date'].dt.date\n",
    "# Metadata and Data Dictionary\n",
    "metadata = {'source': 'Sales System', 'creation_date': datetime.now().isoformat()}\n",
    "data_dictionary = {\n",
    "    'date': 'Transaction date',\n",
    "    'product_id': 'Product identifier',\n",
    "    'quantity': 'Quantity sold',\n",
    "    'price': 'Sale price'\n",
    "}\n",
    "\n",
    "# Convert DataFrame to PyArrow Table with metadata\n",
    "table = pa.Table.from_pandas(df)\n",
    "table = table.replace_schema_metadata({'metadata': str(metadata), 'dictionary': str(data_dictionary)})\n",
    "\n",
    "df"
   ]
  },
  {
   "cell_type": "code",
   "execution_count": 9,
   "id": "f511c512-00c1-41de-939a-032e6b20eec7",
   "metadata": {},
   "outputs": [
    {
     "data": {
      "text/plain": [
       "'./catalog/sale'"
      ]
     },
     "execution_count": 9,
     "metadata": {},
     "output_type": "execute_result"
    }
   ],
   "source": [
    "# Define GCS path and write to GCS\n",
    "\n",
    "# No need to open a file with fsspec, use the path directly\n",
    "dataset_name ='sale'\n",
    "path = catalog_path+dataset_name\n",
    "path"
   ]
  },
  {
   "cell_type": "code",
   "execution_count": 10,
   "id": "6bb09502-352d-4abb-b4d5-73549b08d475",
   "metadata": {},
   "outputs": [
    {
     "name": "stdout",
     "output_type": "stream",
     "text": [
      "├── sale.parquet\n",
      "├── .ipynb_checkpoints\n",
      "├── sale\n",
      "│   ├── date=2023-01-03\n",
      "│   │   └── 72d9fa6d75514ece8d7ae657a78d7af4-0.parquet\n",
      "│   ├── date=2023-01-02\n",
      "│   │   └── 72d9fa6d75514ece8d7ae657a78d7af4-0.parquet\n",
      "│   ├── date=2023-01-04\n",
      "│   │   └── 72d9fa6d75514ece8d7ae657a78d7af4-0.parquet\n",
      "│   ├── date=2023-01-05\n",
      "│   │   └── 72d9fa6d75514ece8d7ae657a78d7af4-0.parquet\n",
      "│   └── date=2023-01-01\n",
      "│       └── 72d9fa6d75514ece8d7ae657a78d7af4-0.parquet\n",
      "└── readme.md\n"
     ]
    }
   ],
   "source": [
    "pq.write_to_dataset(table, root_path=path, partition_cols=['date'], filesystem=fs,)\n",
    "\n",
    "tree(fs,catalog_path)"
   ]
  },
  {
   "cell_type": "code",
   "execution_count": 11,
   "id": "4482768d-78e4-4b31-bbe6-f6066d6bbdf6",
   "metadata": {},
   "outputs": [
    {
     "data": {
      "text/plain": [
       "'./catalog/sale'"
      ]
     },
     "execution_count": 11,
     "metadata": {},
     "output_type": "execute_result"
    }
   ],
   "source": [
    "catalog_path+'sale'\n"
   ]
  },
  {
   "cell_type": "code",
   "execution_count": 12,
   "id": "9448e1ad-488d-43dc-83f9-1125bb642796",
   "metadata": {},
   "outputs": [
    {
     "data": {
      "text/plain": [
       "product_id: int64\n",
       "quantity: int64\n",
       "price: double\n",
       "date: dictionary<values=string, indices=int32, ordered=0>\n",
       "-- schema metadata --\n",
       "metadata: '{'source': 'Sales System', 'creation_date': '2023-12-05T21:15:' + 11\n",
       "dictionary: '{'date': 'Transaction date', 'product_id': 'Product identifi' + 56"
      ]
     },
     "execution_count": 12,
     "metadata": {},
     "output_type": "execute_result"
    }
   ],
   "source": [
    "\n",
    "import pyarrow.dataset as ds\n",
    "# dataset = ds.dataset('/dsi310_bucket/sale/', format=\"parquet\", filesystem=fs)\n",
    "\n",
    "\n",
    "dataset = pq.ParquetDataset(path_or_paths=catalog_path+'sale', filesystem=fs)\n",
    "table = dataset.read()\n",
    "\n",
    "table.schema"
   ]
  },
  {
   "cell_type": "code",
   "execution_count": 13,
   "id": "8930ae86-9569-40de-9647-4977f534c174",
   "metadata": {},
   "outputs": [
    {
     "name": "stdout",
     "output_type": "stream",
     "text": [
      "Metadata: {'source': 'Sales System', 'creation_date': '2023-12-05T21:15:05.191136'}\n",
      "Data Dictionary: {'date': 'Transaction date', 'product_id': 'Product identifier', 'quantity': 'Quantity sold', 'price': 'Sale price'}\n"
     ]
    }
   ],
   "source": [
    "# Extracting metadata and data dictionary\n",
    "metadata = eval(table.schema.metadata[b'metadata']) if b'metadata' in table.schema.metadata else None\n",
    "data_dictionary = eval(table.schema.metadata[b'dictionary']) if b'dictionary' in table.schema.metadata else None\n",
    "\n",
    "# Display the DataFrame, Metadata, and Data Dictionary\n",
    "print(\"Metadata:\", metadata)\n",
    "print(\"Data Dictionary:\", data_dictionary)"
   ]
  },
  {
   "cell_type": "code",
   "execution_count": 14,
   "id": "a1f6e8ac-de27-4689-936b-b2b6e51cfc93",
   "metadata": {},
   "outputs": [
    {
     "name": "stdout",
     "output_type": "stream",
     "text": [
      "   product_id  quantity  price        date\n",
      "0           1         5   20.5  2023-01-01\n",
      "1           2         3   10.0  2023-01-02\n",
      "2           3         6   15.5  2023-01-03\n",
      "3           4         2   25.0  2023-01-04\n",
      "4           5         7   30.0  2023-01-05\n"
     ]
    }
   ],
   "source": [
    "# Convert to Pandas DataFrame\n",
    "df = table.to_pandas()\n",
    "\n",
    "# Display the DataFrame\n",
    "print(df.head())"
   ]
  },
  {
   "cell_type": "code",
   "execution_count": null,
   "id": "5dbdd6fa-59eb-4212-8958-a495c29a1b8a",
   "metadata": {},
   "outputs": [],
   "source": []
  },
  {
   "cell_type": "code",
   "execution_count": null,
   "id": "b569571c-7233-4fc5-9f4b-e5a36b36cb88",
   "metadata": {},
   "outputs": [],
   "source": []
  }
 ],
 "metadata": {
  "kernelspec": {
   "display_name": "Python 3 (ipykernel)",
   "language": "python",
   "name": "python3"
  },
  "language_info": {
   "codemirror_mode": {
    "name": "ipython",
    "version": 3
   },
   "file_extension": ".py",
   "mimetype": "text/x-python",
   "name": "python",
   "nbconvert_exporter": "python",
   "pygments_lexer": "ipython3",
   "version": "3.10.13"
  }
 },
 "nbformat": 4,
 "nbformat_minor": 5
}
