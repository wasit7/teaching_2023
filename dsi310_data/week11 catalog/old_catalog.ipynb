{
 "cells": [
  {
   "cell_type": "code",
   "execution_count": 56,
   "id": "d44d065b-28e6-48fa-b189-0baa0a9b56a2",
   "metadata": {},
   "outputs": [],
   "source": [
    "# pip install fsspec gcsfs pandas pyarrow fs-gcsfs"
   ]
  },
  {
   "cell_type": "code",
   "execution_count": 241,
   "id": "eaff27f1-e3ec-42dd-b346-005b5e06a46b",
   "metadata": {},
   "outputs": [],
   "source": [
    "import fsspec\n",
    "\n",
    "def tree(fs, path, prefix=\"\"):\n",
    "    \"\"\"Recursively list the contents of a directory in a tree-like format.\"\"\"\n",
    "    print(path)\n",
    "    items = fs.ls(path, detail=True)\n",
    "    for i, item in enumerate(items):\n",
    "        is_last = i == (len(items) - 1)  # Check if this is the last item\n",
    "        if item['type'] == 'directory':\n",
    "            # Print the directory name\n",
    "            print(f\"{prefix}{'└── ' if is_last else '├── '}{item['name'].split('/')[-1]}\")\n",
    "            # Recursively list this directory's contents\n",
    "            new_prefix = prefix + ('    ' if is_last else '│   ')\n",
    "            list_directory(fs, item['name'], new_prefix)\n",
    "        else:\n",
    "            # Print the file name\n",
    "            print(f\"{prefix}{'└── ' if is_last else '├── '}{item['name'].split('/')[-1]}\")\n",
    "\n",
    "gcs_token_path = os.path.join('../_env/dsi310-2023-teacher.json')"
   ]
  },
  {
   "cell_type": "code",
   "execution_count": 242,
   "id": "45b75e25-7bca-4ef8-8bd2-ab5ae8047929",
   "metadata": {},
   "outputs": [
    {
     "name": "stdout",
     "output_type": "stream",
     "text": [
      "./catalog/\n",
      "└── readme.md\n"
     ]
    }
   ],
   "source": [
    "fs = fsspec.filesystem('file',auto_mkdir=True) #fsspec.filesystem(catalog_path, auto_mkdir=False)\n",
    "catalog_path='./catalog/'\n",
    "with fs.open(catalog_path+'readme.md','wb') as f:\n",
    "    f.write(b'# Hello')\n",
    "    \n",
    "tree(fs,catalog_path)"
   ]
  },
  {
   "cell_type": "code",
   "execution_count": 243,
   "id": "c083b78d-3b5d-4d0d-b449-e0d211e4a1b8",
   "metadata": {},
   "outputs": [],
   "source": [
    "# catalog_path = 'gcs://dsi310_bucket/'\n",
    "# fs=fsspec.filesystem('gcs', token=gcs_token_path)\n",
    "# with fs.open(catalog_path+'readme.md','wb') as f:\n",
    "#     f.write(b'# Hello')\n",
    "# tree(fs,catalog_path)"
   ]
  },
  {
   "cell_type": "code",
   "execution_count": 244,
   "id": "4b982e19-e678-4535-a861-04c3729fd84f",
   "metadata": {},
   "outputs": [
    {
     "data": {
      "text/plain": [
       "date: timestamp[ns]\n",
       "product_id: int64\n",
       "quantity: int64\n",
       "price: double\n",
       "-- schema metadata --\n",
       "metadata: '{'source': 'Sales System', 'creation_date': '2023-11-23T02:24:' + 11\n",
       "dictionary: '{'date': 'Transaction date', 'product_id': 'Product identifi' + 56"
      ]
     },
     "execution_count": 244,
     "metadata": {},
     "output_type": "execute_result"
    }
   ],
   "source": [
    "import pandas as pd\n",
    "import fsspec\n",
    "import pyarrow as pa\n",
    "import pyarrow.parquet as pq\n",
    "from datetime import datetime\n",
    "\n",
    "# Example DataFrame\n",
    "df = pd.DataFrame({\n",
    "    'date': pd.date_range(start='2023-01-01', periods=5, freq='D'),\n",
    "    'product_id': range(1, 6),\n",
    "    'quantity': [5, 3, 6, 2, 7],\n",
    "    'price': [20.5, 10.0, 15.5, 25.0, 30.0]\n",
    "})\n",
    "\n",
    "# Metadata and Data Dictionary\n",
    "metadata = {'source': 'Sales System', 'creation_date': datetime.now().isoformat()}\n",
    "data_dictionary = {\n",
    "    'date': 'Transaction date',\n",
    "    'product_id': 'Product identifier',\n",
    "    'quantity': 'Quantity sold',\n",
    "    'price': 'Sale price'\n",
    "}\n",
    "\n",
    "# Convert DataFrame to PyArrow Table with metadata\n",
    "table = pa.Table.from_pandas(df)\n",
    "table = table.replace_schema_metadata({'metadata': str(metadata), 'dictionary': str(data_dictionary)})\n",
    "\n",
    "table.schema"
   ]
  },
  {
   "cell_type": "code",
   "execution_count": 245,
   "id": "ed71a224-9b73-4cb1-8f3e-4a4817b7af70",
   "metadata": {},
   "outputs": [],
   "source": [
    "# from fsspec.implementations.local import LocalFileSystem\n",
    "# fs = LocalFileSystem()"
   ]
  },
  {
   "cell_type": "code",
   "execution_count": 246,
   "id": "30225f20-9f4a-4219-b49b-1e93b173a651",
   "metadata": {},
   "outputs": [
    {
     "name": "stdout",
     "output_type": "stream",
     "text": [
      "./catalog/\n",
      "├── sale.parquet\n",
      "└── readme.md\n"
     ]
    }
   ],
   "source": [
    "# Write to GCS\n",
    "# gcs_path = 'gcs://dsi310_bucket/sales_data.parquet'  # Replace with your bucket path\n",
    "with fs.open(path=catalog_path+'sale.parquet',mode='wb') as f:  # Replace with your GCS token\n",
    "    pq.write_table(table, f)\n",
    "\n",
    "tree(fs,catalog_path)"
   ]
  },
  {
   "cell_type": "code",
   "execution_count": 247,
   "id": "fcbd5612-55ff-4a64-80db-52d922874e10",
   "metadata": {},
   "outputs": [],
   "source": [
    "import pandas as pd\n",
    "import fsspec\n",
    "import pyarrow as pa\n",
    "import pyarrow.parquet as pq\n",
    "from datetime import datetime\n",
    "\n",
    "# Example DataFrame\n",
    "df = pd.DataFrame({\n",
    "    'date': pd.date_range(start='2023-01-01', periods=5, freq='D'),\n",
    "    'product_id': range(1, 6),\n",
    "    'quantity': [5, 3, 6, 2, 7],\n",
    "    'price': [20.5, 10.0, 15.5, 25.0, 30.0]\n",
    "})\n",
    "df['date'] = df['date'].dt.date\n",
    "# Metadata and Data Dictionary\n",
    "metadata = {'source': 'Sales System', 'creation_date': datetime.now().isoformat()}\n",
    "data_dictionary = {\n",
    "    'date': 'Transaction date',\n",
    "    'product_id': 'Product identifier',\n",
    "    'quantity': 'Quantity sold',\n",
    "    'price': 'Sale price'\n",
    "}\n",
    "\n",
    "# Convert DataFrame to PyArrow Table with metadata\n",
    "table = pa.Table.from_pandas(df)\n",
    "table = table.replace_schema_metadata({'metadata': str(metadata), 'dictionary': str(data_dictionary)})\n",
    "\n"
   ]
  },
  {
   "cell_type": "code",
   "execution_count": 248,
   "id": "f511c512-00c1-41de-939a-032e6b20eec7",
   "metadata": {},
   "outputs": [
    {
     "data": {
      "text/plain": [
       "'./catalog/sale'"
      ]
     },
     "execution_count": 248,
     "metadata": {},
     "output_type": "execute_result"
    }
   ],
   "source": [
    "# Define GCS path and write to GCS\n",
    "\n",
    "# No need to open a file with fsspec, use the path directly\n",
    "dataset_name ='sale'\n",
    "path = catalog_path+dataset_name\n",
    "path"
   ]
  },
  {
   "cell_type": "code",
   "execution_count": 249,
   "id": "6bb09502-352d-4abb-b4d5-73549b08d475",
   "metadata": {},
   "outputs": [
    {
     "name": "stdout",
     "output_type": "stream",
     "text": [
      "./catalog/\n",
      "├── sale.parquet\n",
      "├── sale\n",
      "│   ├── date=2023-01-03\n",
      "│   │   └── a7baa69219054e50bf4679a052093531-0.parquet\n",
      "│   ├── date=2023-01-02\n",
      "│   │   └── a7baa69219054e50bf4679a052093531-0.parquet\n",
      "│   ├── date=2023-01-04\n",
      "│   │   └── a7baa69219054e50bf4679a052093531-0.parquet\n",
      "│   ├── date=2023-01-05\n",
      "│   │   └── a7baa69219054e50bf4679a052093531-0.parquet\n",
      "│   └── date=2023-01-01\n",
      "│       └── a7baa69219054e50bf4679a052093531-0.parquet\n",
      "└── readme.md\n"
     ]
    }
   ],
   "source": [
    "pq.write_to_dataset(table, root_path=path, partition_cols=['date'], filesystem=fs,)\n",
    "\n",
    "tree(fs,catalog_path)"
   ]
  },
  {
   "cell_type": "code",
   "execution_count": 250,
   "id": "9448e1ad-488d-43dc-83f9-1125bb642796",
   "metadata": {},
   "outputs": [
    {
     "data": {
      "text/plain": [
       "product_id: int64\n",
       "quantity: int64\n",
       "price: double\n",
       "date: dictionary<values=string, indices=int32, ordered=0>\n",
       "-- schema metadata --\n",
       "metadata: '{'source': 'Sales System', 'creation_date': '2023-11-23T02:24:' + 11\n",
       "dictionary: '{'date': 'Transaction date', 'product_id': 'Product identifi' + 56"
      ]
     },
     "execution_count": 250,
     "metadata": {},
     "output_type": "execute_result"
    }
   ],
   "source": [
    "\n",
    "import pyarrow.dataset as ds\n",
    "# dataset = ds.dataset('/dsi310_bucket/sale/', format=\"parquet\", filesystem=fs)\n",
    "\n",
    "\n",
    "dataset = pq.ParquetDataset(path_or_paths=catalog_path+'sale', filesystem=fs)\n",
    "table = dataset.read()\n",
    "\n",
    "table.schema"
   ]
  },
  {
   "cell_type": "code",
   "execution_count": 251,
   "id": "8930ae86-9569-40de-9647-4977f534c174",
   "metadata": {},
   "outputs": [
    {
     "name": "stdout",
     "output_type": "stream",
     "text": [
      "Metadata: {'source': 'Sales System', 'creation_date': '2023-11-23T02:24:06.543639'}\n",
      "Data Dictionary: {'date': 'Transaction date', 'product_id': 'Product identifier', 'quantity': 'Quantity sold', 'price': 'Sale price'}\n"
     ]
    }
   ],
   "source": [
    "# Extracting metadata and data dictionary\n",
    "metadata = eval(table.schema.metadata[b'metadata']) if b'metadata' in table.schema.metadata else None\n",
    "data_dictionary = eval(table.schema.metadata[b'dictionary']) if b'dictionary' in table.schema.metadata else None\n",
    "\n",
    "# Display the DataFrame, Metadata, and Data Dictionary\n",
    "print(\"Metadata:\", metadata)\n",
    "print(\"Data Dictionary:\", data_dictionary)"
   ]
  },
  {
   "cell_type": "code",
   "execution_count": 252,
   "id": "a1f6e8ac-de27-4689-936b-b2b6e51cfc93",
   "metadata": {},
   "outputs": [
    {
     "name": "stdout",
     "output_type": "stream",
     "text": [
      "   product_id  quantity  price        date\n",
      "0           1         5   20.5  2023-01-01\n",
      "1           2         3   10.0  2023-01-02\n",
      "2           3         6   15.5  2023-01-03\n",
      "3           4         2   25.0  2023-01-04\n",
      "4           5         7   30.0  2023-01-05\n"
     ]
    }
   ],
   "source": [
    "# Convert to Pandas DataFrame\n",
    "df = table.to_pandas()\n",
    "\n",
    "# Display the DataFrame\n",
    "print(df.head())"
   ]
  },
  {
   "cell_type": "code",
   "execution_count": null,
   "id": "5dbdd6fa-59eb-4212-8958-a495c29a1b8a",
   "metadata": {},
   "outputs": [],
   "source": []
  }
 ],
 "metadata": {
  "kernelspec": {
   "display_name": "Python 3 (ipykernel)",
   "language": "python",
   "name": "python3"
  },
  "language_info": {
   "codemirror_mode": {
    "name": "ipython",
    "version": 3
   },
   "file_extension": ".py",
   "mimetype": "text/x-python",
   "name": "python",
   "nbconvert_exporter": "python",
   "pygments_lexer": "ipython3",
   "version": "3.10.13"
  }
 },
 "nbformat": 4,
 "nbformat_minor": 5
}
