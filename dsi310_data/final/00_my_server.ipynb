{
 "cells": [
  {
   "cell_type": "code",
   "execution_count": null,
   "id": "40f251e3-3c92-4398-880f-a20d98a99359",
   "metadata": {},
   "outputs": [
    {
     "name": "stderr",
     "output_type": "stream",
     "text": [
      "127.0.0.1 - - [30/Nov/2023 15:45:18] \"GET / HTTP/1.1\" 200 -\n",
      "127.0.0.1 - - [30/Nov/2023 15:45:18] code 404, message File not found\n",
      "127.0.0.1 - - [30/Nov/2023 15:45:18] \"GET /favicon.ico HTTP/1.1\" 404 -\n",
      "127.0.0.1 - - [30/Nov/2023 15:45:26] \"GET /books.html HTTP/1.1\" 304 -\n",
      "127.0.0.1 - - [30/Nov/2023 15:45:27] \"GET /json/books.json HTTP/1.1\" 304 -\n",
      "127.0.0.1 - - [30/Nov/2023 15:45:35] \"GET /customers.html HTTP/1.1\" 304 -\n",
      "127.0.0.1 - - [30/Nov/2023 15:45:35] \"GET /json/customers.json HTTP/1.1\" 304 -\n",
      "127.0.0.1 - - [30/Nov/2023 15:45:42] \"GET /rentals.html HTTP/1.1\" 304 -\n",
      "127.0.0.1 - - [30/Nov/2023 15:45:43] \"GET /json/rentals.json HTTP/1.1\" 304 -\n",
      "127.0.0.1 - - [30/Nov/2023 15:53:03] \"GET /books.html HTTP/1.1\" 200 -\n",
      "127.0.0.1 - - [30/Nov/2023 15:53:04] \"GET /json/books.json HTTP/1.1\" 200 -\n",
      "127.0.0.1 - - [30/Nov/2023 15:53:04] code 404, message File not found\n",
      "127.0.0.1 - - [30/Nov/2023 15:53:04] \"GET /favicon.ico HTTP/1.1\" 404 -\n",
      "127.0.0.1 - - [30/Nov/2023 15:55:19] \"GET /books.html HTTP/1.1\" 200 -\n",
      "127.0.0.1 - - [30/Nov/2023 15:55:20] \"GET /json/books.json HTTP/1.1\" 200 -\n",
      "127.0.0.1 - - [30/Nov/2023 16:00:46] \"GET /customers.html HTTP/1.1\" 200 -\n",
      "127.0.0.1 - - [30/Nov/2023 16:00:47] \"GET /json/customers.json HTTP/1.1\" 200 -\n",
      "127.0.0.1 - - [30/Nov/2023 16:00:47] code 404, message File not found\n",
      "127.0.0.1 - - [30/Nov/2023 16:00:47] \"GET /favicon.ico HTTP/1.1\" 404 -\n",
      "127.0.0.1 - - [30/Nov/2023 16:01:30] \"GET /customers.html HTTP/1.1\" 200 -\n",
      "127.0.0.1 - - [30/Nov/2023 16:01:31] \"GET /json/customers.json HTTP/1.1\" 200 -\n",
      "127.0.0.1 - - [30/Nov/2023 16:01:31] code 404, message File not found\n",
      "127.0.0.1 - - [30/Nov/2023 16:01:31] \"GET /favicon.ico HTTP/1.1\" 404 -\n",
      "127.0.0.1 - - [30/Nov/2023 16:03:39] \"GET /rentals.html HTTP/1.1\" 304 -\n",
      "127.0.0.1 - - [30/Nov/2023 16:04:12] \"GET /rentals.html HTTP/1.1\" 304 -\n",
      "127.0.0.1 - - [30/Nov/2023 16:05:16] \"GET /rentals.html HTTP/1.1\" 200 -\n",
      "127.0.0.1 - - [30/Nov/2023 16:05:16] \"GET /json/rentals.json HTTP/1.1\" 200 -\n",
      "127.0.0.1 - - [30/Nov/2023 16:05:16] code 404, message File not found\n",
      "127.0.0.1 - - [30/Nov/2023 16:05:16] \"GET /favicon.ico HTTP/1.1\" 404 -\n"
     ]
    }
   ],
   "source": [
    "import os\n",
    "# os.system(\"python -m http.server -d web_for_scraping 8000\")\n",
    "stream = os.popen('python -m http.server -d web_for_scraping 8000')\n",
    "output = stream.read()\n",
    "output"
   ]
  },
  {
   "cell_type": "code",
   "execution_count": null,
   "id": "bd2be6cf-a92b-4791-8b3a-8435b9ae0079",
   "metadata": {},
   "outputs": [],
   "source": []
  },
  {
   "cell_type": "code",
   "execution_count": null,
   "id": "d75d1774-5956-462b-856d-5674a57ff7cf",
   "metadata": {},
   "outputs": [],
   "source": []
  }
 ],
 "metadata": {
  "kernelspec": {
   "display_name": "Python 3 (ipykernel)",
   "language": "python",
   "name": "python3"
  },
  "language_info": {
   "codemirror_mode": {
    "name": "ipython",
    "version": 3
   },
   "file_extension": ".py",
   "mimetype": "text/x-python",
   "name": "python",
   "nbconvert_exporter": "python",
   "pygments_lexer": "ipython3",
   "version": "3.10.13"
  }
 },
 "nbformat": 4,
 "nbformat_minor": 5
}
