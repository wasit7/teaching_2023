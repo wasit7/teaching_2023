{
 "cells": [
  {
   "cell_type": "markdown",
   "id": "4a190640-0c39-40f9-816d-5383dade038c",
   "metadata": {},
   "source": [
    "## Async functions in Jupyter"
   ]
  },
  {
   "cell_type": "code",
   "execution_count": 3,
   "id": "5d902035-7d82-4bc3-bd40-ec110ef78e54",
   "metadata": {},
   "outputs": [
    {
     "name": "stdout",
     "output_type": "stream",
     "text": [
      "Timer A: 1 second(s) passed\n",
      "Timer B: 1 second(s) passed\n",
      "Timer A: 2 second(s) passed\n",
      "Timer B: 2 second(s) passed\n",
      "Timer A: 3 second(s) passed\n",
      "Timer B: 3 second(s) passed\n",
      "Timer B: finished!\n",
      "Timer A: 4 second(s) passed\n",
      "Timer A: 5 second(s) passed\n",
      "Timer A: finished!\n"
     ]
    }
   ],
   "source": [
    "# To run Async functions in Jupyter\n",
    "import asyncio\n",
    "\n",
    "async def timer(name, seconds):\n",
    "    for i in range(seconds):\n",
    "        await asyncio.sleep(1)\n",
    "        print(f\"Timer {name}: {i + 1} second(s) passed\")\n",
    "    print(f'Timer {name}: finished!')\n",
    "\n",
    "async def main():\n",
    "    # Running two timers concurrently\n",
    "    await asyncio.gather(\n",
    "        timer(\"A\", 5),  # Timer A for 5 seconds\n",
    "        timer(\"B\", 3)   # Timer B for 3 seconds\n",
    "    )\n",
    "    \n",
    "await main()"
   ]
  },
  {
   "cell_type": "markdown",
   "id": "751e2d0c-fcce-42a5-92c0-9df1c2d42108",
   "metadata": {},
   "source": [
    "## To run Async functions in command line\n",
    "standalone Python script (Python3.10+)\n",
    "### command line\n",
    "```bash\n",
    "python async_example.py\n",
    "```\n",
    "### code\n",
    "```python\n",
    "# async_example.py\n",
    "import asyncio\n",
    "import aiohttp\n",
    "import pandas as pd\n",
    "\n",
    "async def timer(name, seconds):\n",
    "    for i in range(seconds):\n",
    "        await asyncio.sleep(1)\n",
    "        print(f\"Timer {name}: {i + 1} second(s) passed\")\n",
    "    print(f'Timer {name}: finished!')\n",
    "\n",
    "async def main():\n",
    "    # Running two timers concurrently\n",
    "    await asyncio.gather(\n",
    "        timer(\"A\", 5),  # Timer A for 5 seconds\n",
    "        timer(\"B\", 3)   # Timer B for 3 seconds\n",
    "    )\n",
    "    \n",
    "if __name__ == \"__main__\":\n",
    "    asyncio.run(main())\n",
    "```"
   ]
  },
  {
   "cell_type": "markdown",
   "id": "f91708fb-5918-4a79-93f2-8517710877ca",
   "metadata": {},
   "source": [
    "# Book List\n",
    "url: http://localhost:8000/books.html"
   ]
  },
  {
   "cell_type": "code",
   "execution_count": 5,
   "id": "67e2c5e9-9298-4ebc-9810-c0e431a1d71a",
   "metadata": {},
   "outputs": [
    {
     "data": {
      "text/plain": [
       "\n",
       "<h1 class=\"text-3xl font-bold underline\">Book List</h1>\n",
       "<div id=\"books-container\"><div class=\"my-book-container max-w-sm b rounded overflow-hidden shadow-lg ml-6 mt-6 bg-slate-50 p-2\">\n",
       "<div class=\"book_tile\"><b>1984</b></div>\n",
       "                by\n",
       "                <div class=\"author\">George Orwell</div>\n",
       "<div class=\"book_id text-right\">1</div></div><div class=\"my-book-container max-w-sm b rounded overflow-hidden shadow-lg ml-6 mt-6 bg-slate-50 p-2\">\n",
       "<div class=\"book_tile\"><b>To Kill a Mockingbird</b></div>\n",
       "                by\n",
       "                <div class=\"author\">Harper Lee</div>\n",
       "<div class=\"book_id text-right\">2</div></div><div class=\"my-book-container max-w-sm b rounded overflow-hidden shadow-lg ml-6 mt-6 bg-slate-50 p-2\">\n",
       "<div class=\"book_tile\"><b>The Great Gatsby</b></div>\n",
       "                by\n",
       "                <div class=\"author\">F. Scott Fitzgerald</div>\n",
       "<div class=\"book_id text-right\">3</div></div><div class=\"my-book-container max-w-sm b rounded overflow-hidden shadow-lg ml-6 mt-6 bg-slate-50 p-2\">\n",
       "<div class=\"book_tile\"><b>Pride and Prejudice</b></div>\n",
       "                by\n",
       "                <div class=\"author\">Jane Austen</div>\n",
       "<div class=\"book_id text-right\">4</div></div><div class=\"my-book-container max-w-sm b rounded overflow-hidden shadow-lg ml-6 mt-6 bg-slate-50 p-2\">\n",
       "<div class=\"book_tile\"><b>The Catcher in the Rye</b></div>\n",
       "                by\n",
       "                <div class=\"author\">J.D. Salinger</div>\n",
       "<div class=\"book_id text-right\">5</div></div></div>"
      ]
     },
     "execution_count": 5,
     "metadata": {},
     "output_type": "execute_result"
    }
   ],
   "source": [
    "import pandas as pd\n",
    "from playwright.async_api import async_playwright\n",
    "from bs4 import BeautifulSoup\n",
    "\n",
    "pw = await async_playwright().start()\n",
    "browser = await pw.chromium.launch(headless = False)\n",
    "page = await browser.new_page()\n",
    "# url=f'http://localhost:8000/books.html'\n",
    "_ = await page.goto('http://localhost:8000/books.html')\n",
    "await page.wait_for_selector('body')\n",
    "\n",
    "selector = await page.query_selector('body')\n",
    "html = await selector.inner_html()\n",
    "await browser.close()\n",
    "\n",
    "soup = BeautifulSoup(html, 'html.parser')\n",
    "soup"
   ]
  },
  {
   "cell_type": "code",
   "execution_count": 6,
   "id": "be66fedf-6e50-46e1-97a8-54273c3a49c5",
   "metadata": {},
   "outputs": [
    {
     "data": {
      "text/plain": [
       "<div class=\"my-book-container max-w-sm b rounded overflow-hidden shadow-lg ml-6 mt-6 bg-slate-50 p-2\">\n",
       "<div class=\"book_tile\"><b>1984</b></div>\n",
       "                by\n",
       "                <div class=\"author\">George Orwell</div>\n",
       "<div class=\"book_id text-right\">1</div></div>"
      ]
     },
     "execution_count": 6,
     "metadata": {},
     "output_type": "execute_result"
    }
   ],
   "source": [
    "books =  soup.find_all('div', class_=\"my-book-container\")\n",
    "books[0]"
   ]
  },
  {
   "cell_type": "code",
   "execution_count": 7,
   "id": "fa1d7e9a-ba06-4a8a-9c12-d8922c731b46",
   "metadata": {},
   "outputs": [
    {
     "data": {
      "text/plain": [
       "[{'book_id': '1', 'title': '1984', 'author': 'George Orwell'},\n",
       " {'book_id': '2', 'title': 'To Kill a Mockingbird', 'author': 'Harper Lee'},\n",
       " {'book_id': '3',\n",
       "  'title': 'The Great Gatsby',\n",
       "  'author': 'F. Scott Fitzgerald'},\n",
       " {'book_id': '4', 'title': 'Pride and Prejudice', 'author': 'Jane Austen'},\n",
       " {'book_id': '5',\n",
       "  'title': 'The Catcher in the Rye',\n",
       "  'author': 'J.D. Salinger'}]"
      ]
     },
     "execution_count": 7,
     "metadata": {},
     "output_type": "execute_result"
    }
   ],
   "source": [
    "d=[]\n",
    "for book in books:\n",
    "    title=book.find('div',class_=\"book_tile\").get_text(strip=True)\n",
    "    author=book.find('div',class_=\"author\").get_text(strip=True)\n",
    "    book_id=book.find('div',class_=\"book_id\").get_text(strip=True)\n",
    "    d.append({'book_id':book_id, \"title\":title, \"author\":author})\n",
    "d"
   ]
  },
  {
   "cell_type": "code",
   "execution_count": 8,
   "id": "25e5e1d4-a696-425d-89f0-1b4191570594",
   "metadata": {},
   "outputs": [
    {
     "data": {
      "text/html": [
       "<div>\n",
       "<style scoped>\n",
       "    .dataframe tbody tr th:only-of-type {\n",
       "        vertical-align: middle;\n",
       "    }\n",
       "\n",
       "    .dataframe tbody tr th {\n",
       "        vertical-align: top;\n",
       "    }\n",
       "\n",
       "    .dataframe thead th {\n",
       "        text-align: right;\n",
       "    }\n",
       "</style>\n",
       "<table border=\"1\" class=\"dataframe\">\n",
       "  <thead>\n",
       "    <tr style=\"text-align: right;\">\n",
       "      <th></th>\n",
       "      <th>book_id</th>\n",
       "      <th>title</th>\n",
       "      <th>author</th>\n",
       "    </tr>\n",
       "  </thead>\n",
       "  <tbody>\n",
       "    <tr>\n",
       "      <th>0</th>\n",
       "      <td>1</td>\n",
       "      <td>1984</td>\n",
       "      <td>George Orwell</td>\n",
       "    </tr>\n",
       "    <tr>\n",
       "      <th>1</th>\n",
       "      <td>2</td>\n",
       "      <td>To Kill a Mockingbird</td>\n",
       "      <td>Harper Lee</td>\n",
       "    </tr>\n",
       "    <tr>\n",
       "      <th>2</th>\n",
       "      <td>3</td>\n",
       "      <td>The Great Gatsby</td>\n",
       "      <td>F. Scott Fitzgerald</td>\n",
       "    </tr>\n",
       "    <tr>\n",
       "      <th>3</th>\n",
       "      <td>4</td>\n",
       "      <td>Pride and Prejudice</td>\n",
       "      <td>Jane Austen</td>\n",
       "    </tr>\n",
       "    <tr>\n",
       "      <th>4</th>\n",
       "      <td>5</td>\n",
       "      <td>The Catcher in the Rye</td>\n",
       "      <td>J.D. Salinger</td>\n",
       "    </tr>\n",
       "  </tbody>\n",
       "</table>\n",
       "</div>"
      ],
      "text/plain": [
       "  book_id                   title               author\n",
       "0       1                    1984        George Orwell\n",
       "1       2   To Kill a Mockingbird           Harper Lee\n",
       "2       3        The Great Gatsby  F. Scott Fitzgerald\n",
       "3       4     Pride and Prejudice          Jane Austen\n",
       "4       5  The Catcher in the Rye        J.D. Salinger"
      ]
     },
     "execution_count": 8,
     "metadata": {},
     "output_type": "execute_result"
    }
   ],
   "source": [
    "pd.DataFrame(d)"
   ]
  },
  {
   "cell_type": "markdown",
   "id": "f15852bd-c9f6-402b-a566-aa73e4c1b139",
   "metadata": {},
   "source": [
    "# Customer List\n",
    "url: http://localhost:8000/customers.html"
   ]
  },
  {
   "cell_type": "code",
   "execution_count": 10,
   "id": "7c544510-71e8-4925-add3-bc5e06b7ac91",
   "metadata": {},
   "outputs": [],
   "source": [
    "import pandas as pd\n",
    "from playwright.async_api import async_playwright\n",
    "from bs4 import BeautifulSoup\n",
    "import time\n",
    "\n",
    "pw = await async_playwright().start()\n",
    "browser = await pw.chromium.launch(headless = False)\n",
    "page = await browser.new_page()\n",
    "# url=f'http://localhost:8000/books.html'\n",
    "_ = await page.goto('http://localhost:8000/customers.html')\n",
    "await page.wait_for_selector('body')\n",
    "\n",
    "### page 1\n",
    "await page.click(\"#page1\");\n",
    "selector = await page.query_selector('body')\n",
    "html_page1 = await selector.inner_html()\n",
    "time.sleep(3)\n",
    "### page 2\n",
    "await page.click(\"#page2\");\n",
    "selector = await page.query_selector('body')\n",
    "html_page2 = await selector.inner_html()\n",
    "time.sleep(3)\n",
    "await browser.close()\n",
    "\n",
    "soup_page1 = BeautifulSoup(html_page1, 'html.parser')\n",
    "soup_page2 = BeautifulSoup(html_page2, 'html.parser')"
   ]
  },
  {
   "cell_type": "code",
   "execution_count": 11,
   "id": "5e03e009-032e-44ff-80b7-503fc533280e",
   "metadata": {},
   "outputs": [
    {
     "data": {
      "text/plain": [
       "<div class=\"my-customer-container max-w-sm b rounded overflow-hidden shadow-lg ml-6 mt-6\"><div class=\"customer_id bg-slate-50 p-2\">1</div><div class=\"customer_name bg-slate-50 p-2\">Alice Smith</div><div class=\"customer_email bg-slate-50 p-2\">alice@example.com</div></div>"
      ]
     },
     "execution_count": 11,
     "metadata": {},
     "output_type": "execute_result"
    }
   ],
   "source": [
    "customers =  soup_page1.find_all('div', class_=\"my-customer-container\") + soup_page2.find_all('div', class_=\"my-customer-container\")\n",
    "customers[0]"
   ]
  },
  {
   "cell_type": "code",
   "execution_count": 12,
   "id": "64cb0d44-3dca-4c7d-a261-cba0d7ba28bc",
   "metadata": {},
   "outputs": [
    {
     "data": {
      "text/html": [
       "<div>\n",
       "<style scoped>\n",
       "    .dataframe tbody tr th:only-of-type {\n",
       "        vertical-align: middle;\n",
       "    }\n",
       "\n",
       "    .dataframe tbody tr th {\n",
       "        vertical-align: top;\n",
       "    }\n",
       "\n",
       "    .dataframe thead th {\n",
       "        text-align: right;\n",
       "    }\n",
       "</style>\n",
       "<table border=\"1\" class=\"dataframe\">\n",
       "  <thead>\n",
       "    <tr style=\"text-align: right;\">\n",
       "      <th></th>\n",
       "      <th>customer_id</th>\n",
       "      <th>name</th>\n",
       "      <th>email</th>\n",
       "    </tr>\n",
       "  </thead>\n",
       "  <tbody>\n",
       "    <tr>\n",
       "      <th>0</th>\n",
       "      <td>1</td>\n",
       "      <td>Alice Smith</td>\n",
       "      <td>alice@example.com</td>\n",
       "    </tr>\n",
       "    <tr>\n",
       "      <th>1</th>\n",
       "      <td>2</td>\n",
       "      <td>Bob Johnson</td>\n",
       "      <td>bob@example.com</td>\n",
       "    </tr>\n",
       "    <tr>\n",
       "      <th>2</th>\n",
       "      <td>3</td>\n",
       "      <td>Carol White</td>\n",
       "      <td>carol@example.com</td>\n",
       "    </tr>\n",
       "    <tr>\n",
       "      <th>3</th>\n",
       "      <td>4</td>\n",
       "      <td>David Brown</td>\n",
       "      <td>david@example.com</td>\n",
       "    </tr>\n",
       "    <tr>\n",
       "      <th>4</th>\n",
       "      <td>5</td>\n",
       "      <td>Eve Davis</td>\n",
       "      <td>eve@example.com</td>\n",
       "    </tr>\n",
       "    <tr>\n",
       "      <th>5</th>\n",
       "      <td>1</td>\n",
       "      <td>Alice Smith</td>\n",
       "      <td>alice@example.com</td>\n",
       "    </tr>\n",
       "    <tr>\n",
       "      <th>6</th>\n",
       "      <td>2</td>\n",
       "      <td>Bob Johnson</td>\n",
       "      <td>bob@example.com</td>\n",
       "    </tr>\n",
       "    <tr>\n",
       "      <th>7</th>\n",
       "      <td>3</td>\n",
       "      <td>Carol White</td>\n",
       "      <td>carol@example.com</td>\n",
       "    </tr>\n",
       "    <tr>\n",
       "      <th>8</th>\n",
       "      <td>4</td>\n",
       "      <td>David Brown</td>\n",
       "      <td>david@example.com</td>\n",
       "    </tr>\n",
       "    <tr>\n",
       "      <th>9</th>\n",
       "      <td>5</td>\n",
       "      <td>Eve Davis</td>\n",
       "      <td>eve@example.com</td>\n",
       "    </tr>\n",
       "  </tbody>\n",
       "</table>\n",
       "</div>"
      ],
      "text/plain": [
       "  customer_id         name              email\n",
       "0           1  Alice Smith  alice@example.com\n",
       "1           2  Bob Johnson    bob@example.com\n",
       "2           3  Carol White  carol@example.com\n",
       "3           4  David Brown  david@example.com\n",
       "4           5    Eve Davis    eve@example.com\n",
       "5           1  Alice Smith  alice@example.com\n",
       "6           2  Bob Johnson    bob@example.com\n",
       "7           3  Carol White  carol@example.com\n",
       "8           4  David Brown  david@example.com\n",
       "9           5    Eve Davis    eve@example.com"
      ]
     },
     "execution_count": 12,
     "metadata": {},
     "output_type": "execute_result"
    }
   ],
   "source": [
    "d=[]\n",
    "for customer in customers:\n",
    "    customer_id=customer.find('div',class_=\"customer_id\").get_text(strip=True)\n",
    "    name=customer.find('div',class_=\"customer_name\").get_text(strip=True)\n",
    "    email=customer.find('div',class_=\"customer_email\").get_text(strip=True)\n",
    "    d.append({'customer_id':customer_id, \"name\":name, \"email\":email})\n",
    "pd.DataFrame(d)"
   ]
  },
  {
   "cell_type": "markdown",
   "id": "bb969ed8-cea2-4545-8a80-d2f63c9491e5",
   "metadata": {},
   "source": [
    "# Rental List\n",
    "url: http://localhost:8000/rentals.html"
   ]
  },
  {
   "cell_type": "code",
   "execution_count": 13,
   "id": "dc5777c9-380a-40bd-a24c-4e1adbcd5a69",
   "metadata": {},
   "outputs": [],
   "source": [
    "import pandas as pd\n",
    "from playwright.async_api import async_playwright\n",
    "from bs4 import BeautifulSoup\n",
    "\n",
    "pw = await async_playwright().start()\n",
    "browser = await pw.chromium.launch(headless = False)\n",
    "page = await browser.new_page()\n",
    "# url=f'http://localhost:8000/books.html'\n",
    "_ = await page.goto('http://localhost:8000/rentals.html')\n",
    "\n",
    "# await page.wait_for_selector('body')\n",
    "await page.wait_for_function(\"() => document.getElementById('footer').innerText == 'Loading complete'\")\n",
    "\n",
    "selector = await page.query_selector('body')\n",
    "html = await selector.inner_html()\n",
    "\n",
    "await browser.close()"
   ]
  },
  {
   "cell_type": "code",
   "execution_count": 14,
   "id": "00b63e1e-eb89-4b93-a3b4-1618c0071bfe",
   "metadata": {},
   "outputs": [
    {
     "data": {
      "text/plain": [
       "<div class=\"my-rent-container max-w-sm b rounded overflow-hidden shadow-lg ml-6 mt-6 bg-slate-50 p-2\">\n",
       "<div class=\"grid grid-cols-2 divide-x\">\n",
       "<div class=\"text-right p-1\">Rent ID :</div>\n",
       "<div class=\"text-left p-1 rent-id\">1</div>\n",
       "</div>\n",
       "<div class=\"grid grid-cols-2 divide-x\">\n",
       "<div class=\"text-right p-1\">BOOK ID :</div>\n",
       "<div class=\"text-left p-1 book-id\">1</div>\n",
       "</div>\n",
       "<div class=\"grid grid-cols-2 divide-x\">\n",
       "<div class=\"text-right p-1\">Customer ID :</div>\n",
       "<div class=\"text-left p-1 customer-id\">1</div>\n",
       "</div>\n",
       "<div class=\"grid grid-cols-2 divide-x\">\n",
       "<div class=\"text-right p-1\">Rent Date :</div>\n",
       "<div class=\"text-left p-1 return-date\">2023-01-01</div>\n",
       "</div>\n",
       "<div class=\"grid grid-cols-2 divide-x\">\n",
       "<div class=\"text-right p-1\">Return Date :</div>\n",
       "<div class=\"text-left p-1 rent-date\">1</div>\n",
       "</div>\n",
       "</div>"
      ]
     },
     "execution_count": 14,
     "metadata": {},
     "output_type": "execute_result"
    }
   ],
   "source": [
    "soup = BeautifulSoup(html, 'html.parser')\n",
    "rentals =  soup.find_all('div', class_=\"my-rent-container\")\n",
    "rentals[0]"
   ]
  },
  {
   "cell_type": "code",
   "execution_count": 15,
   "id": "1838177c-1a4a-497e-910d-fd969179bb70",
   "metadata": {},
   "outputs": [
    {
     "data": {
      "text/html": [
       "<div>\n",
       "<style scoped>\n",
       "    .dataframe tbody tr th:only-of-type {\n",
       "        vertical-align: middle;\n",
       "    }\n",
       "\n",
       "    .dataframe tbody tr th {\n",
       "        vertical-align: top;\n",
       "    }\n",
       "\n",
       "    .dataframe thead th {\n",
       "        text-align: right;\n",
       "    }\n",
       "</style>\n",
       "<table border=\"1\" class=\"dataframe\">\n",
       "  <thead>\n",
       "    <tr style=\"text-align: right;\">\n",
       "      <th></th>\n",
       "      <th>rent_id</th>\n",
       "      <th>book_id</th>\n",
       "      <th>customer_id</th>\n",
       "      <th>rent_date</th>\n",
       "      <th>return_date</th>\n",
       "    </tr>\n",
       "  </thead>\n",
       "  <tbody>\n",
       "    <tr>\n",
       "      <th>0</th>\n",
       "      <td>1</td>\n",
       "      <td>1</td>\n",
       "      <td>1</td>\n",
       "      <td>1</td>\n",
       "      <td>2023-01-01</td>\n",
       "    </tr>\n",
       "    <tr>\n",
       "      <th>1</th>\n",
       "      <td>2</td>\n",
       "      <td>2</td>\n",
       "      <td>2</td>\n",
       "      <td>2</td>\n",
       "      <td>2023-01-05</td>\n",
       "    </tr>\n",
       "    <tr>\n",
       "      <th>2</th>\n",
       "      <td>3</td>\n",
       "      <td>3</td>\n",
       "      <td>3</td>\n",
       "      <td>3</td>\n",
       "      <td>2023-01-10</td>\n",
       "    </tr>\n",
       "    <tr>\n",
       "      <th>3</th>\n",
       "      <td>4</td>\n",
       "      <td>4</td>\n",
       "      <td>4</td>\n",
       "      <td>4</td>\n",
       "      <td>2023-01-15</td>\n",
       "    </tr>\n",
       "    <tr>\n",
       "      <th>4</th>\n",
       "      <td>5</td>\n",
       "      <td>5</td>\n",
       "      <td>5</td>\n",
       "      <td>5</td>\n",
       "      <td>2023-01-20</td>\n",
       "    </tr>\n",
       "    <tr>\n",
       "      <th>5</th>\n",
       "      <td>6</td>\n",
       "      <td>1</td>\n",
       "      <td>6</td>\n",
       "      <td>6</td>\n",
       "      <td>2023-02-01</td>\n",
       "    </tr>\n",
       "    <tr>\n",
       "      <th>6</th>\n",
       "      <td>7</td>\n",
       "      <td>2</td>\n",
       "      <td>7</td>\n",
       "      <td>7</td>\n",
       "      <td>2023-02-05</td>\n",
       "    </tr>\n",
       "    <tr>\n",
       "      <th>7</th>\n",
       "      <td>8</td>\n",
       "      <td>3</td>\n",
       "      <td>8</td>\n",
       "      <td>8</td>\n",
       "      <td>2023-02-10</td>\n",
       "    </tr>\n",
       "    <tr>\n",
       "      <th>8</th>\n",
       "      <td>9</td>\n",
       "      <td>4</td>\n",
       "      <td>9</td>\n",
       "      <td>9</td>\n",
       "      <td>2023-02-15</td>\n",
       "    </tr>\n",
       "    <tr>\n",
       "      <th>9</th>\n",
       "      <td>10</td>\n",
       "      <td>5</td>\n",
       "      <td>10</td>\n",
       "      <td>10</td>\n",
       "      <td>2023-02-20</td>\n",
       "    </tr>\n",
       "  </tbody>\n",
       "</table>\n",
       "</div>"
      ],
      "text/plain": [
       "  rent_id book_id customer_id rent_date return_date\n",
       "0       1       1           1         1  2023-01-01\n",
       "1       2       2           2         2  2023-01-05\n",
       "2       3       3           3         3  2023-01-10\n",
       "3       4       4           4         4  2023-01-15\n",
       "4       5       5           5         5  2023-01-20\n",
       "5       6       1           6         6  2023-02-01\n",
       "6       7       2           7         7  2023-02-05\n",
       "7       8       3           8         8  2023-02-10\n",
       "8       9       4           9         9  2023-02-15\n",
       "9      10       5          10        10  2023-02-20"
      ]
     },
     "execution_count": 15,
     "metadata": {},
     "output_type": "execute_result"
    }
   ],
   "source": [
    "d=[]\n",
    "for rent in rentals:\n",
    "    rent_id = rent.find('div',class_=\"rent-id\").get_text(strip=True)\n",
    "    book_id = rent.find('div',class_=\"book-id\").get_text(strip=True)\n",
    "    customer_id = rent.find('div',class_=\"customer-id\").get_text(strip=True)\n",
    "    rent_date = rent.find('div',class_=\"rent-date\").get_text(strip=True)\n",
    "    return_date = rent.find('div',class_=\"return-date\").get_text(strip=True)\n",
    "    d.append({'rent_id':rent_id,'book_id':book_id,'customer_id':customer_id, 'rent_date':rent_date, 'return_date':return_date})\n",
    "pd.DataFrame(d)"
   ]
  },
  {
   "cell_type": "code",
   "execution_count": null,
   "id": "6eca3145-5a60-4b0f-8bc5-7f2335f40648",
   "metadata": {},
   "outputs": [],
   "source": []
  }
 ],
 "metadata": {
  "kernelspec": {
   "display_name": "Python 3 (ipykernel)",
   "language": "python",
   "name": "python3"
  },
  "language_info": {
   "codemirror_mode": {
    "name": "ipython",
    "version": 3
   },
   "file_extension": ".py",
   "mimetype": "text/x-python",
   "name": "python",
   "nbconvert_exporter": "python",
   "pygments_lexer": "ipython3",
   "version": "3.10.13"
  }
 },
 "nbformat": 4,
 "nbformat_minor": 5
}
