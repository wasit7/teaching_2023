{
 "cells": [
  {
   "cell_type": "markdown",
   "id": "44947842",
   "metadata": {},
   "source": [
    "Before you turn this problem in, make sure everything runs as expected. First, **restart the kernel** (in the menubar, select Kernel$\\rightarrow$Restart) and then **run all cells** (in the menubar, select Cell$\\rightarrow$Run All).\n",
    "\n",
    "Make sure you fill in any place that says `YOUR CODE HERE` or \"YOUR ANSWER HERE\", as well as your name and collaborators below:"
   ]
  },
  {
   "cell_type": "code",
   "execution_count": null,
   "id": "9913a133",
   "metadata": {},
   "outputs": [],
   "source": [
    "NAME = \"\"\n",
    "COLLABORATORS = \"\""
   ]
  },
  {
   "cell_type": "markdown",
   "id": "6b014ca1",
   "metadata": {},
   "source": [
    "---"
   ]
  },
  {
   "cell_type": "markdown",
   "id": "ce6ed7c6",
   "metadata": {
    "deletable": false,
    "editable": false,
    "nbgrader": {
     "cell_type": "markdown",
     "checksum": "d83ee6551a5d5a512e60d090195cbdf8",
     "grade": false,
     "grade_id": "cell-a571863327493058",
     "locked": true,
     "schema_version": 3,
     "solution": false,
     "task": false
    }
   },
   "source": [
    "### Step 1: Select and Explain the Dataset\n",
    "\n",
    "The famous \"Breast Cancer\" dataset from scikit-learn. The Breast Cancer dataset contains features computed from a digitized image of a fine needle aspirate (FNA) of a breast mass. The goal is to classify tumors as malignant or benign based on various characteristics.\n",
    "\n",
    "ชุดข้อมูลมะเร็งเต้านมประกอบด้วยคุณลักษณะที่คำนวณจากภาพดิจิทัลของเข็มดูดขนาดเล็ก (FNA) ของมวลเต้านม เป้าหมายคือการจำแนกเนื้องอกว่าเป็นเนื้อร้ายหรือไม่"
   ]
  },
  {
   "cell_type": "markdown",
   "id": "ae6384c9",
   "metadata": {
    "deletable": false,
    "editable": false,
    "nbgrader": {
     "cell_type": "markdown",
     "checksum": "abe9975578e667c68a259197c0546b1e",
     "grade": false,
     "grade_id": "cell-014575f78d83739e",
     "locked": true,
     "schema_version": 3,
     "solution": false,
     "task": false
    }
   },
   "source": [
    "### Step 2: Read Data (1 point)\n",
    "Read dataset into a Pandas DataFrame.\n",
    "อ่านข้อมูลจาก breast_cancer.csv เพื่อเก็บใน dataframe ชื่อ breast_cancer_data"
   ]
  },
  {
   "cell_type": "code",
   "execution_count": null,
   "id": "3cfd5d22",
   "metadata": {
    "deletable": false,
    "nbgrader": {
     "cell_type": "code",
     "checksum": "aea2cb2d31d012858788a19296f5ea93",
     "grade": false,
     "grade_id": "cell-5ce183277081aa38",
     "locked": false,
     "schema_version": 3,
     "solution": true,
     "task": false
    }
   },
   "outputs": [],
   "source": [
    "# YOUR CODE HERE\n",
    "raise NotImplementedError()"
   ]
  },
  {
   "cell_type": "code",
   "execution_count": null,
   "id": "20b56a29",
   "metadata": {},
   "outputs": [],
   "source": [
    "breast_cancer_data.info()"
   ]
  },
  {
   "cell_type": "code",
   "execution_count": null,
   "id": "8657cde3",
   "metadata": {
    "deletable": false,
    "editable": false,
    "nbgrader": {
     "cell_type": "code",
     "checksum": "cb1ab9fd52d9f0bd3d93bfc05899d212",
     "grade": true,
     "grade_id": "cell-0f7bf8d5311ac680",
     "locked": true,
     "points": 1,
     "schema_version": 3,
     "solution": false,
     "task": false
    }
   },
   "outputs": [],
   "source": [
    "#step 2\n",
    "assert len(breast_cancer_data) == 569, \"Incorrect number of rows\""
   ]
  },
  {
   "cell_type": "markdown",
   "id": "d5e7b998",
   "metadata": {
    "deletable": false,
    "editable": false,
    "nbgrader": {
     "cell_type": "markdown",
     "checksum": "d857e68be43d98bdd08c01d34bfc8e9f",
     "grade": false,
     "grade_id": "cell-5ede6f97ca578e1a",
     "locked": true,
     "schema_version": 3,
     "solution": false,
     "task": false
    }
   },
   "source": [
    "### Step 3: Exploratory Data Analysis (EDA) and Numerical Results (3 points)\n",
    "คำนวณค่าสถิติพื้นฐานเพื่อสำรวจข้อมูลประกอบด้วย\n",
    "* mean_radius_mean ค่าเฉลี่ยของ mean radius\n",
    "* worst_perimeter_max ค่ามากสุดของ worst_perimeter\n",
    "* mean_smoothness_sum ค่าผลรวมของ mean_smoothness"
   ]
  },
  {
   "cell_type": "code",
   "execution_count": null,
   "id": "c9021fbf",
   "metadata": {
    "deletable": false,
    "nbgrader": {
     "cell_type": "code",
     "checksum": "423122275eda1537246a9cb22de213a3",
     "grade": false,
     "grade_id": "cell-985e49e8cfb5ff4e",
     "locked": false,
     "schema_version": 3,
     "solution": true,
     "task": false
    }
   },
   "outputs": [],
   "source": [
    "# Calculate summary statistics\n",
    "# YOUR CODE HERE\n",
    "raise NotImplementedError()\n",
    "\n",
    "mean_radius_mean, worst_perimeter_max, mean_smoothness_sum"
   ]
  },
  {
   "cell_type": "code",
   "execution_count": null,
   "id": "d52632cc",
   "metadata": {
    "deletable": false,
    "editable": false,
    "nbgrader": {
     "cell_type": "code",
     "checksum": "4baa47e7a068e6cb5e29a4af68a9cab9",
     "grade": true,
     "grade_id": "cell-932f975bc5a37635",
     "locked": true,
     "points": 3,
     "schema_version": 3,
     "solution": false,
     "task": false
    }
   },
   "outputs": [],
   "source": [
    "#step3\n",
    "assert round(mean_radius_mean, 2) == 14.13, \"Incorrect mean mean radius\"\n",
    "assert round(worst_perimeter_max, 2) == 251.2, \"Incorrect max worst perimeter\"\n",
    "assert round(mean_smoothness_sum, 2) == 54.83, \"Incorrect sum mean smoothness\""
   ]
  },
  {
   "cell_type": "markdown",
   "id": "2a95a22b",
   "metadata": {
    "deletable": false,
    "editable": false,
    "nbgrader": {
     "cell_type": "markdown",
     "checksum": "692d9993091755ba4816e08a485e4fd3",
     "grade": false,
     "grade_id": "cell-0709130f89512eb6",
     "locked": true,
     "schema_version": 3,
     "solution": false,
     "task": false
    }
   },
   "source": [
    "### Step 4: Setup Experiment and Model Training (3 points)"
   ]
  },
  {
   "cell_type": "code",
   "execution_count": null,
   "id": "aaf6121a",
   "metadata": {
    "deletable": false,
    "editable": false,
    "nbgrader": {
     "cell_type": "code",
     "checksum": "f946064da56ecfa8e3cb9a3d24e40694",
     "grade": false,
     "grade_id": "cell-c7ace6ade31e8be3",
     "locked": true,
     "schema_version": 3,
     "solution": false,
     "task": false
    }
   },
   "outputs": [],
   "source": [
    "from sklearn.model_selection import train_test_split\n",
    "from sklearn.ensemble import RandomForestClassifier\n",
    "\n",
    "# Split data into features (X) and target (y)\n",
    "X = breast_cancer_data.drop('target', axis=1)\n",
    "y = breast_cancer_data['target']"
   ]
  },
  {
   "cell_type": "code",
   "execution_count": null,
   "id": "e48de5eb-d97d-41ed-a903-2e2b4bbfec34",
   "metadata": {
    "deletable": false,
    "editable": false,
    "nbgrader": {
     "cell_type": "code",
     "checksum": "d3bb1e159f5844c1f49f9105b3e911b0",
     "grade": false,
     "grade_id": "cell-30b7a843648c8ec2",
     "locked": true,
     "schema_version": 3,
     "solution": false,
     "task": false
    }
   },
   "outputs": [],
   "source": [
    "# Split data into training and testing sets\n",
    "X_train, X_test, y_train, y_test = train_test_split(X, y, test_size=0.2, random_state=42)"
   ]
  },
  {
   "cell_type": "markdown",
   "id": "a0b99a37-91c9-4d03-9770-147d5b5f6cb1",
   "metadata": {
    "deletable": false,
    "editable": false,
    "nbgrader": {
     "cell_type": "markdown",
     "checksum": "f94b9523eb5c28a3f78a49ba82526546",
     "grade": false,
     "grade_id": "cell-651dfd2ac3f84378",
     "locked": true,
     "schema_version": 3,
     "solution": false,
     "task": false
    }
   },
   "source": [
    "4.1 สร่างโมเดล RandomForestClassifier ด้วยข้อมูล X_train, y_train"
   ]
  },
  {
   "cell_type": "code",
   "execution_count": null,
   "id": "87a89e89-d3ee-4061-a1b6-8c811c893d3d",
   "metadata": {
    "deletable": false,
    "nbgrader": {
     "cell_type": "code",
     "checksum": "0fa8e94f4d3b5cf59865374e5fb89ddc",
     "grade": false,
     "grade_id": "cell-0ea9d63c8557f566",
     "locked": false,
     "schema_version": 3,
     "solution": true,
     "task": false
    }
   },
   "outputs": [],
   "source": [
    "# Initialize and train the random forest classifier\n",
    "# YOUR CODE HERE\n",
    "raise NotImplementedError()"
   ]
  },
  {
   "cell_type": "code",
   "execution_count": null,
   "id": "43397049",
   "metadata": {
    "deletable": false,
    "editable": false,
    "nbgrader": {
     "cell_type": "code",
     "checksum": "871dc256a9ed048ea9c47ac5a0ea4ec2",
     "grade": true,
     "grade_id": "cell-8c31d16161235116",
     "locked": true,
     "points": 3,
     "schema_version": 3,
     "solution": false,
     "task": false
    }
   },
   "outputs": [],
   "source": [
    "#step4\n",
    "# def mycheck(yp,yt,error_percent=10):\n",
    "#     p=error_percent/100\n",
    "#     return yt*(1-p)<yp and yp < yt*(1+p)\n",
    "\n",
    "assert len(X_train) == 455, \"Incorrect number of training samples\"\n",
    "assert len(X_test) == 114, \"Incorrect number of test samples\"\n"
   ]
  },
  {
   "cell_type": "markdown",
   "id": "f2472ece",
   "metadata": {
    "deletable": false,
    "editable": false,
    "nbgrader": {
     "cell_type": "markdown",
     "checksum": "4768c2d41f94ec3b3a31ba79b1a491ba",
     "grade": false,
     "grade_id": "cell-6e6b31589e3436b4",
     "locked": true,
     "schema_version": 3,
     "solution": false,
     "task": false
    }
   },
   "source": [
    "### Step 5: Evaluation (3 points)"
   ]
  },
  {
   "cell_type": "code",
   "execution_count": null,
   "id": "dd65b37a",
   "metadata": {
    "deletable": false,
    "nbgrader": {
     "cell_type": "code",
     "checksum": "05ad9b177ae34dbe82e475230958950a",
     "grade": false,
     "grade_id": "cell-6510510e34498eab",
     "locked": false,
     "schema_version": 3,
     "solution": true,
     "task": false
    }
   },
   "outputs": [],
   "source": [
    "from sklearn.metrics import accuracy_score, precision_score, recall_score\n",
    "\n",
    "# Make predictions on the test set\n",
    "y_pred = model.predict(X_test)\n",
    "\n",
    "# Calculate accuracy, precision, and recall\n",
    "# YOUR CODE HERE\n",
    "raise NotImplementedError()\n",
    "accuracy, precision, recall"
   ]
  },
  {
   "cell_type": "code",
   "execution_count": null,
   "id": "de9da086",
   "metadata": {
    "deletable": false,
    "editable": false,
    "nbgrader": {
     "cell_type": "code",
     "checksum": "7b056305040c8a2ad9b63537872e6442",
     "grade": true,
     "grade_id": "cell-e13ffa942cad9259",
     "locked": true,
     "points": 1,
     "schema_version": 3,
     "solution": false,
     "task": false
    }
   },
   "outputs": [],
   "source": [
    "#step5\n",
    "def mycheck(yp,yt,error_percent=10):\n",
    "    p=error_percent/100\n",
    "    return yt*(1-p)<yp and yp < yt*(1+p)\n",
    "\n",
    "assert mycheck(accuracy,0.965), \"Incorrect accuracy\"\n",
    "\n",
    "\n",
    "# assert round(accuracy, 2) == 0.97, \"Incorrect accuracy\"\n",
    "# assert round(precision, 2) == 0.98, \"Incorrect precision\"\n",
    "# assert round(recall, 2) == 0.96, \"Incorrect recall\""
   ]
  },
  {
   "cell_type": "code",
   "execution_count": null,
   "id": "7b8156e7",
   "metadata": {
    "deletable": false,
    "editable": false,
    "nbgrader": {
     "cell_type": "code",
     "checksum": "7f1b1a682f30a552c57b02cec0bfe45d",
     "grade": true,
     "grade_id": "cell-425e13b9db14985d",
     "locked": true,
     "points": 1,
     "schema_version": 3,
     "solution": false,
     "task": false
    }
   },
   "outputs": [],
   "source": [
    "assert mycheck(precision,0.959), \"Incorrect precision\"\n"
   ]
  },
  {
   "cell_type": "code",
   "execution_count": null,
   "id": "7e20c36a-fc33-451b-a3a7-d6d52ce31e32",
   "metadata": {
    "deletable": false,
    "editable": false,
    "nbgrader": {
     "cell_type": "code",
     "checksum": "e66804fe24edb32feedc3db5b711f4eb",
     "grade": true,
     "grade_id": "cell-b04764de18d6ecd0",
     "locked": true,
     "points": 1,
     "schema_version": 3,
     "solution": false,
     "task": false
    }
   },
   "outputs": [],
   "source": [
    "assert mycheck(recall,0.986), \"Incorrect recall\""
   ]
  }
 ],
 "metadata": {
  "kernelspec": {
   "display_name": "Python 3 (ipykernel)",
   "language": "python",
   "name": "python3"
  },
  "language_info": {
   "codemirror_mode": {
    "name": "ipython",
    "version": 3
   },
   "file_extension": ".py",
   "mimetype": "text/x-python",
   "name": "python",
   "nbconvert_exporter": "python",
   "pygments_lexer": "ipython3",
   "version": "3.10.13"
  }
 },
 "nbformat": 4,
 "nbformat_minor": 5
}
