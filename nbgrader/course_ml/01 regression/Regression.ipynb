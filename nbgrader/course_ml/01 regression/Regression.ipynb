{
 "cells": [
  {
   "cell_type": "markdown",
   "id": "c0aa1a2c",
   "metadata": {},
   "source": [
    "Before you turn this problem in, make sure everything runs as expected. First, **restart the kernel** (in the menubar, select Kernel$\\rightarrow$Restart) and then **run all cells** (in the menubar, select Cell$\\rightarrow$Run All).\n",
    "\n",
    "Make sure you fill in any place that says `YOUR CODE HERE` or \"YOUR ANSWER HERE\", as well as your name and collaborators below:"
   ]
  },
  {
   "cell_type": "code",
   "execution_count": 20,
   "id": "36bc36f6",
   "metadata": {},
   "outputs": [],
   "source": [
    "NAME = \"Wasit\"\n",
    "COLLABORATORS = \"\""
   ]
  },
  {
   "cell_type": "markdown",
   "id": "c3db7439",
   "metadata": {},
   "source": [
    "---"
   ]
  },
  {
   "cell_type": "markdown",
   "id": "139488f8",
   "metadata": {
    "deletable": false,
    "editable": false,
    "nbgrader": {
     "cell_type": "markdown",
     "checksum": "13963d430f7dea14382acb09a7293444",
     "grade": false,
     "grade_id": "cell-a571863327493058",
     "locked": true,
     "schema_version": 3,
     "solution": false,
     "task": false
    }
   },
   "source": [
    "### Step 1: Select and Explain the Dataset\n",
    "\n",
    "California Housing Prices Dataset\n",
    "\n",
    "ชุดข้อมูล \"Boston Housing\" เป็นชุดข้อมูลที่รู้จักกันดีสำหรับโจทย์ Regression ชุดข้อมูลนี้ประกอบด้วยราคาของที่อยู่อาศัยพร้อมกับฟีเจอร์ต่างๆ เช่น อัตราอาชญากรรม จำนวนห้องโดยเฉลี่ย ฯลฯ ใช้เพื่อคาดการณ์ราคาที่อยู่อาศัย"
   ]
  },
  {
   "cell_type": "markdown",
   "id": "b0161e95",
   "metadata": {
    "deletable": false,
    "editable": false,
    "nbgrader": {
     "cell_type": "markdown",
     "checksum": "3961472abf73674ffff3678bdba576fa",
     "grade": false,
     "grade_id": "cell-014575f78d83739e",
     "locked": true,
     "schema_version": 3,
     "solution": false,
     "task": false
    }
   },
   "source": [
    "### Step 2: Read Data (1 point)\n",
    "Read California Housing Prices datasetdataset into a Pandas DataFrame."
   ]
  },
  {
   "cell_type": "markdown",
   "id": "c53805a6-2491-4392-877a-f9fa7a517811",
   "metadata": {},
   "source": [
    "2.1 โหลด housing.csv (Boston Housing dataset) ลงใน Pandas DataFrame โดยตั้งชื่อตัวแปรของ DataFrame นั้นว่า housing_data."
   ]
  },
  {
   "cell_type": "code",
   "execution_count": 21,
   "id": "0715a3d1",
   "metadata": {
    "deletable": false,
    "nbgrader": {
     "cell_type": "code",
     "checksum": "5c1413ab1b13dee1e4cd1f9d6fb74a80",
     "grade": false,
     "grade_id": "cell-5ce183277081aa38",
     "locked": false,
     "schema_version": 3,
     "solution": true,
     "task": false
    }
   },
   "outputs": [
    {
     "data": {
      "text/html": [
       "<div>\n",
       "<style scoped>\n",
       "    .dataframe tbody tr th:only-of-type {\n",
       "        vertical-align: middle;\n",
       "    }\n",
       "\n",
       "    .dataframe tbody tr th {\n",
       "        vertical-align: top;\n",
       "    }\n",
       "\n",
       "    .dataframe thead th {\n",
       "        text-align: right;\n",
       "    }\n",
       "</style>\n",
       "<table border=\"1\" class=\"dataframe\">\n",
       "  <thead>\n",
       "    <tr style=\"text-align: right;\">\n",
       "      <th></th>\n",
       "      <th>longitude</th>\n",
       "      <th>latitude</th>\n",
       "      <th>housing_median_age</th>\n",
       "      <th>total_rooms</th>\n",
       "      <th>total_bedrooms</th>\n",
       "      <th>population</th>\n",
       "      <th>households</th>\n",
       "      <th>median_income</th>\n",
       "      <th>median_house_value</th>\n",
       "      <th>ocean_proximity</th>\n",
       "    </tr>\n",
       "  </thead>\n",
       "  <tbody>\n",
       "    <tr>\n",
       "      <th>0</th>\n",
       "      <td>-122.23</td>\n",
       "      <td>37.88</td>\n",
       "      <td>41.0</td>\n",
       "      <td>880.0</td>\n",
       "      <td>129.0</td>\n",
       "      <td>322.0</td>\n",
       "      <td>126.0</td>\n",
       "      <td>8.3252</td>\n",
       "      <td>452600.0</td>\n",
       "      <td>NEAR BAY</td>\n",
       "    </tr>\n",
       "    <tr>\n",
       "      <th>1</th>\n",
       "      <td>-122.22</td>\n",
       "      <td>37.86</td>\n",
       "      <td>21.0</td>\n",
       "      <td>7099.0</td>\n",
       "      <td>1106.0</td>\n",
       "      <td>2401.0</td>\n",
       "      <td>1138.0</td>\n",
       "      <td>8.3014</td>\n",
       "      <td>358500.0</td>\n",
       "      <td>NEAR BAY</td>\n",
       "    </tr>\n",
       "    <tr>\n",
       "      <th>2</th>\n",
       "      <td>-122.24</td>\n",
       "      <td>37.85</td>\n",
       "      <td>52.0</td>\n",
       "      <td>1467.0</td>\n",
       "      <td>190.0</td>\n",
       "      <td>496.0</td>\n",
       "      <td>177.0</td>\n",
       "      <td>7.2574</td>\n",
       "      <td>352100.0</td>\n",
       "      <td>NEAR BAY</td>\n",
       "    </tr>\n",
       "    <tr>\n",
       "      <th>3</th>\n",
       "      <td>-122.25</td>\n",
       "      <td>37.85</td>\n",
       "      <td>52.0</td>\n",
       "      <td>1274.0</td>\n",
       "      <td>235.0</td>\n",
       "      <td>558.0</td>\n",
       "      <td>219.0</td>\n",
       "      <td>5.6431</td>\n",
       "      <td>341300.0</td>\n",
       "      <td>NEAR BAY</td>\n",
       "    </tr>\n",
       "    <tr>\n",
       "      <th>4</th>\n",
       "      <td>-122.25</td>\n",
       "      <td>37.85</td>\n",
       "      <td>52.0</td>\n",
       "      <td>1627.0</td>\n",
       "      <td>280.0</td>\n",
       "      <td>565.0</td>\n",
       "      <td>259.0</td>\n",
       "      <td>3.8462</td>\n",
       "      <td>342200.0</td>\n",
       "      <td>NEAR BAY</td>\n",
       "    </tr>\n",
       "  </tbody>\n",
       "</table>\n",
       "</div>"
      ],
      "text/plain": [
       "   longitude  latitude  housing_median_age  total_rooms  total_bedrooms  \\\n",
       "0    -122.23     37.88                41.0        880.0           129.0   \n",
       "1    -122.22     37.86                21.0       7099.0          1106.0   \n",
       "2    -122.24     37.85                52.0       1467.0           190.0   \n",
       "3    -122.25     37.85                52.0       1274.0           235.0   \n",
       "4    -122.25     37.85                52.0       1627.0           280.0   \n",
       "\n",
       "   population  households  median_income  median_house_value ocean_proximity  \n",
       "0       322.0       126.0         8.3252            452600.0        NEAR BAY  \n",
       "1      2401.0      1138.0         8.3014            358500.0        NEAR BAY  \n",
       "2       496.0       177.0         7.2574            352100.0        NEAR BAY  \n",
       "3       558.0       219.0         5.6431            341300.0        NEAR BAY  \n",
       "4       565.0       259.0         3.8462            342200.0        NEAR BAY  "
      ]
     },
     "execution_count": 21,
     "metadata": {},
     "output_type": "execute_result"
    }
   ],
   "source": [
    "# YOUR CODE HERE\n",
    "import pandas as pd\n",
    "housing_data = pd.read_csv('housing.csv')\n",
    "\n",
    "housing_data.head()"
   ]
  },
  {
   "cell_type": "code",
   "execution_count": 22,
   "id": "65a877a1",
   "metadata": {
    "deletable": false,
    "editable": false,
    "nbgrader": {
     "cell_type": "code",
     "checksum": "7a9c14b01f0481c3deab8dd671c4b188",
     "grade": false,
     "grade_id": "cell-7c732eb1117be55b",
     "locked": true,
     "schema_version": 3,
     "solution": false,
     "task": false
    }
   },
   "outputs": [
    {
     "name": "stdout",
     "output_type": "stream",
     "text": [
      "<class 'pandas.core.frame.DataFrame'>\n",
      "RangeIndex: 20640 entries, 0 to 20639\n",
      "Data columns (total 10 columns):\n",
      " #   Column              Non-Null Count  Dtype  \n",
      "---  ------              --------------  -----  \n",
      " 0   longitude           20640 non-null  float64\n",
      " 1   latitude            20640 non-null  float64\n",
      " 2   housing_median_age  20640 non-null  float64\n",
      " 3   total_rooms         20640 non-null  float64\n",
      " 4   total_bedrooms      20433 non-null  float64\n",
      " 5   population          20640 non-null  float64\n",
      " 6   households          20640 non-null  float64\n",
      " 7   median_income       20640 non-null  float64\n",
      " 8   median_house_value  20640 non-null  float64\n",
      " 9   ocean_proximity     20640 non-null  object \n",
      "dtypes: float64(9), object(1)\n",
      "memory usage: 1.6+ MB\n"
     ]
    }
   ],
   "source": [
    "housing_data.info()"
   ]
  },
  {
   "cell_type": "code",
   "execution_count": 23,
   "id": "ce5a43ae",
   "metadata": {
    "deletable": false,
    "editable": false,
    "nbgrader": {
     "cell_type": "code",
     "checksum": "218a1dababef3caebf2c52df999174fa",
     "grade": true,
     "grade_id": "cell-0f7bf8d5311ac680",
     "locked": true,
     "points": 1,
     "schema_version": 3,
     "solution": false,
     "task": false
    }
   },
   "outputs": [],
   "source": [
    "#step 2.1\n",
    "assert len(housing_data) == 20640, \"Incorrect number of rows\""
   ]
  },
  {
   "cell_type": "markdown",
   "id": "a86de2b5",
   "metadata": {
    "deletable": false,
    "editable": false,
    "nbgrader": {
     "cell_type": "markdown",
     "checksum": "22da33ca193c306125fa6553ee5759a1",
     "grade": false,
     "grade_id": "cell-5ede6f97ca578e1a",
     "locked": true,
     "schema_version": 3,
     "solution": false,
     "task": false
    }
   },
   "source": [
    "### Step 3: Exploratory Data Analysis (EDA) and Numerical Results (3 points)"
   ]
  },
  {
   "cell_type": "markdown",
   "id": "b7c04d61-0db7-4f6a-a892-b7c932e59e64",
   "metadata": {},
   "source": [
    "จงคำนวณค่าทางสถิติดังต่อไปนี้\n",
    "* 3.1 Mean ของ median_income\n",
    "* 3.2 Max ของ housing_median_age\n",
    "* 3.3 Sum ของ total_rooms"
   ]
  },
  {
   "cell_type": "code",
   "execution_count": 24,
   "id": "ea33a91e",
   "metadata": {
    "deletable": false,
    "nbgrader": {
     "cell_type": "code",
     "checksum": "79b2a6142abba9e698f8c8e3c1a7c914",
     "grade": false,
     "grade_id": "cell-985e49e8cfb5ff4e",
     "locked": false,
     "schema_version": 3,
     "solution": true,
     "task": false
    }
   },
   "outputs": [
    {
     "data": {
      "text/plain": [
       "(3.8706710029069766, 52.0, 54402150.0)"
      ]
     },
     "execution_count": 24,
     "metadata": {},
     "output_type": "execute_result"
    }
   ],
   "source": [
    "# Calculate summary statistics\n",
    "# YOUR CODE HERE\n",
    "median_income_mean = housing_data['median_income'].mean()\n",
    "housing_median_age_max = housing_data['housing_median_age'].max()\n",
    "total_rooms_sum = housing_data['total_rooms'].sum()\n",
    "\n",
    "median_income_mean, housing_median_age_max, total_rooms_sum"
   ]
  },
  {
   "cell_type": "code",
   "execution_count": 25,
   "id": "1ff40d4a",
   "metadata": {
    "deletable": false,
    "editable": false,
    "nbgrader": {
     "cell_type": "code",
     "checksum": "704540a9e9eeec4b154f2cfacdcf7288",
     "grade": true,
     "grade_id": "cell-932f975bc5a37635",
     "locked": true,
     "points": 3,
     "schema_version": 3,
     "solution": false,
     "task": false
    }
   },
   "outputs": [],
   "source": [
    "#step3.1\n",
    "assert round(median_income_mean, 2) == 3.87, \"Incorrect mean median_income\""
   ]
  },
  {
   "cell_type": "code",
   "execution_count": 26,
   "id": "041816fd-fc11-4344-873e-0d84fd9664b3",
   "metadata": {},
   "outputs": [],
   "source": [
    "#step3.2\n",
    "assert housing_median_age_max == 52, \"Incorrect max housing_median_age\""
   ]
  },
  {
   "cell_type": "code",
   "execution_count": 27,
   "id": "6d7675f6-3278-418f-a0fd-b0604e7f8ab7",
   "metadata": {},
   "outputs": [],
   "source": [
    "#step3.3\n",
    "assert total_rooms_sum == 54402150, \"Incorrect total_rooms sum\""
   ]
  },
  {
   "cell_type": "markdown",
   "id": "5b4545ec",
   "metadata": {
    "deletable": false,
    "editable": false,
    "nbgrader": {
     "cell_type": "markdown",
     "checksum": "692d9993091755ba4816e08a485e4fd3",
     "grade": false,
     "grade_id": "cell-0709130f89512eb6",
     "locked": true,
     "schema_version": 3,
     "solution": false,
     "task": false
    }
   },
   "source": [
    "### Step 4: Setup Experiment and Model Training (3 points)"
   ]
  },
  {
   "cell_type": "markdown",
   "id": "034b12c4-92a6-4400-8ee7-56428d81cfd5",
   "metadata": {
    "deletable": false,
    "editable": false,
    "nbgrader": {
     "cell_type": "markdown",
     "checksum": "4def9c9f17f110d375d15291d3a822e2",
     "grade": false,
     "grade_id": "cell-ba9525d227a1f140",
     "locked": true,
     "schema_version": 3,
     "solution": false,
     "task": false
    }
   },
   "source": [
    "การสร้าง Regression Model ที่สามารถทำนายราคาที่อยู่อาศัย (median_house_value) สำหรับ บรรทัด ที่ 100, 200, และ 300"
   ]
  },
  {
   "cell_type": "code",
   "execution_count": 28,
   "id": "89eafe5c",
   "metadata": {
    "deletable": false,
    "nbgrader": {
     "cell_type": "code",
     "checksum": "a265d0b1ea9ba85a57f55e08363e59e1",
     "grade": false,
     "grade_id": "cell-c7ace6ade31e8be3",
     "locked": false,
     "schema_version": 3,
     "solution": true,
     "task": false
    }
   },
   "outputs": [],
   "source": [
    "# YOUR CODE HERE\n",
    "# Import important libraries\n",
    "\n",
    "from sklearn.model_selection import train_test_split\n",
    "from sklearn.linear_model import LinearRegression\n",
    "from sklearn.impute import SimpleImputer\n",
    "from sklearn.compose import ColumnTransformer\n",
    "from sklearn.pipeline import Pipeline\n",
    "from sklearn.preprocessing import OneHotEncoder\n",
    "\n",
    "# Remove the target variable\n",
    "A = housing_data.drop('median_house_value', axis=1)\n",
    "y = housing_data['median_house_value']"
   ]
  },
  {
   "cell_type": "markdown",
   "id": "c299f8be-718f-485c-b6e5-35c47e493e92",
   "metadata": {
    "deletable": false,
    "editable": false,
    "nbgrader": {
     "cell_type": "markdown",
     "checksum": "4b469105a50c4c76c3594a4f7a11a935",
     "grade": false,
     "grade_id": "cell-50218864e9199c07",
     "locked": true,
     "schema_version": 3,
     "solution": false,
     "task": false
    }
   },
   "source": [
    "4.1 สร้าง matrix X ใหม่จาก A โดยแทนที่ข้อมูล ocean_proximity จากเดิมที่เป็น categorical ให้เป็น OneHotEncoding"
   ]
  },
  {
   "cell_type": "code",
   "execution_count": 29,
   "id": "3c116bd9-afc5-4034-8d9e-70f90933b7d4",
   "metadata": {
    "deletable": false,
    "nbgrader": {
     "cell_type": "code",
     "checksum": "9653742218c76d3d25b68537362be5a3",
     "grade": false,
     "grade_id": "cell-b1eb9dc358506935",
     "locked": false,
     "schema_version": 3,
     "solution": true,
     "task": false
    }
   },
   "outputs": [],
   "source": [
    "# Handle categorical variables using one-hot encoding\n",
    "categorical_features = ['ocean_proximity']\n",
    "numeric_features = list(A.columns.difference(categorical_features))\n",
    "preprocessor = ColumnTransformer(\n",
    "    transformers=[\n",
    "        ('num', SimpleImputer(strategy='median'), numeric_features),\n",
    "        ('cat', OneHotEncoder(), categorical_features)\n",
    "    ])\n",
    "\n",
    "X = preprocessor.fit_transform(A)"
   ]
  },
  {
   "cell_type": "code",
   "execution_count": 30,
   "id": "ddc66325-8686-4ff7-a1e4-ef2bd02f7aea",
   "metadata": {
    "deletable": false,
    "editable": false,
    "nbgrader": {
     "cell_type": "code",
     "checksum": "f87f5a918b5c073a953daf0e231b36fd",
     "grade": true,
     "grade_id": "cell-6898321f55d62482",
     "locked": true,
     "points": 2,
     "schema_version": 3,
     "solution": false,
     "task": false
    }
   },
   "outputs": [],
   "source": [
    "#step4.1\n",
    "assert X.shape[1] == 13, \"Incorrect value of shape\""
   ]
  },
  {
   "cell_type": "code",
   "execution_count": 31,
   "id": "c22d28a7-a4b1-4969-893d-d5921f58c835",
   "metadata": {
    "deletable": false,
    "editable": false,
    "nbgrader": {
     "cell_type": "code",
     "checksum": "da1ffc69d00ce4284e73965662a6234a",
     "grade": false,
     "grade_id": "cell-3be6f5b0623218ab",
     "locked": true,
     "schema_version": 3,
     "solution": false,
     "task": false
    }
   },
   "outputs": [],
   "source": [
    "# Split data into training and testing sets\n",
    "X_train, X_test, y_train, y_test = train_test_split(X, y, test_size=0.2, random_state=42)\n"
   ]
  },
  {
   "cell_type": "markdown",
   "id": "a8b90c79-aa86-4f77-901a-940e828bd6ac",
   "metadata": {
    "deletable": false,
    "editable": false,
    "nbgrader": {
     "cell_type": "markdown",
     "checksum": "9106f3aed3f70980e5e1d4e209175ca1",
     "grade": false,
     "grade_id": "cell-6c6df4419c6dc128",
     "locked": true,
     "schema_version": 3,
     "solution": false,
     "task": false
    }
   },
   "source": [
    "4.2 ทำนายราคาที่อยู่อาศัย (median_house_value) สำหรับ บรรทัด ที่ 100, 200, และ 300"
   ]
  },
  {
   "cell_type": "code",
   "execution_count": 36,
   "id": "51ebed37-51fe-44bc-b5ff-f6d5b40e2512",
   "metadata": {
    "deletable": false,
    "nbgrader": {
     "cell_type": "code",
     "checksum": "f9d4ba2e92f796d847ff622513688ec3",
     "grade": false,
     "grade_id": "cell-2e7cb46ef1f0949c",
     "locked": false,
     "schema_version": 3,
     "solution": true,
     "task": false
    }
   },
   "outputs": [
    {
     "data": {
      "text/plain": [
       "array([133968.27528013, 170929.99001321,  62709.44933419])"
      ]
     },
     "execution_count": 36,
     "metadata": {},
     "output_type": "execute_result"
    }
   ],
   "source": [
    "# Preprocess and train the linear regression model\n",
    "# YOUR CODE HERE\n",
    "# model = Pipeline(steps=[\n",
    "#     ('preprocessor', preprocessor),\n",
    "#     ('model', LinearRegression())\n",
    "# ])\n",
    "\n",
    "model = LinearRegression()\n",
    "model.fit(X_train,y_train)\n",
    "y_predict=model.predict(X_test[[100,200,300],:])\n",
    "y_predict"
   ]
  },
  {
   "cell_type": "code",
   "execution_count": 37,
   "id": "c5cc1fb6",
   "metadata": {
    "deletable": false,
    "editable": false,
    "nbgrader": {
     "cell_type": "code",
     "checksum": "1dc98bb9fb5ec235ba16f890be05af61",
     "grade": true,
     "grade_id": "cell-8c31d16161235116",
     "locked": true,
     "points": 2,
     "schema_version": 3,
     "solution": false,
     "task": false
    }
   },
   "outputs": [],
   "source": [
    "#step4.2\n",
    "def mycheck(yp,yt,error_percent=10):\n",
    "    p=error_percent/100\n",
    "    return yt*(1-p)<yp and yp < yt*(1+p)\n",
    "\n",
    "assert len(X_train) == 16512, \"Incorrect number of training samples\"\n",
    "assert len(X_test) == 4128, \"Incorrect number of test samples\"\n",
    "assert mycheck(y_predict[0],134173.854), \"Incorrect y_prediction[0]\"\n",
    "assert mycheck(y_predict[1],171135.568), \"Incorrect y_prediction[1]\"\n",
    "assert mycheck(y_predict[2],62709.449), \"Incorrect y_prediction[2]\"\n"
   ]
  },
  {
   "cell_type": "markdown",
   "id": "f45ca1c5",
   "metadata": {
    "deletable": false,
    "editable": false,
    "nbgrader": {
     "cell_type": "markdown",
     "checksum": "4768c2d41f94ec3b3a31ba79b1a491ba",
     "grade": false,
     "grade_id": "cell-6e6b31589e3436b4",
     "locked": true,
     "schema_version": 3,
     "solution": false,
     "task": false
    }
   },
   "source": [
    "### Step 5: Evaluation (3 points)"
   ]
  },
  {
   "cell_type": "markdown",
   "id": "2c1d7b36-6a4e-4832-a6ff-1c50ba201d6f",
   "metadata": {
    "deletable": false,
    "editable": false,
    "nbgrader": {
     "cell_type": "markdown",
     "checksum": "4052e917264cdf14b72f1b44fcf9ae95",
     "grade": false,
     "grade_id": "cell-dc6eb742d177f026",
     "locked": true,
     "schema_version": 3,
     "solution": false,
     "task": false
    }
   },
   "source": [
    "การทดลองใช้โมเดลที่ได้สร้างไว้ในขั้นตอนก่อนหน้า"
   ]
  },
  {
   "cell_type": "markdown",
   "id": "22011ce9-5e27-402c-8ffb-54c866df38d4",
   "metadata": {
    "deletable": false,
    "editable": false,
    "nbgrader": {
     "cell_type": "markdown",
     "checksum": "2c6ba9eee8e309dce75745c9d6e588c3",
     "grade": false,
     "grade_id": "cell-f36fc1ec9397baa7",
     "locked": true,
     "schema_version": 3,
     "solution": false,
     "task": false
    }
   },
   "source": [
    "5.1 ทดลองทำนายราคาที่อยู่อาศัยโดยใช้ X_test และเก็บค่าการทำนายไว้ใน y_pred"
   ]
  },
  {
   "cell_type": "code",
   "execution_count": 38,
   "id": "89ee07f2",
   "metadata": {
    "deletable": false,
    "nbgrader": {
     "cell_type": "code",
     "checksum": "a1934d12cdb5793aeb602661ccb5dd8b",
     "grade": false,
     "grade_id": "cell-6510510e34498eab",
     "locked": false,
     "schema_version": 3,
     "solution": true,
     "task": false
    }
   },
   "outputs": [
    {
     "name": "stdout",
     "output_type": "stream",
     "text": [
      "[ 54055.44889899 124225.3389372  255489.37949167 ... 439180.98341183\n",
      " 120797.55240622 183386.04993585]\n"
     ]
    }
   ],
   "source": [
    "\n",
    "\n",
    "# Make predictions on the test set\n",
    "# YOUR CODE HERE\n",
    "y_pred = model.predict(X_test)\n",
    "print(y_pred)"
   ]
  },
  {
   "cell_type": "code",
   "execution_count": 39,
   "id": "82c86411-f9a9-4faa-b4d5-4777f3ad341c",
   "metadata": {
    "deletable": false,
    "editable": false,
    "nbgrader": {
     "cell_type": "code",
     "checksum": "81350f83c25c5e2738be70caf9103aba",
     "grade": true,
     "grade_id": "cell-be3a1bc24dfa91e7",
     "locked": true,
     "points": 1,
     "schema_version": 3,
     "solution": false,
     "task": false
    }
   },
   "outputs": [],
   "source": [
    "#step5.1\n",
    "from sklearn.metrics import mean_absolute_error, mean_squared_error, r2_score\n",
    "def mycheck(yp,yt,error_percent=10):\n",
    "    p=error_percent/100\n",
    "    return yt*(1-p)<yp and yp < yt*(1+p)\n",
    "    \n",
    "mse = mean_squared_error(y_test, y_pred)\n",
    "assert mycheck(mse,4908290571.346)"
   ]
  },
  {
   "cell_type": "markdown",
   "id": "ce022e03-661c-4cb3-b7a6-1d9a3dfdcfc5",
   "metadata": {
    "deletable": false,
    "editable": false,
    "nbgrader": {
     "cell_type": "markdown",
     "checksum": "a0398cd1a023223e44c48f75609129b3",
     "grade": false,
     "grade_id": "cell-b3342a0ed375b9d9",
     "locked": true,
     "schema_version": 3,
     "solution": false,
     "task": false
    }
   },
   "source": [
    "5.2 คำนวณความถูกต้องของโมเดลโดยใช้มาตรวัด mean_absolute_error, mean_squared_error และ r2_score"
   ]
  },
  {
   "cell_type": "code",
   "execution_count": 41,
   "id": "f673dfdf-a639-46f9-b5aa-ad25ce13ecc1",
   "metadata": {
    "deletable": false,
    "nbgrader": {
     "cell_type": "code",
     "checksum": "c877795a9e3b4d0de0a96c2d7e6c4bbf",
     "grade": false,
     "grade_id": "cell-a187fd62b97216c3",
     "locked": false,
     "schema_version": 3,
     "solution": true,
     "task": false
    }
   },
   "outputs": [
    {
     "name": "stdout",
     "output_type": "stream",
     "text": [
      "50670.73824097385 4908476721.156577 0.6254240620553635\n"
     ]
    }
   ],
   "source": [
    "# Calculate Mean Squared Error (MSE)\n",
    "# YOUR CODE HERE\n",
    "\n",
    "mae = mean_absolute_error(y_test, y_pred)\n",
    "mse = mean_squared_error(y_test, y_pred)\n",
    "r2 = r2_score(y_test, y_pred)\n",
    "\n",
    "print(mae, mse, r2)"
   ]
  },
  {
   "cell_type": "code",
   "execution_count": 42,
   "id": "363091d7",
   "metadata": {
    "deletable": false,
    "editable": false,
    "nbgrader": {
     "cell_type": "code",
     "checksum": "3a64ad9e1c26270038f8364bd59c53a2",
     "grade": true,
     "grade_id": "cell-e13ffa942cad9259",
     "locked": true,
     "points": 2,
     "schema_version": 3,
     "solution": false,
     "task": false
    }
   },
   "outputs": [],
   "source": [
    "#step5.2\n",
    "assert  mycheck(mae,50670.489), \"Incorrect Mean Absolute Error (MAE)\"\n",
    "assert mycheck(mse,4908290571.346), \"Incorrect Mean Squared Error (MSE)\"\n",
    "assert mycheck(r2,0.625), \"Incorrect R-squared (R2) score\""
   ]
  },
  {
   "cell_type": "code",
   "execution_count": null,
   "id": "2e18df2b-b0fd-44b6-a484-380a69b9c932",
   "metadata": {},
   "outputs": [],
   "source": []
  }
 ],
 "metadata": {
  "kernelspec": {
   "display_name": "Python 3 (ipykernel)",
   "language": "python",
   "name": "python3"
  },
  "language_info": {
   "codemirror_mode": {
    "name": "ipython",
    "version": 3
   },
   "file_extension": ".py",
   "mimetype": "text/x-python",
   "name": "python",
   "nbconvert_exporter": "python",
   "pygments_lexer": "ipython3",
   "version": "3.10.13"
  }
 },
 "nbformat": 4,
 "nbformat_minor": 5
}
