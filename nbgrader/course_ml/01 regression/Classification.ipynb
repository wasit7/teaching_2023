{
 "cells": [
  {
   "cell_type": "markdown",
   "id": "4ffcec4e",
   "metadata": {},
   "source": [
    "Before you turn this problem in, make sure everything runs as expected. First, **restart the kernel** (in the menubar, select Kernel$\\rightarrow$Restart) and then **run all cells** (in the menubar, select Cell$\\rightarrow$Run All).\n",
    "\n",
    "Make sure you fill in any place that says `YOUR CODE HERE` or \"YOUR ANSWER HERE\", as well as your name and collaborators below:"
   ]
  },
  {
   "cell_type": "code",
   "execution_count": null,
   "id": "c3fc55e2",
   "metadata": {},
   "outputs": [],
   "source": [
    "NAME = \"Wasit\"\n",
    "COLLABORATORS = \"\""
   ]
  },
  {
   "cell_type": "markdown",
   "id": "aa0ba2da",
   "metadata": {},
   "source": [
    "---"
   ]
  },
  {
   "cell_type": "markdown",
   "id": "ce6ed7c6",
   "metadata": {
    "deletable": false,
    "editable": false,
    "nbgrader": {
     "cell_type": "markdown",
     "checksum": "eaf026e8404df957cf16ece2c77c5d30",
     "grade": false,
     "grade_id": "cell-a571863327493058",
     "locked": true,
     "schema_version": 3,
     "solution": false,
     "task": false
    }
   },
   "source": [
    "### Step 1: Select and Explain the Dataset\n",
    "\n",
    "The famous \"Breast Cancer\" dataset from scikit-learn. The Breast Cancer dataset contains features computed from a digitized image of a fine needle aspirate (FNA) of a breast mass. The goal is to classify tumors as malignant or benign based on various characteristics."
   ]
  },
  {
   "cell_type": "markdown",
   "id": "ae6384c9",
   "metadata": {
    "deletable": false,
    "editable": false,
    "nbgrader": {
     "cell_type": "markdown",
     "checksum": "be2662302fc9e0d5803d50a212f1bc8d",
     "grade": false,
     "grade_id": "cell-014575f78d83739e",
     "locked": true,
     "schema_version": 3,
     "solution": false,
     "task": false
    }
   },
   "source": [
    "### Step 2: Read Data (1 point)\n",
    "Read dataset into a Pandas DataFrame."
   ]
  },
  {
   "cell_type": "code",
   "execution_count": null,
   "id": "3cfd5d22",
   "metadata": {
    "deletable": false,
    "nbgrader": {
     "cell_type": "code",
     "checksum": "aea2cb2d31d012858788a19296f5ea93",
     "grade": false,
     "grade_id": "cell-5ce183277081aa38",
     "locked": false,
     "schema_version": 3,
     "solution": true,
     "task": false
    }
   },
   "outputs": [],
   "source": [
    "# YOUR CODE HERE\n",
    "import pandas as pd\n",
    "breast_cancer_data = pd.read_csv('breast_cancer.csv')\n",
    "breast_cancer_data.head()"
   ]
  },
  {
   "cell_type": "code",
   "execution_count": null,
   "id": "20b56a29",
   "metadata": {},
   "outputs": [],
   "source": [
    "breast_cancer_data.info()"
   ]
  },
  {
   "cell_type": "code",
   "execution_count": null,
   "id": "8657cde3",
   "metadata": {
    "deletable": false,
    "editable": false,
    "nbgrader": {
     "cell_type": "code",
     "checksum": "cb1ab9fd52d9f0bd3d93bfc05899d212",
     "grade": true,
     "grade_id": "cell-0f7bf8d5311ac680",
     "locked": true,
     "points": 1,
     "schema_version": 3,
     "solution": false,
     "task": false
    }
   },
   "outputs": [],
   "source": [
    "#step 2\n",
    "assert len(breast_cancer_data) == 569, \"Incorrect number of rows\""
   ]
  },
  {
   "cell_type": "markdown",
   "id": "d5e7b998",
   "metadata": {
    "deletable": false,
    "editable": false,
    "nbgrader": {
     "cell_type": "markdown",
     "checksum": "22da33ca193c306125fa6553ee5759a1",
     "grade": false,
     "grade_id": "cell-5ede6f97ca578e1a",
     "locked": true,
     "schema_version": 3,
     "solution": false,
     "task": false
    }
   },
   "source": [
    "### Step 3: Exploratory Data Analysis (EDA) and Numerical Results (3 points)"
   ]
  },
  {
   "cell_type": "code",
   "execution_count": null,
   "id": "c9021fbf",
   "metadata": {
    "deletable": false,
    "nbgrader": {
     "cell_type": "code",
     "checksum": "7b48feee66d6853ebac76bb5792e4d7f",
     "grade": false,
     "grade_id": "cell-985e49e8cfb5ff4e",
     "locked": false,
     "schema_version": 3,
     "solution": true,
     "task": false
    }
   },
   "outputs": [],
   "source": [
    "# YOUR CODE HERE\n",
    "raise NotImplementedError()"
   ]
  },
  {
   "cell_type": "code",
   "execution_count": null,
   "id": "d52632cc",
   "metadata": {
    "deletable": false,
    "editable": false,
    "nbgrader": {
     "cell_type": "code",
     "checksum": "4baa47e7a068e6cb5e29a4af68a9cab9",
     "grade": true,
     "grade_id": "cell-932f975bc5a37635",
     "locked": true,
     "points": 3,
     "schema_version": 3,
     "solution": false,
     "task": false
    }
   },
   "outputs": [],
   "source": [
    "#step3\n",
    "assert round(mean_radius_mean, 2) == 14.13, \"Incorrect mean mean radius\"\n",
    "assert round(worst_perimeter_max, 2) == 251.2, \"Incorrect max worst perimeter\"\n",
    "assert round(mean_smoothness_sum, 2) == 54.83, \"Incorrect sum mean smoothness\""
   ]
  },
  {
   "cell_type": "markdown",
   "id": "2a95a22b",
   "metadata": {
    "deletable": false,
    "editable": false,
    "nbgrader": {
     "cell_type": "markdown",
     "checksum": "692d9993091755ba4816e08a485e4fd3",
     "grade": false,
     "grade_id": "cell-0709130f89512eb6",
     "locked": true,
     "schema_version": 3,
     "solution": false,
     "task": false
    }
   },
   "source": [
    "### Step 4: Setup Experiment and Model Training (3 points)"
   ]
  },
  {
   "cell_type": "code",
   "execution_count": null,
   "id": "aaf6121a",
   "metadata": {
    "deletable": false,
    "nbgrader": {
     "cell_type": "code",
     "checksum": "a265d0b1ea9ba85a57f55e08363e59e1",
     "grade": false,
     "grade_id": "cell-c7ace6ade31e8be3",
     "locked": false,
     "schema_version": 3,
     "solution": true,
     "task": false
    }
   },
   "outputs": [],
   "source": [
    "# YOUR CODE HERE\n",
    "raise NotImplementedError()"
   ]
  },
  {
   "cell_type": "code",
   "execution_count": null,
   "id": "43397049",
   "metadata": {
    "deletable": false,
    "editable": false,
    "nbgrader": {
     "cell_type": "code",
     "checksum": "871dc256a9ed048ea9c47ac5a0ea4ec2",
     "grade": true,
     "grade_id": "cell-8c31d16161235116",
     "locked": true,
     "points": 3,
     "schema_version": 3,
     "solution": false,
     "task": false
    }
   },
   "outputs": [],
   "source": [
    "#step4\n",
    "# def mycheck(yp,yt,error_percent=10):\n",
    "#     p=error_percent/100\n",
    "#     return yt*(1-p)<yp and yp < yt*(1+p)\n",
    "\n",
    "assert len(X_train) == 455, \"Incorrect number of training samples\"\n",
    "assert len(X_test) == 114, \"Incorrect number of test samples\"\n"
   ]
  },
  {
   "cell_type": "markdown",
   "id": "f2472ece",
   "metadata": {
    "deletable": false,
    "editable": false,
    "nbgrader": {
     "cell_type": "markdown",
     "checksum": "4768c2d41f94ec3b3a31ba79b1a491ba",
     "grade": false,
     "grade_id": "cell-6e6b31589e3436b4",
     "locked": true,
     "schema_version": 3,
     "solution": false,
     "task": false
    }
   },
   "source": [
    "### Step 5: Evaluation (3 points)"
   ]
  },
  {
   "cell_type": "code",
   "execution_count": null,
   "id": "dd65b37a",
   "metadata": {
    "deletable": false,
    "nbgrader": {
     "cell_type": "code",
     "checksum": "96461a81e8052d42b652a7a03132178d",
     "grade": false,
     "grade_id": "cell-6510510e34498eab",
     "locked": false,
     "schema_version": 3,
     "solution": true,
     "task": false
    }
   },
   "outputs": [],
   "source": [
    "# YOUR CODE HERE\n",
    "raise NotImplementedError()"
   ]
  },
  {
   "cell_type": "code",
   "execution_count": null,
   "id": "de9da086",
   "metadata": {
    "deletable": false,
    "editable": false,
    "nbgrader": {
     "cell_type": "code",
     "checksum": "283246056e612fcfa4509c15b08d3217",
     "grade": true,
     "grade_id": "cell-e13ffa942cad9259",
     "locked": true,
     "points": 3,
     "schema_version": 3,
     "solution": false,
     "task": false
    }
   },
   "outputs": [],
   "source": [
    "#step5\n",
    "def mycheck(yp,yt,error_percent=10):\n",
    "    p=error_percent/100\n",
    "    return yt*(1-p)<yp and yp < yt*(1+p)\n",
    "\n",
    "assert mycheck(accuracy,0.965), \"Incorrect accuracy\"\n",
    "assert mycheck(precision,0.959), \"Incorrect precision\"\n",
    "assert mycheck(recall,0.986), \"Incorrect recall\"\n",
    "\n",
    "# assert round(accuracy, 2) == 0.97, \"Incorrect accuracy\"\n",
    "# assert round(precision, 2) == 0.98, \"Incorrect precision\"\n",
    "# assert round(recall, 2) == 0.96, \"Incorrect recall\""
   ]
  },
  {
   "cell_type": "code",
   "execution_count": null,
   "id": "7b8156e7",
   "metadata": {},
   "outputs": [],
   "source": []
  }
 ],
 "metadata": {
  "kernelspec": {
   "display_name": "Python 3 (ipykernel)",
   "language": "python",
   "name": "python3"
  },
  "language_info": {
   "codemirror_mode": {
    "name": "ipython",
    "version": 3
   },
   "file_extension": ".py",
   "mimetype": "text/x-python",
   "name": "python",
   "nbconvert_exporter": "python",
   "pygments_lexer": "ipython3",
   "version": "3.10.13"
  }
 },
 "nbformat": 4,
 "nbformat_minor": 5
}
