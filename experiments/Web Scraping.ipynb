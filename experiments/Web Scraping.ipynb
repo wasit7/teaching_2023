{
 "cells": [
  {
   "cell_type": "code",
   "execution_count": 1,
   "id": "a8128aee-2a11-421e-b6ed-d70db9f89cc2",
   "metadata": {},
   "outputs": [],
   "source": [
    "from playwright.async_api import async_playwright\n",
    "\n",
    "pw = await async_playwright().start()\n",
    "browser = await pw.chromium.launch(headless = False)\n",
    "page = await browser.new_page()\n",
    "\n",
    "\n",
    "# await page.screenshot(path=\"example.png\")\n",
    "# await browser.close()\n",
    "# await pw.stop()\n",
    "\n",
    "url1='https://m.facebook.com/wasitl'\n",
    "url2='https://m.facebook.com/sothna.vicharueng'\n",
    "url3='https://m.facebook.com/zuck'\n",
    "url=url3"
   ]
  },
  {
   "cell_type": "code",
   "execution_count": 2,
   "id": "2376b539-04f6-4490-80b8-e0ed98312799",
   "metadata": {},
   "outputs": [],
   "source": [
    "import time\n",
    "# async with async_playwright() as pw:\n",
    "browser = await pw.chromium.launch(headless = False)\n",
    "page = await browser.new_page()\n",
    "html = await page.goto(url)\n",
    "await page.evaluate(\n",
    "    '''\n",
    "    var intervalID = setInterval(function () {\n",
    "    var scrollingElement = (document.scrollingElement || document.body);\n",
    "    scrollingElement.scrollTop = scrollingElement.scrollHeight;\n",
    "    }, 200);\n",
    "    ''')\n",
    "prev_height = None\n",
    "\"\"\" \n",
    "sometime facebook show page to login \n",
    "i make click to remove login page and continue scroll\n",
    "\n",
    "make the mouse scroll up to make program restart\n",
    "\"\"\"\n",
    "try:\n",
    "    item_close = await page.locator(\"[aria-label=\\\"Close\\\"]\").click()\n",
    "    if item_close is not None:\n",
    "        item_close.click()\n",
    "        page.mouse.wheel(-1000, 0)\n",
    "except :\n",
    "    pass\n",
    "while True:\n",
    "    curr_height = await page.evaluate('(window.innerHeight + window.scrollY)')\n",
    "    if not prev_height:\n",
    "        prev_height = curr_height\n",
    "        # time.sleep(3)\n",
    "    elif prev_height == curr_height:\n",
    "        await page.evaluate('clearInterval(intervalID)')\n",
    "        break\n",
    "    else:\n",
    "        prev_height = curr_height\n",
    "        # time.sleep(10)\n",
    "\n",
    "selector = await page.query_selector('div#root')\n",
    "html = await selector.inner_html()\n",
    "# selector = page.query_selector('div.rq0escxv.l9j0dhe7.du4w35lb')\n",
    "# selector = page.query_selector('div.rq0escxv.l9j0dhe7.du4w35lb')\n",
    "# I save html code in variable to parse it by beautifulSoup\n",
    "# html = selector.inner_html()"
   ]
  },
  {
   "cell_type": "code",
   "execution_count": 3,
   "id": "583f0738-dbdf-4d91-ac58-436b9c69a5f2",
   "metadata": {},
   "outputs": [
    {
     "data": {
      "text/plain": [
       "'Mark Zuckerberg'"
      ]
     },
     "execution_count": 3,
     "metadata": {},
     "output_type": "execute_result"
    }
   ],
   "source": [
    "from bs4 import BeautifulSoup\n",
    "soup = BeautifulSoup(html, \"html.parser\")\n",
    "username = soup.select_one('div#cover-name-root')\n",
    "username.text"
   ]
  },
  {
   "cell_type": "code",
   "execution_count": 4,
   "id": "0686cb03-155b-4136-bf5d-61c1c37288d8",
   "metadata": {},
   "outputs": [
    {
     "data": {
      "text/plain": [
       "['https://scontent.fbkk5-3.fna.fbcdn.net/v/t39.30808-6/305639385_10114682386840871_3268767058260494617_n.jpg?stp=cp0_dst-jpg_e15_q65_s206x206&_nc_cat=105&ccb=1-7&_nc_sid=5f2048&_nc_ohc=WlGUhzXPDZ8AX-4Rmy5&_nc_ht=scontent.fbkk5-3.fna&oh=00_AfDyyiBcEaWByQ9xryT7NHj-sP1Uym6YtRTms90iGy6UKQ&oe=65487561',\n",
       " 'https://scontent.fbkk5-4.fna.fbcdn.net/v/t39.30808-6/283107467_10114484551689101_1906020902928950865_n.jpg?stp=cp0_dst-jpg_e15_p160x160_q65&_nc_cat=103&ccb=1-7&_nc_sid=5f2048&_nc_ohc=PTX7YpRi8VsAX_n2JtD&_nc_ht=scontent.fbkk5-4.fna&oh=00_AfCpac-qIcexEDfbS1LUu10LPcvTf73d7N4DazXXs6KLQA&oe=65480681',\n",
       " 'https://scontent.fbkk5-8.fna.fbcdn.net/v/t39.30808-6/281913662_10114482955418041_2867919805640357486_n.jpg?stp=cp0_dst-jpg_e15_p100x100_q65&_nc_cat=106&ccb=1-7&_nc_sid=5f2048&_nc_ohc=K02K5v3GrUMAX_DkXJX&_nc_ht=scontent.fbkk5-8.fna&oh=00_AfCf-VQWIK5cEQjRld1LPI5CuMbU70l7CRxUnT335ZOAYg&oe=65495EFD',\n",
       " 'https://scontent.fbkk5-5.fna.fbcdn.net/v/t1.6435-9/90633245_10111711606678131_6202964525352747008_n.jpg?stp=cp0_dst-jpg_e15_q65_s118x90&_nc_cat=104&ccb=1-7&_nc_sid=7afa59&_nc_ohc=JM7RLqn5mdcAX9aDQbS&_nc_ht=scontent.fbkk5-5.fna&oh=00_AfAnijAZHMdUEhvWv_yHhTXS9dZI2ISFdhnpIIc0Iwa4Iw&oe=656B5AB1',\n",
       " 'https://scontent.fbkk5-4.fna.fbcdn.net/v/t1.6435-9/86969689_10111561304669561_6769689205271429120_n.jpg?stp=cp0_dst-jpg_e15_q65_s168x128&_nc_cat=110&ccb=1-7&_nc_sid=512d91&_nc_ohc=lWgSP9I0KqIAX89A7HT&_nc_ht=scontent.fbkk5-4.fna&oh=00_AfCrYNEVa4BmwM04g1gst2iaaIzGM3c9W65bFiGIG9Ys7A&oe=656B732F']"
      ]
     },
     "execution_count": 4,
     "metadata": {},
     "output_type": "execute_result"
    }
   ],
   "source": [
    "import re\n",
    "images = soup.select_one('div#profile_photos_unit').find_all('img')\n",
    "img_urls = [img['src'] for img in images]\n",
    "img_urls"
   ]
  },
  {
   "cell_type": "code",
   "execution_count": 5,
   "id": "ff7937ba-2c79-4a9b-8a45-a2d52d0544a5",
   "metadata": {},
   "outputs": [
    {
     "data": {
      "text/plain": [
       "{'Work': [{'_52jd._52jb._52jh._3-8_': 'Chan Zuckerberg Initiative',\n",
       "   '_52jc._52j9': '1 December 2015 - Present'},\n",
       "  {'_52jd._52jb._52jh._3-8_': 'Meta',\n",
       "   '_52jc._52ja': 'Founder and CEO',\n",
       "   '_52jc._52j9': 'Palo Alto, California',\n",
       "   '_52jc._52jb': 'Bringing the world closer together.'}],\n",
       " 'Education': [{'_52jd._52jb._52jh._3-8_': 'Harvard University',\n",
       "   '_52jc._52ja': 'Computer Science and Psychology',\n",
       "   'concs.mfss.fcg': 'Computer Science and Psychology',\n",
       "   '_52jc._52j9': '30 August 2002 - 30 April 2004'},\n",
       "  {'_52jd._52jb._52jh._3-8_': 'Phillips Exeter Academy',\n",
       "   '_52jc._52ja': 'Classics',\n",
       "   'concs.mfss.fcg': 'Classics',\n",
       "   '_52jc._52j9': 'School year 2002'},\n",
       "  {'_52jd._52jb._52jh._3-8_': 'Ardsley High School',\n",
       "   '_52jc._52ja': 'High School',\n",
       "   '_52jc._52j9': 'September 1998 - June 2000'}],\n",
       " 'Places lived': [{'h.4': 'Palo Alto, California',\n",
       "   '_52jc._52ja._52jg': 'Current town/city'},\n",
       "  {'h.4': 'Dobbs Ferry, New York', '_52jc._52ja._52jg': 'Home town'}],\n",
       " 'About Mark': [{}],\n",
       " 'Favourite Quotes': [{}]}"
      ]
     },
     "execution_count": 5,
     "metadata": {},
     "output_type": "execute_result"
    }
   ],
   "source": [
    "main = soup.select_one('div#main_column')\n",
    "data={}\n",
    "for i in main.select('div[data-sigil=profile-card]'):\n",
    "    role=i.select_one('div[role=heading]').text\n",
    "    # print(f'Role:{role}')\n",
    "    \n",
    "    ## exprerience\n",
    "    exp=[]\n",
    "    for j in i.select('div._5cds._2lcw'):\n",
    "        d={}\n",
    "        for k in j.select('div span'):    \n",
    "            key='.'.join(k.get('class',''))\n",
    "            if re.search('\\w{1,}', key):\n",
    "                # print(k)\n",
    "                d[key]=k.text\n",
    "        exp.append(d)\n",
    "    if len(exp):\n",
    "        data[role]=exp\n",
    "    \n",
    "    ## place lived\n",
    "    live=[]\n",
    "    for j in i.select('div._2swz._2lcw'):\n",
    "        d={}\n",
    "        for k in j.select('div header h4'):\n",
    "            key='.'.join(k.get('class','h4'))\n",
    "            if re.search('\\w{1,}', key):\n",
    "                # print(k)\n",
    "                d[key]=k.text\n",
    "        live.append(d)\n",
    "    if len(live):\n",
    "        data[role]=live\n",
    "data"
   ]
  },
  {
   "cell_type": "code",
   "execution_count": null,
   "id": "67673344-9a5d-47d1-b5a6-7100f32ed527",
   "metadata": {},
   "outputs": [],
   "source": [
    "class Result:\n",
    "    def __init__(self, value=None, error=None):\n",
    "        self.value = value\n",
    "        self.error = error\n",
    "\n",
    "    @classmethod\n",
    "    def of(cls, func, *args, **kwargs):\n",
    "        try:\n",
    "            return cls(value=func(*args, **kwargs))\n",
    "        except Exception as e:\n",
    "            return cls(error=str(e))\n",
    "\n",
    "    @staticmethod\n",
    "    def success(x):\n",
    "        return Result(value=x)\n",
    "\n",
    "    @staticmethod\n",
    "    def failure(error):\n",
    "        return Result(error=error)\n",
    "\n",
    "    def is_error(self):\n",
    "        return self.error is not None\n",
    "    \n",
    "    def bind(self, func):\n",
    "        if self.is_error():\n",
    "            return self\n",
    "        return Result.of(func, self.value)\n",
    "\n",
    "    def __repr__(self):\n",
    "        if self.is_error():\n",
    "            return f\"Error({self.error})\"\n",
    "        return f\"Success({self.value})\"\n",
    "    \n",
    "    \n",
    "def resultify(func):\n",
    "    def wrapper(*args, **kwargs):\n",
    "        return Result.of(func, *args, **kwargs)\n",
    "    return wrapper"
   ]
  }
 ],
 "metadata": {
  "kernelspec": {
   "display_name": "Python 3 (ipykernel)",
   "language": "python",
   "name": "python3"
  },
  "language_info": {
   "codemirror_mode": {
    "name": "ipython",
    "version": 3
   },
   "file_extension": ".py",
   "mimetype": "text/x-python",
   "name": "python",
   "nbconvert_exporter": "python",
   "pygments_lexer": "ipython3",
   "version": "3.10.13"
  }
 },
 "nbformat": 4,
 "nbformat_minor": 5
}
