{
 "cells": [
  {
   "cell_type": "code",
   "execution_count": 1,
   "id": "a8128aee-2a11-421e-b6ed-d70db9f89cc2",
   "metadata": {},
   "outputs": [],
   "source": [
    "from playwright.async_api import async_playwright\n",
    "from bs4 import BeautifulSoup\n",
    "import re\n",
    "# await page.screenshot(path=\"example.png\")\n",
    "# await browser.close()\n",
    "# await pw.stop()\n",
    "\n",
    "url1='https://m.facebook.com/wasitl'\n",
    "url2='https://m.facebook.com/sothna.vicharueng'\n",
    "url3='https://m.facebook.com/zuck'\n",
    "url=url3"
   ]
  },
  {
   "cell_type": "code",
   "execution_count": 2,
   "id": "2376b539-04f6-4490-80b8-e0ed98312799",
   "metadata": {},
   "outputs": [],
   "source": [
    "import time\n",
    "async def get_html(url):\n",
    "    async with async_playwright() as pw:\n",
    "        browser = await pw.chromium.launch(headless = False)\n",
    "        page = await browser.new_page()\n",
    "        html = await page.goto(url)\n",
    "        await page.evaluate(\n",
    "            '''\n",
    "            var intervalID = setInterval(function () {\n",
    "            var scrollingElement = (document.scrollingElement || document.body);\n",
    "            scrollingElement.scrollTop = scrollingElement.scrollHeight;\n",
    "            }, 200);\n",
    "            ''')\n",
    "        prev_height = None\n",
    "        \"\"\" \n",
    "        sometime facebook show page to login \n",
    "        i make click to remove login page and continue scroll\n",
    "        \n",
    "        make the mouse scroll up to make program restart\n",
    "        \"\"\"\n",
    "        try:\n",
    "            item_close = await page.locator(\"[aria-label=\\\"Close\\\"]\").click()\n",
    "            if item_close is not None:\n",
    "                item_close.click()\n",
    "                page.mouse.wheel(-1000, 0)\n",
    "        except :\n",
    "            pass\n",
    "        while True:\n",
    "            curr_height = await page.evaluate('(window.innerHeight + window.scrollY)')\n",
    "            if not prev_height:\n",
    "                prev_height = curr_height\n",
    "                # time.sleep(3)\n",
    "            elif prev_height == curr_height:\n",
    "                await page.evaluate('clearInterval(intervalID)')\n",
    "                break\n",
    "            else:\n",
    "                prev_height = curr_height\n",
    "                # time.sleep(10)\n",
    "        \n",
    "        selector = await page.query_selector('div#root')\n",
    "        html = await selector.inner_html()\n",
    "    return html"
   ]
  },
  {
   "cell_type": "code",
   "execution_count": 3,
   "id": "583f0738-dbdf-4d91-ac58-436b9c69a5f2",
   "metadata": {},
   "outputs": [],
   "source": [
    "def get_data(html):\n",
    "    soup = BeautifulSoup(html, \"html.parser\")\n",
    "    username = soup.select_one('div#cover-name-root').text\n",
    "\n",
    "    images = soup.select_one('div#profile_photos_unit').find_all('img')\n",
    "    img_urls = [img['src'] for img in images]\n",
    "\n",
    "    main = soup.select_one('div#main_column')\n",
    "    \n",
    "    data={}\n",
    "    for i in main.select('div[data-sigil=profile-card]'):\n",
    "        role=i.select_one('div[role=heading]').text\n",
    "        # print(f'Role:{role}')\n",
    "        \n",
    "        ## exprerience\n",
    "        exp=[]\n",
    "        for j in i.select('div._5cds._2lcw'):\n",
    "            d={}\n",
    "            for k in j.select('div span'):    \n",
    "                key='.'.join(k.get('class',''))\n",
    "                if re.search('\\w{1,}', key):\n",
    "                    # print(k)\n",
    "                    d[key]=k.text\n",
    "            exp.append(d)\n",
    "        if len(exp):\n",
    "            data[role]=exp\n",
    "        \n",
    "        ## place lived\n",
    "        live=[]\n",
    "        for j in i.select('div._2swz._2lcw'):\n",
    "            d={}\n",
    "            for k in j.select('div header h4'):\n",
    "                key='.'.join(k.get('class','h4'))\n",
    "                if re.search('\\w{1,}', key):\n",
    "                    # print(k)\n",
    "                    d[key]=k.text\n",
    "            live.append(d)\n",
    "        if len(live):\n",
    "            data[role]=live\n",
    "    return {'name':username, 'card':data, 'images':img_urls, }\n",
    "    "
   ]
  },
  {
   "cell_type": "code",
   "execution_count": 4,
   "id": "0686cb03-155b-4136-bf5d-61c1c37288d8",
   "metadata": {},
   "outputs": [
    {
     "data": {
      "text/plain": [
       "{'name': 'Wasit Limprasert',\n",
       " 'card': {'Work': [{'_52jd._52jb._52jh._3-8_': 'Thammasat University',\n",
       "    '_52jc._52ja': 'Lecturer',\n",
       "    '_52jc._52j9': 'May 2014 - Present',\n",
       "    '_52jc._52jb': 'Computer Science'},\n",
       "   {'_52jd._52jb._52jh._3-8_': 'NECTEC NSTDA',\n",
       "    '_52jc._52ja': 'Researcher',\n",
       "    '_52jc._52j9': 'Rangsit, Pathum Thani, Thailand',\n",
       "    '_52jc._52jb': 'Currently working on Computer Graphics and Visualization'},\n",
       "   {'_52jd._52jb._52jh._3-8_': 'Asian Institute of Technology',\n",
       "    '_52jc._52ja': 'computer lab supervisor',\n",
       "    '_52jc._52j9': '2007 - 2008'},\n",
       "   {'_52jd._52jb._52jh._3-8_': 'คณะวิทยาศาสตร์และเทคโนโลยี มหาวิทยาลัยธรรมศาสตร์ ศูนย์รังสิต'}],\n",
       "  'Education': [{'_52jd._52jb._52jh._3-8_': 'Heriot-Watt University',\n",
       "    '_52jc._52ja': 'vision and signal processing',\n",
       "    'concs.mfss.fcg': 'vision and signal processing',\n",
       "    '_52jc._52j9': 'School year 2012'},\n",
       "   {'_52jd._52jb._52jh._3-8_': 'Asian Institute of Technology',\n",
       "    '_52jc._52ja': 'Microelectronics',\n",
       "    'concs.mfss.fcg': 'Microelectronics',\n",
       "    '_52jc._52j9': 'School year 2007'},\n",
       "   {'_52jd._52jb._52jh._3-8_': 'พสวท', '_52jc._52ja': 'University'},\n",
       "   {'_52jd._52jb._52jh._3-8_': 'Mahidol University',\n",
       "    '_52jc._52ja': 'Faculty of Science · Physics',\n",
       "    'concs.mfss.fcg': 'Faculty of Science · Physics',\n",
       "    '_52jc._52j9': 'School year 2004'},\n",
       "   {'_52jd._52jb._52jh._3-8_': 'โรงเรียนมัธยมวัดหนองแขม',\n",
       "    '_52jc._52ja': 'High School',\n",
       "    '_52jc._52j9': 'School year 2001'},\n",
       "   {'_52jd._52jb._52jh._3-8_': 'NK48',\n",
       "    '_52jc._52ja': 'High School',\n",
       "    '_52jc._52j9': 'School year 2000'}]},\n",
       " 'images': ['https://scontent.fbkk5-3.fna.fbcdn.net/v/t1.6435-9/147657421_10160510905353368_7627051026725929744_n.jpg?stp=cp0_dst-jpg_e15_p160x160_q65&_nc_cat=105&ccb=1-7&_nc_sid=efc22e&_nc_ohc=K_4Y7PAnsAwAX8n-jvx&_nc_ht=scontent.fbkk5-3.fna&oh=00_AfDpWMwHFI9KvTy4z2UAx7sHHX3QTkpoIE3uoppnd4iv2g&oe=656B8A3C',\n",
       "  'https://scontent.fbkk5-7.fna.fbcdn.net/v/t1.6435-9/69364643_10158634974323368_6439905763560259584_n.jpg?stp=cp0_dst-jpg_e15_q65_s160x160&_nc_cat=108&ccb=1-7&_nc_sid=efc22e&_nc_ohc=PURCHKBqS2EAX_CRdmQ&_nc_ht=scontent.fbkk5-7.fna&oh=00_AfDLO7nu4lK0PAlkyInaTGKTobg7NBowtErEUkp_PQbmuA&oe=656B8FEF',\n",
       "  'https://scontent.fbkk5-8.fna.fbcdn.net/v/t1.6435-9/45074614_10157744545873368_7501527464728854528_n.jpg?stp=cp0_dst-jpg_e15_q65_s100x100&_nc_cat=106&ccb=1-7&_nc_sid=efc22e&_nc_ohc=Bq5Iw0ioqR4AX_Nq3RY&_nc_ht=scontent.fbkk5-8.fna&oh=00_AfCweaAzlF048yuBCqLrYbmHTO92VYI4hyYe2fVLKNcoow&oe=656B7F40',\n",
       "  'https://scontent.fbkk5-6.fna.fbcdn.net/v/t1.6435-9/36385998_10157394269133368_69930988225953792_n.jpg?stp=cp0_dst-jpg_e15_p100x100_q65&_nc_cat=101&ccb=1-7&_nc_sid=efc22e&_nc_ohc=ENWxfbJ6FgYAX983c1U&_nc_ht=scontent.fbkk5-6.fna&oh=00_AfCmXfQfEHh1JJphv9Pz5EROOM45dzPJ7vYICFWRRPhkoQ&oe=656B83EE',\n",
       "  'https://scontent.fbkk5-3.fna.fbcdn.net/v/t1.6435-9/34774054_10157336431498368_1660825181477666816_n.jpg?stp=cp0_dst-jpg_e15_q65_s100x100&_nc_cat=111&ccb=1-7&_nc_sid=efc22e&_nc_ohc=WvRS0OOEa70AX8w-4G8&_nc_ht=scontent.fbkk5-3.fna&oh=00_AfBibHbw9WLnukTvZhKatitoC9AL4BVGl9xcL1xdPv8gTQ&oe=656B8923']}"
      ]
     },
     "execution_count": 4,
     "metadata": {},
     "output_type": "execute_result"
    }
   ],
   "source": [
    "html= await get_html(url1)\n",
    "get_data(html)"
   ]
  },
  {
   "cell_type": "code",
   "execution_count": 5,
   "id": "ff7937ba-2c79-4a9b-8a45-a2d52d0544a5",
   "metadata": {},
   "outputs": [
    {
     "data": {
      "text/plain": [
       "{'name': 'Sothana Vicharueng (Nai)',\n",
       " 'card': {'Education': [{'_52jd._52jb._52jh._3-8_': 'วินิตศึกษาในพระราชูปถัมภ์',\n",
       "    '_52jc._52ja': 'High School'},\n",
       "   {'_52jd._52jb._52jh._3-8_': 'โรงเรียนสวนกุหลาบวิทยาลัย รังสิต',\n",
       "    '_52jc._52ja': 'High School'}],\n",
       "  'Places lived': [{'h.4': 'Lopburi',\n",
       "    '_52jc._52ja._52jg': 'Current town/city'},\n",
       "   {'h.4': 'Bangkok, Thailand', '_52jc._52ja._52jg': 'Home town'}]},\n",
       " 'images': ['https://scontent.fbkk5-6.fna.fbcdn.net/v/t1.6435-9/96748792_1325680447623063_218624890612219904_n.jpg?stp=cp0_dst-jpg_e15_p160x160_q65&_nc_cat=101&ccb=1-7&_nc_sid=efc22e&_nc_ohc=b5Vj_ed-YKYAX9ahTOT&_nc_ht=scontent.fbkk5-6.fna&oh=00_AfCNbEGMX8mXtfSe93k5dvfPYlBOwTn-ZlMJLkfTBhobVA&oe=656B923D',\n",
       "  'https://scontent.fbkk5-3.fna.fbcdn.net/v/t1.18169-9/20840881_674954342695680_1598823011790338011_n.jpg?stp=cp0_dst-jpg_e15_p160x160_q65&_nc_cat=105&ccb=1-7&_nc_sid=efc22e&_nc_ohc=DN2vMEgyHBEAX82Y-vH&_nc_ht=scontent.fbkk5-3.fna&oh=00_AfCR5OIVtl3GtOEFQaSR4hCr3Cj5ImJ7AfYryEGaYSOEvg&oe=656B9245',\n",
       "  'https://scontent.fbkk5-1.fna.fbcdn.net/v/t1.18169-9/18485348_632158586975256_8861478910550393390_n.jpg?stp=cp0_dst-jpg_e15_p100x100_q65&_nc_cat=109&ccb=1-7&_nc_sid=efc22e&_nc_ohc=dYFRHeEjFD8AX_V2pD7&_nc_ht=scontent.fbkk5-1.fna&oh=00_AfCVKi0pIUwDJVXFjxq-KXlB-0vUTeqol-auaq7BrQfkuw&oe=656B7565',\n",
       "  'https://scontent.fbkk5-7.fna.fbcdn.net/v/t1.18169-9/18033877_619965018194613_8160268623756238457_n.jpg?stp=cp0_dst-jpg_e15_p100x100_q65&_nc_cat=108&ccb=1-7&_nc_sid=efc22e&_nc_ohc=R_uToaGIQrwAX8bO5A8&_nc_ht=scontent.fbkk5-7.fna&oh=00_AfCclYDtlTLT08B3kJbBeyTn4tHFNxwNkol4s4jf49ky7Q&oe=656B7EA3',\n",
       "  'https://scontent.fbkk5-6.fna.fbcdn.net/v/t1.18169-9/14725669_536881723169610_3841764085596390287_n.jpg?stp=cp0_dst-jpg_e15_p100x100_q65&_nc_cat=102&ccb=1-7&_nc_sid=efc22e&_nc_ohc=Jj7d6J-demoAX9KxSEm&_nc_ht=scontent.fbkk5-6.fna&oh=00_AfA2rJbCgJheK1TmezyPzGJcfY0BWWhWKswDuZLIrP7Sbg&oe=656B6A1C']}"
      ]
     },
     "execution_count": 5,
     "metadata": {},
     "output_type": "execute_result"
    }
   ],
   "source": [
    "html= await get_html(url2)\n",
    "get_data(html)"
   ]
  },
  {
   "cell_type": "code",
   "execution_count": 6,
   "id": "67673344-9a5d-47d1-b5a6-7100f32ed527",
   "metadata": {},
   "outputs": [
    {
     "data": {
      "text/plain": [
       "{'name': 'Mark Zuckerberg',\n",
       " 'card': {'Work': [{'_52jd._52jb._52jh._3-8_': 'Chan Zuckerberg Initiative',\n",
       "    '_52jc._52j9': '1 December 2015 - Present'},\n",
       "   {'_52jd._52jb._52jh._3-8_': 'Meta',\n",
       "    '_52jc._52ja': 'Founder and CEO',\n",
       "    '_52jc._52j9': 'Palo Alto, California',\n",
       "    '_52jc._52jb': 'Bringing the world closer together.'}],\n",
       "  'Education': [{'_52jd._52jb._52jh._3-8_': 'Harvard University',\n",
       "    '_52jc._52ja': 'Computer Science and Psychology',\n",
       "    'concs.mfss.fcg': 'Computer Science and Psychology',\n",
       "    '_52jc._52j9': '30 August 2002 - 30 April 2004'},\n",
       "   {'_52jd._52jb._52jh._3-8_': 'Phillips Exeter Academy',\n",
       "    '_52jc._52ja': 'Classics',\n",
       "    'concs.mfss.fcg': 'Classics',\n",
       "    '_52jc._52j9': 'School year 2002'},\n",
       "   {'_52jd._52jb._52jh._3-8_': 'Ardsley High School',\n",
       "    '_52jc._52ja': 'High School',\n",
       "    '_52jc._52j9': 'September 1998 - June 2000'}],\n",
       "  'Places lived': [{'h.4': 'Palo Alto, California',\n",
       "    '_52jc._52ja._52jg': 'Current town/city'},\n",
       "   {'h.4': 'Dobbs Ferry, New York', '_52jc._52ja._52jg': 'Home town'}],\n",
       "  'About Mark': [{}],\n",
       "  'Favourite Quotes': [{}]},\n",
       " 'images': ['https://scontent.fbkk5-3.fna.fbcdn.net/v/t39.30808-6/305639385_10114682386840871_3268767058260494617_n.jpg?stp=cp0_dst-jpg_e15_q65_s206x206&_nc_cat=105&ccb=1-7&_nc_sid=5f2048&_nc_ohc=WlGUhzXPDZ8AX-4Rmy5&_nc_ht=scontent.fbkk5-3.fna&oh=00_AfDyyiBcEaWByQ9xryT7NHj-sP1Uym6YtRTms90iGy6UKQ&oe=65487561',\n",
       "  'https://scontent.fbkk5-4.fna.fbcdn.net/v/t39.30808-6/283107467_10114484551689101_1906020902928950865_n.jpg?stp=cp0_dst-jpg_e15_p160x160_q65&_nc_cat=103&ccb=1-7&_nc_sid=5f2048&_nc_ohc=PTX7YpRi8VsAX_n2JtD&_nc_ht=scontent.fbkk5-4.fna&oh=00_AfCpac-qIcexEDfbS1LUu10LPcvTf73d7N4DazXXs6KLQA&oe=65480681',\n",
       "  'https://scontent.fbkk5-8.fna.fbcdn.net/v/t39.30808-6/281913662_10114482955418041_2867919805640357486_n.jpg?stp=cp0_dst-jpg_e15_p100x100_q65&_nc_cat=106&ccb=1-7&_nc_sid=5f2048&_nc_ohc=K02K5v3GrUMAX_DkXJX&_nc_ht=scontent.fbkk5-8.fna&oh=00_AfCf-VQWIK5cEQjRld1LPI5CuMbU70l7CRxUnT335ZOAYg&oe=65495EFD',\n",
       "  'https://scontent.fbkk5-5.fna.fbcdn.net/v/t1.6435-9/90633245_10111711606678131_6202964525352747008_n.jpg?stp=cp0_dst-jpg_e15_q65_s118x90&_nc_cat=104&ccb=1-7&_nc_sid=7afa59&_nc_ohc=JM7RLqn5mdcAX9aDQbS&_nc_ht=scontent.fbkk5-5.fna&oh=00_AfDz4_i2WUaMhCDlptQ1HGSuMfc5v3v9oYSP5x-8Rz8MqA&oe=656B92F1',\n",
       "  'https://scontent.fbkk5-4.fna.fbcdn.net/v/t1.6435-9/86969689_10111561304669561_6769689205271429120_n.jpg?stp=cp0_dst-jpg_e15_q65_s168x128&_nc_cat=110&ccb=1-7&_nc_sid=512d91&_nc_ohc=lWgSP9I0KqIAX89A7HT&_nc_ht=scontent.fbkk5-4.fna&oh=00_AfCrYNEVa4BmwM04g1gst2iaaIzGM3c9W65bFiGIG9Ys7A&oe=656B732F']}"
      ]
     },
     "execution_count": 6,
     "metadata": {},
     "output_type": "execute_result"
    }
   ],
   "source": [
    "html= await get_html(url3)\n",
    "get_data(html)"
   ]
  },
  {
   "cell_type": "code",
   "execution_count": 7,
   "id": "6bfea617-a0d4-4580-b692-a051a6bbee8c",
   "metadata": {},
   "outputs": [],
   "source": [
    "#https://github.com/sqlalchemy/sqlalchemy/discussions/7634#discussioncomment-2073508"
   ]
  },
  {
   "cell_type": "code",
   "execution_count": null,
   "id": "70739978-9ff3-4c69-b3b6-b19a548730e6",
   "metadata": {},
   "outputs": [],
   "source": []
  }
 ],
 "metadata": {
  "kernelspec": {
   "display_name": "Python 3 (ipykernel)",
   "language": "python",
   "name": "python3"
  },
  "language_info": {
   "codemirror_mode": {
    "name": "ipython",
    "version": 3
   },
   "file_extension": ".py",
   "mimetype": "text/x-python",
   "name": "python",
   "nbconvert_exporter": "python",
   "pygments_lexer": "ipython3",
   "version": "3.10.13"
  }
 },
 "nbformat": 4,
 "nbformat_minor": 5
}
